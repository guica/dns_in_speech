{
 "cells": [
  {
   "cell_type": "code",
   "execution_count": 2,
   "id": "3d622ec3",
   "metadata": {},
   "outputs": [
    {
     "name": "stdout",
     "output_type": "stream",
     "text": [
      "Requirement already satisfied: scikit-learn in /usr/local/lib/python3.8/dist-packages (1.3.0)\n",
      "Requirement already satisfied: glob2 in /usr/local/lib/python3.8/dist-packages (0.7)\n",
      "Requirement already satisfied: tqdm in /usr/local/lib/python3.8/dist-packages (4.66.1)\n",
      "Requirement already satisfied: pesq in /usr/local/lib/python3.8/dist-packages (0.0.4)\n",
      "Requirement already satisfied: joblib>=1.1.1 in /usr/local/lib/python3.8/dist-packages (from scikit-learn) (1.3.2)\n",
      "Requirement already satisfied: threadpoolctl>=2.0.0 in /usr/local/lib/python3.8/dist-packages (from scikit-learn) (3.2.0)\n",
      "Requirement already satisfied: scipy>=1.5.0 in /usr/local/lib/python3.8/dist-packages (from scikit-learn) (1.10.1)\n",
      "Requirement already satisfied: numpy>=1.17.3 in /usr/local/lib/python3.8/dist-packages (from scikit-learn) (1.23.5)\n",
      "\u001b[33mWARNING: Running pip as the 'root' user can result in broken permissions and conflicting behaviour with the system package manager. It is recommended to use a virtual environment instead: https://pip.pypa.io/warnings/venv\u001b[0m\u001b[33m\n",
      "\u001b[0m\n",
      "\u001b[1m[\u001b[0m\u001b[34;49mnotice\u001b[0m\u001b[1;39;49m]\u001b[0m\u001b[39;49m A new release of pip is available: \u001b[0m\u001b[31;49m23.0.1\u001b[0m\u001b[39;49m -> \u001b[0m\u001b[32;49m23.2.1\u001b[0m\n",
      "\u001b[1m[\u001b[0m\u001b[34;49mnotice\u001b[0m\u001b[1;39;49m]\u001b[0m\u001b[39;49m To update, run: \u001b[0m\u001b[32;49mpython3 -m pip install --upgrade pip\u001b[0m\n"
     ]
    }
   ],
   "source": [
    "import sys\n",
    "sys.path.insert(0, '/tf/utils/')"
   ]
  },
  {
   "cell_type": "code",
   "execution_count": 3,
   "id": "3bd29c6f",
   "metadata": {},
   "outputs": [],
   "source": [
    "import numpy as np\n",
    "import os\n",
    "# Definir o nível de log do TensorFlow para ERROR\n",
    "os.environ['TF_CPP_MIN_LOG_LEVEL'] = '2'\n",
    "import tensorflow as tf\n",
    "from tensorflow.keras.layers import Input, Conv1D, Activation, Dropout, Conv1D, Conv1DTranspose, MaxPooling1D, concatenate, Concatenate, LSTM, Dense, SimpleRNN, BatchNormalization, Dropout, BatchNormalization, Add, Flatten, UpSampling1D, UpSampling2D\n",
    "from tensorflow.keras.models import Model, load_model\n",
    "from tensorflow.keras.layers import LayerNormalization, Dropout, MultiHeadAttention, Conv2D, Conv2DTranspose, MaxPooling2D, Permute, Reshape\n",
    "\n",
    "# import sounddevice as sd\n",
    "from scipy.signal import butter, filtfilt\n",
    "from scipy.signal import resample\n",
    "from sklearn.model_selection import train_test_split\n",
    "import matplotlib.pyplot as plt\n",
    "from scipy.io import wavfile\n",
    "from glob2 import glob\n",
    "from tqdm import tqdm\n",
    "from pesq import pesq\n",
    "import matplotlib.pyplot as plt\n",
    "\n",
    "\n",
    "from utils import load_wav, generate_white_gaussian_noise, add_white_gaussian_noise, undersample_signal_with_antialiasing, somar_sinais, calculate_snr\n",
    "from sound import Sound"
   ]
  },
  {
   "cell_type": "code",
   "execution_count": 4,
   "id": "6c6efea6",
   "metadata": {},
   "outputs": [],
   "source": [
    "base_shape_size = 2000"
   ]
  },
  {
   "cell_type": "code",
   "execution_count": 5,
   "id": "cc7e0449",
   "metadata": {},
   "outputs": [
    {
     "name": "stderr",
     "output_type": "stream",
     "text": [
      "Loading clean files: 100%|████████████████| 5476/5476 [00:02<00:00, 2433.42it/s]\n",
      "Loading noise files: 100%|█████████████████| 2000/2000 [00:08<00:00, 236.19it/s]\n"
     ]
    }
   ],
   "source": [
    "sound_base = Sound('./Base/', './ESC-50-master/audio/', base_shape_size)"
   ]
  },
  {
   "cell_type": "code",
   "execution_count": 16,
   "id": "d9370ce0",
   "metadata": {},
   "outputs": [],
   "source": [
    "def calcular_componentes_fourier(sinal):\n",
    "    if len(sinal.shape) == 3 and sinal.shape[2] == 1:\n",
    "        sinal = sinal.reshape(sinal.shape[0], sinal.shape[1])\n",
    "\n",
    "    componentes = np.fft.fft(sinal)\n",
    "    # Obter a magnitude máxima dos componentes\n",
    "    # max_magnitude = np.max(np.abs(componentes), axis=1).reshape(-1, 1)\n",
    "    # Normalizar os componentes para o intervalo [-1, 1]\n",
    "    max_magnitude = 1\n",
    "    # componentes_normalizados = componentes / max_magnitude\n",
    "    res = np.stack((np.real(componentes), np.imag(componentes)), axis=-1)\n",
    "\n",
    "    return np.array(res), max_magnitude\n",
    "\n",
    "def reconstruir_sinal(componentes, max_magnitude):\n",
    "    comp = componentes[:, :, 0] + 1j * componentes[:, :, 1]\n",
    "#     print(comp.shape)\n",
    "    sinal_reconstruido = np.fft.ifft(comp) * max_magnitude\n",
    "    return np.real(sinal_reconstruido)"
   ]
  },
  {
   "cell_type": "code",
   "execution_count": 24,
   "id": "bacdff3c",
   "metadata": {},
   "outputs": [],
   "source": [
    "class DataGenerator:\n",
    "    def __init__(self, sound_files, noise_files):\n",
    "        self.sound_files = sound_files\n",
    "        self.noise_files = noise_files\n",
    "        self.MIN_NOISE_LEVEL = 5\n",
    "        self.MAX_NOISE_LEVEL = 30\n",
    "        \n",
    "        self.model_batch = load_model('chech.h5')\n",
    "\n",
    "    def generate_sample_completo(self, batch_size=32):\n",
    "        while True:\n",
    "            # Carrega um lote de sons\n",
    "            sound_batch_choices = np.random.choice(self.sound_files.shape[0], size=batch_size, replace=False)\n",
    "            sound_batch = self.sound_files[sound_batch_choices]\n",
    "            \n",
    "            # Carrega um lote de ruídos\n",
    "            noise_batch_choices = np.random.choice(self.noise_files.shape[0], size=batch_size, replace=False)\n",
    "            noise_batch = self.noise_files[noise_batch_choices]\n",
    "            \n",
    "            x1_train = []\n",
    "            x2_train = []\n",
    "            y_train = []\n",
    "            \n",
    "            # Adiciona ruído a cada som e calcula a nota PESQ\n",
    "            for sound, noise in zip(sound_batch, noise_batch):\n",
    "                sr = np.random.randint(-5, 60, size=(1,)[0])\n",
    "                noisy_sound = somar_sinais(sound, noise, sr)\n",
    "                \n",
    "                noisy_sound = add_white_gaussian_noise(noisy_sound, np.random.randint(5, 30, size=(1,)[0]))\n",
    "                noisy_sound = np.clip(noisy_sound, -1, 1)\n",
    "                \n",
    "                comp, _ = calcular_componentes_fourier(noisy_sound.reshape(-1, base_shape_size))\n",
    "                original_sound, _ = calcular_componentes_fourier(sound.reshape(-1, base_shape_size))\n",
    "                \n",
    "#                 filtered = self.model_batch.predict(\n",
    "#                     np.concatenate((original_sound.reshape(base_shape_size, 2), filtered.reshape(base_shape_size, 2)), axis=-1)\n",
    "#                     comp.reshape(-1, base_shape_size, 2), verbose=0)\n",
    "#                 filtered_sound = reconstruir_sinal(filtered, 1)\n",
    "    \n",
    "                # Calcula a nota PESQ\n",
    "                pesq_score = 1.0\n",
    "#                 try:\n",
    "#                     pesq_score = pesq(8000, sound, filtered_sound.reshape(-1), 'nb')\n",
    "#                 except:\n",
    "#                     continue\n",
    "#                 valor_min = -0.6\n",
    "#                 valor_max = 4.6\n",
    "#                 pesq_score = (pesq_score - valor_min) / (valor_max - valor_min)\n",
    "#                 pesq_score = min(pesq_score + 0.2, 1.0)\n",
    "                \n",
    "                # Formata dados para treinamento\n",
    "                original_sound = original_sound.reshape((base_shape_size, 2))\n",
    "                d_sound = comp.reshape((base_shape_size, 2))\n",
    "                \n",
    "#                 merged_array = np.concatenate((original_sound, d_sound), axis=1)\n",
    "                \n",
    "                # Adiciona o exemplo ao lote de treinamento\n",
    "                x1_train.append(d_sound)\n",
    "                x2_train.append(original_sound)\n",
    "                y_train.append(pesq_score)\n",
    "            \n",
    "            yield [np.array(x1_train), np.array(x2_train)], np.array(y_train)"
   ]
  },
  {
   "cell_type": "code",
   "execution_count": 25,
   "id": "220dc876",
   "metadata": {},
   "outputs": [],
   "source": [
    "# Carregar o modelo treinado\n",
    "modelo_pesq = load_model('chech.h5')\n",
    "\n",
    "# Definir seus pesos como não treináveis\n",
    "for layer in modelo_pesq.layers:\n",
    "    layer.trainable = False"
   ]
  },
  {
   "cell_type": "code",
   "execution_count": 26,
   "id": "769d4100",
   "metadata": {},
   "outputs": [
    {
     "name": "stderr",
     "output_type": "stream",
     "text": [
      "2023-08-14 04:08:15.641160: I tensorflow/core/common_runtime/executor.cc:1197] [/device:CPU:0] (DEBUG INFO) Executor start aborting (this does not indicate an error and you can ignore this message): INVALID_ARGUMENT: You must feed a value for placeholder tensor 'gradients/split_2_grad/concat/split_2/split_dim' with dtype int32\n",
      "\t [[{{node gradients/split_2_grad/concat/split_2/split_dim}}]]\n",
      "2023-08-14 04:08:15.642572: I tensorflow/core/common_runtime/executor.cc:1197] [/device:CPU:0] (DEBUG INFO) Executor start aborting (this does not indicate an error and you can ignore this message): INVALID_ARGUMENT: You must feed a value for placeholder tensor 'gradients/split_grad/concat/split/split_dim' with dtype int32\n",
      "\t [[{{node gradients/split_grad/concat/split/split_dim}}]]\n",
      "2023-08-14 04:08:15.643572: I tensorflow/core/common_runtime/executor.cc:1197] [/device:CPU:0] (DEBUG INFO) Executor start aborting (this does not indicate an error and you can ignore this message): INVALID_ARGUMENT: You must feed a value for placeholder tensor 'gradients/split_1_grad/concat/split_1/split_dim' with dtype int32\n",
      "\t [[{{node gradients/split_1_grad/concat/split_1/split_dim}}]]\n",
      "2023-08-14 04:08:15.881728: I tensorflow/core/common_runtime/executor.cc:1197] [/device:CPU:0] (DEBUG INFO) Executor start aborting (this does not indicate an error and you can ignore this message): INVALID_ARGUMENT: You must feed a value for placeholder tensor 'gradients/split_2_grad/concat/split_2/split_dim' with dtype int32\n",
      "\t [[{{node gradients/split_2_grad/concat/split_2/split_dim}}]]\n",
      "2023-08-14 04:08:15.883101: I tensorflow/core/common_runtime/executor.cc:1197] [/device:CPU:0] (DEBUG INFO) Executor start aborting (this does not indicate an error and you can ignore this message): INVALID_ARGUMENT: You must feed a value for placeholder tensor 'gradients/split_grad/concat/split/split_dim' with dtype int32\n",
      "\t [[{{node gradients/split_grad/concat/split/split_dim}}]]\n",
      "2023-08-14 04:08:15.884173: I tensorflow/core/common_runtime/executor.cc:1197] [/device:CPU:0] (DEBUG INFO) Executor start aborting (this does not indicate an error and you can ignore this message): INVALID_ARGUMENT: You must feed a value for placeholder tensor 'gradients/split_1_grad/concat/split_1/split_dim' with dtype int32\n",
      "\t [[{{node gradients/split_1_grad/concat/split_1/split_dim}}]]\n"
     ]
    }
   ],
   "source": [
    "model_pre = load_model('modelo-pre-fourier-09-06-2023.h5')"
   ]
  },
  {
   "cell_type": "code",
   "execution_count": 27,
   "id": "82bd35d9",
   "metadata": {},
   "outputs": [
    {
     "name": "stderr",
     "output_type": "stream",
     "text": [
      "2023-08-14 04:08:39.744041: I tensorflow/core/common_runtime/executor.cc:1197] [/device:CPU:0] (DEBUG INFO) Executor start aborting (this does not indicate an error and you can ignore this message): INVALID_ARGUMENT: You must feed a value for placeholder tensor 'gradients/split_2_grad/concat/split_2/split_dim' with dtype int32\n",
      "\t [[{{node gradients/split_2_grad/concat/split_2/split_dim}}]]\n",
      "2023-08-14 04:08:39.745347: I tensorflow/core/common_runtime/executor.cc:1197] [/device:CPU:0] (DEBUG INFO) Executor start aborting (this does not indicate an error and you can ignore this message): INVALID_ARGUMENT: You must feed a value for placeholder tensor 'gradients/split_grad/concat/split/split_dim' with dtype int32\n",
      "\t [[{{node gradients/split_grad/concat/split/split_dim}}]]\n",
      "2023-08-14 04:08:39.746235: I tensorflow/core/common_runtime/executor.cc:1197] [/device:CPU:0] (DEBUG INFO) Executor start aborting (this does not indicate an error and you can ignore this message): INVALID_ARGUMENT: You must feed a value for placeholder tensor 'gradients/split_1_grad/concat/split_1/split_dim' with dtype int32\n",
      "\t [[{{node gradients/split_1_grad/concat/split_1/split_dim}}]]\n",
      "2023-08-14 04:08:39.882984: I tensorflow/core/common_runtime/executor.cc:1197] [/device:CPU:0] (DEBUG INFO) Executor start aborting (this does not indicate an error and you can ignore this message): INVALID_ARGUMENT: You must feed a value for placeholder tensor 'gradients/split_2_grad/concat/split_2/split_dim' with dtype int32\n",
      "\t [[{{node gradients/split_2_grad/concat/split_2/split_dim}}]]\n",
      "2023-08-14 04:08:39.884218: I tensorflow/core/common_runtime/executor.cc:1197] [/device:CPU:0] (DEBUG INFO) Executor start aborting (this does not indicate an error and you can ignore this message): INVALID_ARGUMENT: You must feed a value for placeholder tensor 'gradients/split_grad/concat/split/split_dim' with dtype int32\n",
      "\t [[{{node gradients/split_grad/concat/split/split_dim}}]]\n",
      "2023-08-14 04:08:39.885203: I tensorflow/core/common_runtime/executor.cc:1197] [/device:CPU:0] (DEBUG INFO) Executor start aborting (this does not indicate an error and you can ignore this message): INVALID_ARGUMENT: You must feed a value for placeholder tensor 'gradients/split_1_grad/concat/split_1/split_dim' with dtype int32\n",
      "\t [[{{node gradients/split_1_grad/concat/split_1/split_dim}}]]\n"
     ]
    }
   ],
   "source": [
    "input_novo = Input(shape=(base_shape_size, 2))\n",
    "input_concat = Input(shape=(base_shape_size, 2))\n",
    "\n",
    "output_novo = model_pre(input_novo)\n",
    "output_concat = concatenate([input_concat, output_novo], axis=-1)\n",
    "\n",
    "completo = modelo_pesq(output_concat)\n",
    "\n",
    "modelo_final = Model(inputs=[input_novo, input_concat], outputs=completo)"
   ]
  },
  {
   "cell_type": "code",
   "execution_count": 28,
   "id": "31ea624f",
   "metadata": {},
   "outputs": [
    {
     "name": "stdout",
     "output_type": "stream",
     "text": [
      "Model: \"model_7\"\n",
      "__________________________________________________________________________________________________\n",
      " Layer (type)                   Output Shape         Param #     Connected to                     \n",
      "==================================================================================================\n",
      " input_5 (InputLayer)           [(None, 2000, 2)]    0           []                               \n",
      "                                                                                                  \n",
      " input_6 (InputLayer)           [(None, 2000, 2)]    0           []                               \n",
      "                                                                                                  \n",
      " model_8 (Functional)           (None, 2000, 2)      4831490     ['input_5[0][0]']                \n",
      "                                                                                                  \n",
      " concatenate_2 (Concatenate)    (None, 2000, 4)      0           ['input_6[0][0]',                \n",
      "                                                                  'model_8[0][0]']                \n",
      "                                                                                                  \n",
      " model (Functional)             (None, 1)            8750753     ['concatenate_2[0][0]']          \n",
      "                                                                                                  \n",
      "==================================================================================================\n",
      "Total params: 13,582,243\n",
      "Trainable params: 4,831,490\n",
      "Non-trainable params: 8,750,753\n",
      "__________________________________________________________________________________________________\n"
     ]
    }
   ],
   "source": [
    "modelo_final.summary()"
   ]
  },
  {
   "cell_type": "code",
   "execution_count": 29,
   "id": "8d4c267b",
   "metadata": {},
   "outputs": [],
   "source": [
    "# Crie uma instância do DataGenerator\n",
    "data_generator_train = DataGenerator(sound_base.train_X, sound_base.noise_sounds)\n",
    "data_generator_val = DataGenerator(sound_base.val_X, sound_base.noise_sounds)"
   ]
  },
  {
   "cell_type": "code",
   "execution_count": 30,
   "id": "e6c2bc4a",
   "metadata": {},
   "outputs": [],
   "source": [
    "validation_batch = next(data_generator_val.generate_sample_completo(batch_size=32))\n",
    "x_val, y_val = validation_batch"
   ]
  },
  {
   "cell_type": "code",
   "execution_count": 31,
   "id": "4afcc4ec",
   "metadata": {},
   "outputs": [
    {
     "data": {
      "text/plain": [
       "(32, 2000, 2)"
      ]
     },
     "execution_count": 31,
     "metadata": {},
     "output_type": "execute_result"
    }
   ],
   "source": [
    "x_val[0].shape"
   ]
  },
  {
   "cell_type": "code",
   "execution_count": 32,
   "id": "27c4efa4",
   "metadata": {},
   "outputs": [
    {
     "name": "stdout",
     "output_type": "stream",
     "text": [
      "Starting training\n",
      "Epoch 1\n"
     ]
    },
    {
     "name": "stderr",
     "output_type": "stream",
     "text": [
      "2023-08-14 04:08:47.896989: I tensorflow/core/common_runtime/executor.cc:1197] [/device:CPU:0] (DEBUG INFO) Executor start aborting (this does not indicate an error and you can ignore this message): INVALID_ARGUMENT: You must feed a value for placeholder tensor 'Placeholder/_0' with dtype int32\n",
      "\t [[{{node Placeholder/_0}}]]\n",
      "2023-08-14 04:08:48.078303: I tensorflow/core/common_runtime/executor.cc:1197] [/device:CPU:0] (DEBUG INFO) Executor start aborting (this does not indicate an error and you can ignore this message): INVALID_ARGUMENT: You must feed a value for placeholder tensor 'gradients/split_2_grad/concat/split_2/split_dim' with dtype int32\n",
      "\t [[{{node gradients/split_2_grad/concat/split_2/split_dim}}]]\n",
      "2023-08-14 04:08:48.079379: I tensorflow/core/common_runtime/executor.cc:1197] [/device:CPU:0] (DEBUG INFO) Executor start aborting (this does not indicate an error and you can ignore this message): INVALID_ARGUMENT: You must feed a value for placeholder tensor 'gradients/split_grad/concat/split/split_dim' with dtype int32\n",
      "\t [[{{node gradients/split_grad/concat/split/split_dim}}]]\n",
      "2023-08-14 04:08:48.080331: I tensorflow/core/common_runtime/executor.cc:1197] [/device:CPU:0] (DEBUG INFO) Executor start aborting (this does not indicate an error and you can ignore this message): INVALID_ARGUMENT: You must feed a value for placeholder tensor 'gradients/split_1_grad/concat/split_1/split_dim' with dtype int32\n",
      "\t [[{{node gradients/split_1_grad/concat/split_1/split_dim}}]]\n",
      "2023-08-14 04:08:48.234722: I tensorflow/core/common_runtime/executor.cc:1197] [/device:CPU:0] (DEBUG INFO) Executor start aborting (this does not indicate an error and you can ignore this message): INVALID_ARGUMENT: You must feed a value for placeholder tensor 'gradients/split_2_grad/concat/split_2/split_dim' with dtype int32\n",
      "\t [[{{node gradients/split_2_grad/concat/split_2/split_dim}}]]\n",
      "2023-08-14 04:08:48.236661: I tensorflow/core/common_runtime/executor.cc:1197] [/device:CPU:0] (DEBUG INFO) Executor start aborting (this does not indicate an error and you can ignore this message): INVALID_ARGUMENT: You must feed a value for placeholder tensor 'gradients/split_grad/concat/split/split_dim' with dtype int32\n",
      "\t [[{{node gradients/split_grad/concat/split/split_dim}}]]\n",
      "2023-08-14 04:08:48.238009: I tensorflow/core/common_runtime/executor.cc:1197] [/device:CPU:0] (DEBUG INFO) Executor start aborting (this does not indicate an error and you can ignore this message): INVALID_ARGUMENT: You must feed a value for placeholder tensor 'gradients/split_1_grad/concat/split_1/split_dim' with dtype int32\n",
      "\t [[{{node gradients/split_1_grad/concat/split_1/split_dim}}]]\n",
      "2023-08-14 04:08:49.646624: I tensorflow/core/common_runtime/executor.cc:1197] [/device:CPU:0] (DEBUG INFO) Executor start aborting (this does not indicate an error and you can ignore this message): INVALID_ARGUMENT: You must feed a value for placeholder tensor 'gradients/split_2_grad/concat/split_2/split_dim' with dtype int32\n",
      "\t [[{{node gradients/split_2_grad/concat/split_2/split_dim}}]]\n",
      "2023-08-14 04:08:49.647974: I tensorflow/core/common_runtime/executor.cc:1197] [/device:CPU:0] (DEBUG INFO) Executor start aborting (this does not indicate an error and you can ignore this message): INVALID_ARGUMENT: You must feed a value for placeholder tensor 'gradients/split_grad/concat/split/split_dim' with dtype int32\n",
      "\t [[{{node gradients/split_grad/concat/split/split_dim}}]]\n",
      "2023-08-14 04:08:49.648966: I tensorflow/core/common_runtime/executor.cc:1197] [/device:CPU:0] (DEBUG INFO) Executor start aborting (this does not indicate an error and you can ignore this message): INVALID_ARGUMENT: You must feed a value for placeholder tensor 'gradients/split_1_grad/concat/split_1/split_dim' with dtype int32\n",
      "\t [[{{node gradients/split_1_grad/concat/split_1/split_dim}}]]\n",
      "2023-08-14 04:08:49.808582: I tensorflow/core/common_runtime/executor.cc:1197] [/device:CPU:0] (DEBUG INFO) Executor start aborting (this does not indicate an error and you can ignore this message): INVALID_ARGUMENT: You must feed a value for placeholder tensor 'gradients/split_2_grad/concat/split_2/split_dim' with dtype int32\n",
      "\t [[{{node gradients/split_2_grad/concat/split_2/split_dim}}]]\n",
      "2023-08-14 04:08:49.809748: I tensorflow/core/common_runtime/executor.cc:1197] [/device:CPU:0] (DEBUG INFO) Executor start aborting (this does not indicate an error and you can ignore this message): INVALID_ARGUMENT: You must feed a value for placeholder tensor 'gradients/split_grad/concat/split/split_dim' with dtype int32\n",
      "\t [[{{node gradients/split_grad/concat/split/split_dim}}]]\n",
      "2023-08-14 04:08:49.810727: I tensorflow/core/common_runtime/executor.cc:1197] [/device:CPU:0] (DEBUG INFO) Executor start aborting (this does not indicate an error and you can ignore this message): INVALID_ARGUMENT: You must feed a value for placeholder tensor 'gradients/split_1_grad/concat/split_1/split_dim' with dtype int32\n",
      "\t [[{{node gradients/split_1_grad/concat/split_1/split_dim}}]]\n"
     ]
    },
    {
     "name": "stdout",
     "output_type": "stream",
     "text": [
      "509/509 [==============================] - ETA: 0s - loss: 0.1095"
     ]
    },
    {
     "name": "stderr",
     "output_type": "stream",
     "text": [
      "2023-08-14 04:10:53.717603: I tensorflow/core/common_runtime/executor.cc:1197] [/device:CPU:0] (DEBUG INFO) Executor start aborting (this does not indicate an error and you can ignore this message): INVALID_ARGUMENT: You must feed a value for placeholder tensor 'gradients/split_2_grad/concat/split_2/split_dim' with dtype int32\n",
      "\t [[{{node gradients/split_2_grad/concat/split_2/split_dim}}]]\n",
      "2023-08-14 04:10:53.718884: I tensorflow/core/common_runtime/executor.cc:1197] [/device:CPU:0] (DEBUG INFO) Executor start aborting (this does not indicate an error and you can ignore this message): INVALID_ARGUMENT: You must feed a value for placeholder tensor 'gradients/split_grad/concat/split/split_dim' with dtype int32\n",
      "\t [[{{node gradients/split_grad/concat/split/split_dim}}]]\n",
      "2023-08-14 04:10:53.719884: I tensorflow/core/common_runtime/executor.cc:1197] [/device:CPU:0] (DEBUG INFO) Executor start aborting (this does not indicate an error and you can ignore this message): INVALID_ARGUMENT: You must feed a value for placeholder tensor 'gradients/split_1_grad/concat/split_1/split_dim' with dtype int32\n",
      "\t [[{{node gradients/split_1_grad/concat/split_1/split_dim}}]]\n",
      "2023-08-14 04:10:53.859357: I tensorflow/core/common_runtime/executor.cc:1197] [/device:CPU:0] (DEBUG INFO) Executor start aborting (this does not indicate an error and you can ignore this message): INVALID_ARGUMENT: You must feed a value for placeholder tensor 'gradients/split_2_grad/concat/split_2/split_dim' with dtype int32\n",
      "\t [[{{node gradients/split_2_grad/concat/split_2/split_dim}}]]\n",
      "2023-08-14 04:10:53.860839: I tensorflow/core/common_runtime/executor.cc:1197] [/device:CPU:0] (DEBUG INFO) Executor start aborting (this does not indicate an error and you can ignore this message): INVALID_ARGUMENT: You must feed a value for placeholder tensor 'gradients/split_grad/concat/split/split_dim' with dtype int32\n",
      "\t [[{{node gradients/split_grad/concat/split/split_dim}}]]\n",
      "2023-08-14 04:10:53.861915: I tensorflow/core/common_runtime/executor.cc:1197] [/device:CPU:0] (DEBUG INFO) Executor start aborting (this does not indicate an error and you can ignore this message): INVALID_ARGUMENT: You must feed a value for placeholder tensor 'gradients/split_1_grad/concat/split_1/split_dim' with dtype int32\n",
      "\t [[{{node gradients/split_1_grad/concat/split_1/split_dim}}]]\n"
     ]
    },
    {
     "name": "stdout",
     "output_type": "stream",
     "text": [
      "509/509 [==============================] - 127s 241ms/step - loss: 0.1095 - val_loss: 0.0950\n",
      "Epoch 2\n"
     ]
    },
    {
     "name": "stderr",
     "output_type": "stream",
     "text": [
      "2023-08-14 04:10:54.642005: I tensorflow/core/common_runtime/executor.cc:1197] [/device:CPU:0] (DEBUG INFO) Executor start aborting (this does not indicate an error and you can ignore this message): INVALID_ARGUMENT: You must feed a value for placeholder tensor 'Placeholder/_0' with dtype int32\n",
      "\t [[{{node Placeholder/_0}}]]\n"
     ]
    },
    {
     "name": "stdout",
     "output_type": "stream",
     "text": [
      "509/509 [==============================] - 123s 242ms/step - loss: 0.0983 - val_loss: 0.0908\n",
      "Epoch 3\n"
     ]
    },
    {
     "name": "stderr",
     "output_type": "stream",
     "text": [
      "2023-08-14 04:12:57.953067: I tensorflow/core/common_runtime/executor.cc:1197] [/device:CPU:0] (DEBUG INFO) Executor start aborting (this does not indicate an error and you can ignore this message): INVALID_ARGUMENT: You must feed a value for placeholder tensor 'Placeholder/_0' with dtype int32\n",
      "\t [[{{node Placeholder/_0}}]]\n"
     ]
    },
    {
     "name": "stdout",
     "output_type": "stream",
     "text": [
      "509/509 [==============================] - 124s 243ms/step - loss: 0.0898 - val_loss: 0.0726\n",
      "Epoch 4\n"
     ]
    },
    {
     "name": "stderr",
     "output_type": "stream",
     "text": [
      "2023-08-14 04:15:01.755538: I tensorflow/core/common_runtime/executor.cc:1197] [/device:CPU:0] (DEBUG INFO) Executor start aborting (this does not indicate an error and you can ignore this message): INVALID_ARGUMENT: You must feed a value for placeholder tensor 'Placeholder/_0' with dtype int32\n",
      "\t [[{{node Placeholder/_0}}]]\n"
     ]
    },
    {
     "name": "stdout",
     "output_type": "stream",
     "text": [
      "509/509 [==============================] - 123s 242ms/step - loss: 0.0843 - val_loss: 0.0752\n",
      "Epoch 5\n"
     ]
    },
    {
     "name": "stderr",
     "output_type": "stream",
     "text": [
      "2023-08-14 04:17:05.167118: I tensorflow/core/common_runtime/executor.cc:1197] [/device:CPU:0] (DEBUG INFO) Executor start aborting (this does not indicate an error and you can ignore this message): INVALID_ARGUMENT: You must feed a value for placeholder tensor 'Placeholder/_0' with dtype int32\n",
      "\t [[{{node Placeholder/_0}}]]\n"
     ]
    },
    {
     "name": "stdout",
     "output_type": "stream",
     "text": [
      "509/509 [==============================] - 124s 243ms/step - loss: 0.0803 - val_loss: 0.0835\n"
     ]
    }
   ],
   "source": [
    "from keras.optimizers import Adam\n",
    "from keras.callbacks import ReduceLROnPlateau\n",
    "from keras.regularizers import l2\n",
    "\n",
    "# Definir taxa de aprendizado e fator de decaimento\n",
    "learning_rate = 1e-5\n",
    "decay_factor = 0.1\n",
    "\n",
    "# Definir taxa de aprendizado para as camadas adicionais\n",
    "additional_layers_lr = 0.001\n",
    "\n",
    "# Compilar o modelo final com os ajustes\n",
    "optimizer = Adam(learning_rate=learning_rate)\n",
    "modelo_final.compile(optimizer='sgd', loss='mse')\n",
    "\n",
    "# # Ajustar a taxa de aprendizado das camadas adicionais\n",
    "# for layer in modelo_final.layers:\n",
    "#     if layer.trainable:\n",
    "#         layer.learning_rate = additional_layers_lr\n",
    "\n",
    "# Definir tamanho do lote e número de passos por época\n",
    "batch_size = 64\n",
    "steps_per_epoch = len(sound_base.train_X) // batch_size\n",
    "\n",
    "# Definir decaimento da taxa de aprendizado\n",
    "lr_decay = ReduceLROnPlateau(factor=decay_factor)\n",
    "\n",
    "print('Starting training')\n",
    "\n",
    "for epoch in range(5):\n",
    "    print(f\"Epoch {epoch + 1}\")\n",
    "    \n",
    "    # Gera um novo lote de validação para cada época\n",
    "    validation_batch = next(data_generator_val.generate_sample_completo(batch_size=batch_size))\n",
    "    x_val, y_val = validation_batch\n",
    "    \n",
    "    modelo_final.fit(data_generator_train.generate_sample_completo(batch_size=batch_size),\n",
    "                     steps_per_epoch=steps_per_epoch,\n",
    "                     epochs=1,\n",
    "                     validation_data=(x_val, y_val),\n",
    "#                      callbacks=[lr_decay]\n",
    "                    )\n",
    "\n",
    "    inferencia_modelo_novo = Model(inputs=input_novo, outputs=output_novo)\n",
    "    inferencia_modelo_novo.compile(optimizer=optimizer, loss='mse')\n",
    "    inferencia_modelo_novo.save('epoch-{}-refinado_na_pesq.h5'.format(epoch+1))"
   ]
  },
  {
   "cell_type": "code",
   "execution_count": 33,
   "id": "6fb70321",
   "metadata": {},
   "outputs": [],
   "source": [
    "inferencia_modelo_novo = Model(inputs=input_novo, outputs=output_novo)\n",
    "inferencia_modelo_novo.compile(optimizer=optimizer, loss='mse')\n",
    "inferencia_modelo_novo.save('refinado_na_pesq_4p0e-5.h5')"
   ]
  },
  {
   "cell_type": "code",
   "execution_count": null,
   "id": "d398d1f7",
   "metadata": {},
   "outputs": [],
   "source": []
  }
 ],
 "metadata": {
  "kernelspec": {
   "display_name": "Python 3 (ipykernel)",
   "language": "python",
   "name": "python3"
  },
  "language_info": {
   "codemirror_mode": {
    "name": "ipython",
    "version": 3
   },
   "file_extension": ".py",
   "mimetype": "text/x-python",
   "name": "python",
   "nbconvert_exporter": "python",
   "pygments_lexer": "ipython3",
   "version": "3.8.10"
  }
 },
 "nbformat": 4,
 "nbformat_minor": 5
}
