{
 "cells": [
  {
   "cell_type": "code",
   "execution_count": 1,
   "id": "5b377136-ff4d-471f-9836-0c44b0f4570a",
   "metadata": {},
   "outputs": [],
   "source": [
    "import sys\n",
    "sys.path.insert(0, '/tf/utils/')"
   ]
  },
  {
   "cell_type": "code",
   "execution_count": 2,
   "id": "254e6953-616a-437c-9e33-da6ea4ae5d65",
   "metadata": {},
   "outputs": [],
   "source": [
    "from utils import performance\n",
    "from evaluate import NoisyTargetEvaluator\n",
    "import tensorflow.keras.backend as K\n",
    "from keras.utils import custom_object_scope\n",
    "import tensorflow as tf"
   ]
  },
  {
   "cell_type": "code",
   "execution_count": 3,
   "id": "c1d71fa2-de83-4ea4-81a3-ccbecc2191be",
   "metadata": {},
   "outputs": [],
   "source": [
    "base_shape_size = 8192\n",
    "ws = 255\n",
    "ol = 128"
   ]
  },
  {
   "cell_type": "code",
   "execution_count": 5,
   "id": "8b513aa1-8b7a-49f8-9d5a-0e99d7f1219f",
   "metadata": {},
   "outputs": [],
   "source": [
    "def weighted_msle(y_true, y_pred):\n",
    "    # Define o peso para penalizar mais as subestimações\n",
    "    w = 2.0\n",
    "\n",
    "    # Evita valores negativos adicionando 1 antes de aplicar o log\n",
    "    log_true = 20 * tf.math.log(y_true + 1)\n",
    "    log_pred = 20 * tf.math.log(y_pred + 1)\n",
    "\n",
    "    # Cálculo do erro\n",
    "    error = log_true - log_pred\n",
    "\n",
    "    # Aplica pesos diferentes para superestimação e subestimação\n",
    "    weighted_error = tf.where(error > 0, w * error, error)\n",
    "\n",
    "    # Retorna a média do erro logarítmico quadrado ponderado\n",
    "    return tf.reduce_mean(tf.abs(weighted_error))"
   ]
  },
  {
   "cell_type": "code",
   "execution_count": 6,
   "id": "9703a781-1231-49c5-9877-f07ff980665d",
   "metadata": {},
   "outputs": [
    {
     "name": "stderr",
     "output_type": "stream",
     "text": [
      "Loading Speech Files: 100%|██████████| 819/819 [00:01<00:00, 452.41it/s]\n",
      "\n"
     ]
    }
   ],
   "source": [
    "with custom_object_scope({'weighted_msle': weighted_msle}):\n",
    "    eval = NoisyTargetEvaluator(\n",
    "                base_shape_size,\n",
    "                '/tf/Dados/Vozes/test/',\n",
    "                '/tf/Dados/Ruido/test/',\n",
    "                './models/att-res-unet-loss-0.5484-epochs-41-2023-11-23_12-17-40.h5',\n",
    "                'Attention Residual U-Net'\n",
    "            )"
   ]
  },
  {
   "cell_type": "code",
   "execution_count": 8,
   "id": "7a36f36c-d78d-4b43-80cb-e13187b05372",
   "metadata": {},
   "outputs": [
    {
     "name": "stderr",
     "output_type": "stream",
     "text": [
      " 52%|█████▏    | 26/50 [03:01<02:47,  6.96s/it]/usr/local/lib/python3.8/dist-packages/pystoi/stoi.py:66: RuntimeWarning: Not enough STFT frames to compute intermediate intelligibility measure after removing silent frames. Returning 1e-5. Please check you wav files\n",
      "  warnings.warn('Not enough STFT frames to compute intermediate '\n",
      "100%|██████████| 50/50 [05:52<00:00,  7.05s/it]\n"
     ]
    },
    {
     "name": "stdout",
     "output_type": "stream",
     "text": [
      "File saved to Attention Residual U-Net-metrics_2023-11-29_00-23-50.xlsx\n"
     ]
    }
   ],
   "source": [
    "df_resultado = eval.evaluate(batch_num=50, module_only=True)"
   ]
  },
  {
   "cell_type": "code",
   "execution_count": 9,
   "id": "7ad846b4-8d15-4a2f-97f4-34f00660e130",
   "metadata": {},
   "outputs": [
    {
     "data": {
      "text/html": [
       "<div>\n",
       "<style scoped>\n",
       "    .dataframe tbody tr th:only-of-type {\n",
       "        vertical-align: middle;\n",
       "    }\n",
       "\n",
       "    .dataframe tbody tr th {\n",
       "        vertical-align: top;\n",
       "    }\n",
       "\n",
       "    .dataframe thead th {\n",
       "        text-align: right;\n",
       "    }\n",
       "</style>\n",
       "<table border=\"1\" class=\"dataframe\">\n",
       "  <thead>\n",
       "    <tr style=\"text-align: right;\">\n",
       "      <th></th>\n",
       "      <th>PESQ</th>\n",
       "      <th>STOI</th>\n",
       "      <th>SNR</th>\n",
       "      <th>PESQ (Filtered)</th>\n",
       "      <th>STOI (Filtered)</th>\n",
       "      <th>SNR (Filtered)</th>\n",
       "    </tr>\n",
       "  </thead>\n",
       "  <tbody>\n",
       "    <tr>\n",
       "      <th>count</th>\n",
       "      <td>6386.000000</td>\n",
       "      <td>6386.000000</td>\n",
       "      <td>6386.000000</td>\n",
       "      <td>6386.000000</td>\n",
       "      <td>6386.000000</td>\n",
       "      <td>6386.000000</td>\n",
       "    </tr>\n",
       "    <tr>\n",
       "      <th>mean</th>\n",
       "      <td>2.128068</td>\n",
       "      <td>0.847709</td>\n",
       "      <td>9.321164</td>\n",
       "      <td>3.174915</td>\n",
       "      <td>0.896044</td>\n",
       "      <td>11.515781</td>\n",
       "    </tr>\n",
       "    <tr>\n",
       "      <th>std</th>\n",
       "      <td>0.555968</td>\n",
       "      <td>0.132823</td>\n",
       "      <td>5.593846</td>\n",
       "      <td>0.645557</td>\n",
       "      <td>0.104411</td>\n",
       "      <td>4.429138</td>\n",
       "    </tr>\n",
       "    <tr>\n",
       "      <th>min</th>\n",
       "      <td>1.052631</td>\n",
       "      <td>0.000010</td>\n",
       "      <td>-0.110167</td>\n",
       "      <td>1.040000</td>\n",
       "      <td>0.000010</td>\n",
       "      <td>-1.774675</td>\n",
       "    </tr>\n",
       "    <tr>\n",
       "      <th>25%</th>\n",
       "      <td>1.697100</td>\n",
       "      <td>0.782099</td>\n",
       "      <td>4.842880</td>\n",
       "      <td>2.722067</td>\n",
       "      <td>0.863119</td>\n",
       "      <td>7.973616</td>\n",
       "    </tr>\n",
       "    <tr>\n",
       "      <th>50%</th>\n",
       "      <td>2.061256</td>\n",
       "      <td>0.886126</td>\n",
       "      <td>9.634803</td>\n",
       "      <td>3.251435</td>\n",
       "      <td>0.929969</td>\n",
       "      <td>11.148349</td>\n",
       "    </tr>\n",
       "    <tr>\n",
       "      <th>75%</th>\n",
       "      <td>2.467189</td>\n",
       "      <td>0.948356</td>\n",
       "      <td>13.997268</td>\n",
       "      <td>3.693687</td>\n",
       "      <td>0.965991</td>\n",
       "      <td>14.675514</td>\n",
       "    </tr>\n",
       "    <tr>\n",
       "      <th>max</th>\n",
       "      <td>4.443657</td>\n",
       "      <td>0.999070</td>\n",
       "      <td>29.110978</td>\n",
       "      <td>4.373991</td>\n",
       "      <td>0.998661</td>\n",
       "      <td>29.469428</td>\n",
       "    </tr>\n",
       "  </tbody>\n",
       "</table>\n",
       "</div>"
      ],
      "text/plain": [
       "              PESQ         STOI          SNR  PESQ (Filtered)  \\\n",
       "count  6386.000000  6386.000000  6386.000000      6386.000000   \n",
       "mean      2.128068     0.847709     9.321164         3.174915   \n",
       "std       0.555968     0.132823     5.593846         0.645557   \n",
       "min       1.052631     0.000010    -0.110167         1.040000   \n",
       "25%       1.697100     0.782099     4.842880         2.722067   \n",
       "50%       2.061256     0.886126     9.634803         3.251435   \n",
       "75%       2.467189     0.948356    13.997268         3.693687   \n",
       "max       4.443657     0.999070    29.110978         4.373991   \n",
       "\n",
       "       STOI (Filtered)  SNR (Filtered)  \n",
       "count      6386.000000     6386.000000  \n",
       "mean          0.896044       11.515781  \n",
       "std           0.104411        4.429138  \n",
       "min           0.000010       -1.774675  \n",
       "25%           0.863119        7.973616  \n",
       "50%           0.929969       11.148349  \n",
       "75%           0.965991       14.675514  \n",
       "max           0.998661       29.469428  "
      ]
     },
     "execution_count": 9,
     "metadata": {},
     "output_type": "execute_result"
    }
   ],
   "source": [
    "df_resultado.describe()"
   ]
  },
  {
   "cell_type": "code",
   "execution_count": null,
   "id": "35a01e66-2491-4c97-85b0-d04003eccc82",
   "metadata": {},
   "outputs": [],
   "source": []
  }
 ],
 "metadata": {
  "kernelspec": {
   "display_name": "Python 3 (ipykernel)",
   "language": "python",
   "name": "python3"
  },
  "language_info": {
   "codemirror_mode": {
    "name": "ipython",
    "version": 3
   },
   "file_extension": ".py",
   "mimetype": "text/x-python",
   "name": "python",
   "nbconvert_exporter": "python",
   "pygments_lexer": "ipython3",
   "version": "3.8.10"
  }
 },
 "nbformat": 4,
 "nbformat_minor": 5
}
