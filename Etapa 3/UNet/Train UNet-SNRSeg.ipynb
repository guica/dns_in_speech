{
 "cells": [
  {
   "cell_type": "code",
   "execution_count": 1,
   "id": "d3567740-e156-4354-981a-b0812a80fd84",
   "metadata": {},
   "outputs": [],
   "source": [
    "import sys\n",
    "sys.path.insert(0, '/tf/utils/')"
   ]
  },
  {
   "cell_type": "code",
   "execution_count": 30,
   "id": "d7106098-410e-4834-b509-5ea04d0ec4e4",
   "metadata": {},
   "outputs": [],
   "source": [
    "import numpy as np\n",
    "import os\n",
    "# Definir o nível de log do TensorFlow para ERROR\n",
    "os.environ['TF_CPP_MIN_LOG_LEVEL'] = '2'\n",
    "import tensorflow as tf\n",
    "from tensorflow.keras.models import Model, load_model\n",
    "import tensorflow.keras.backend as K\n",
    "from tensorflow.keras.layers import Attention, Add, BatchNormalization, Lambda, Activation, Multiply, Dense, Flatten, Input, Concatenate, concatenate, UpSampling2D, LayerNormalization, Dropout, Conv2D, Conv2DTranspose, MaxPooling2D, Reshape, Conv2DTranspose\n",
    "from tensorflow import keras\n",
    "from utils import add_white_gaussian_noise, somar_sinais, performance\n",
    "\n",
    "import matplotlib.pyplot as plt\n",
    "from IPython.display import Audio\n",
    "from scipy.signal import stft, istft\n",
    "import librosa\n",
    "from datetime import datetime"
   ]
  },
  {
   "cell_type": "code",
   "execution_count": 3,
   "id": "7187c738-c9ad-4bb9-98a7-f7adf7b14999",
   "metadata": {},
   "outputs": [],
   "source": [
    "from sound import Sound"
   ]
  },
  {
   "cell_type": "code",
   "execution_count": 4,
   "id": "19d0fc63-45cc-4771-b40b-e535da4b11e0",
   "metadata": {},
   "outputs": [],
   "source": [
    "base_shape_size = 8192\n",
    "ws = 255\n",
    "ol = 128\n",
    "NORM_FACTOR = 128"
   ]
  },
  {
   "cell_type": "code",
   "execution_count": 5,
   "id": "049cd878-1194-4b91-8da7-983a330c927b",
   "metadata": {},
   "outputs": [
    {
     "name": "stderr",
     "output_type": "stream",
     "text": [
      "Loading clean files: 100%|██████████| 5476/5476 [00:01<00:00, 2891.22it/s]\n",
      "Loading noise files: 100%|██████████| 2000/2000 [00:09<00:00, 215.99it/s]\n"
     ]
    }
   ],
   "source": [
    "sound_base = Sound('../../Dados/Base/', '../../Dados/ESC-50-master/audio/', base_shape_size)"
   ]
  },
  {
   "cell_type": "code",
   "execution_count": 6,
   "id": "7a0b5605-3079-4ee7-adbe-3d8b2e9e737f",
   "metadata": {},
   "outputs": [],
   "source": [
    "def calculate_stft_magnitude_and_phase(signal, sampling_rate=8000, window_size=ws, overlap=ol):\n",
    "    # Calcula a STFT usando a biblioteca librosa\n",
    "    stft_result = librosa.stft(signal, n_fft=window_size, hop_length=overlap)\n",
    "    \n",
    "    magnitude, phase = librosa.magphase(stft_result)\n",
    "    phi = np.angle(phase)\n",
    "    f = librosa.fft_frequencies(sr=sampling_rate, n_fft=window_size)\n",
    "    t = librosa.frames_to_time(np.arange(stft_result.shape[1]), sr=sampling_rate, hop_length=overlap)\n",
    "\n",
    "    return magnitude, phi, f, t\n",
    "\n",
    "def reconstruct_signal_from_stft(magnitude, phi, sampling_rate=8000, window_size=ws, overlap=ol):\n",
    "    # Reconstruct the signal from magnitude and phase\n",
    "    complex_spec = magnitude * np.exp(1j * phi)\n",
    "    signal = librosa.istft(complex_spec, hop_length=overlap)\n",
    "\n",
    "    return signal"
   ]
  },
  {
   "cell_type": "code",
   "execution_count": 7,
   "id": "7780f925-ddd9-4bc1-8835-aa782aad74e0",
   "metadata": {},
   "outputs": [],
   "source": [
    "class DataGenerator:\n",
    "    def __init__(self, sound_files, noise_files):\n",
    "        self.sound_files = sound_files\n",
    "        self.noise_files = noise_files\n",
    "\n",
    "    def generate_sample_completo(self, batch_size=32):\n",
    "        while True:\n",
    "            # Carrega um lote de sons\n",
    "            sound_batch_choices = np.random.choice(self.sound_files.shape[0], size=batch_size, replace=False)\n",
    "            sound_batch = self.sound_files[sound_batch_choices]\n",
    "            \n",
    "            # Carrega um lote de ruídos\n",
    "            noise_batch_choices = np.random.choice(self.noise_files.shape[0], size=batch_size, replace=False)\n",
    "            noise_batch = self.noise_files[noise_batch_choices]\n",
    "            \n",
    "            x_train = []\n",
    "            x_snr_train = []\n",
    "            y_train = []\n",
    "            \n",
    "            # Adiciona ruído a cada som e calcula a nota PESQ\n",
    "            for sound, noise in zip(sound_batch, noise_batch):\n",
    "                # noisy_sound = somar_sinais(sound, noise, sr)\n",
    "                min_valor = np.min(sound)\n",
    "                max_valor = np.max(sound)\n",
    "                \n",
    "                # Defina o novo intervalo desejado\n",
    "                novo_min = -0.4\n",
    "                novo_max = 0.4\n",
    "                \n",
    "                # Realize a escala do sinal para o novo intervalo\n",
    "                sound_escalado = (sound - min_valor) / (max_valor - min_valor) * (novo_max - novo_min) + novo_min\n",
    "\n",
    "                sr = np.random.randint(0, 20, size=(1,)[0])\n",
    "                noisy_sound = somar_sinais(sound_escalado, noise, sr)\n",
    "                \n",
    "                # noisy_sound = add_white_gaussian_noise(noisy_sound, np.random.randint(20, 30, size=(1,)[0]))\n",
    "                noisy_sound = add_white_gaussian_noise(noisy_sound, np.random.randint(20, 30, size=(1,)[0]))\n",
    "                noisy_sound = np.clip(noisy_sound, -1.0, 1.0)\n",
    "                \n",
    "                A, phi, _, _ = calculate_stft_magnitude_and_phase(sound_escalado)\n",
    "                A_noisy, phi_noisy, _, _ = calculate_stft_magnitude_and_phase(noisy_sound)\n",
    "\n",
    "                \n",
    "                # 1. Calcule a magnitude do ruído em cada frame\n",
    "                Mag_ruido = np.abs(A - A_noisy)\n",
    "\n",
    "                # 2. Calcule a SNR para cada frame\n",
    "                P_sinal = np.sum(A**2, axis=0)\n",
    "                P_ruido = np.sum(Mag_ruido**2, axis=0)\n",
    "                SNR = 10 * np.log10(P_sinal / P_ruido)\n",
    "                SNR = SNR.reshape(1, SNR.shape[0], 1)\n",
    "\n",
    "                # Monta o fasor normalizando a faze por Pi\n",
    "                F = np.concatenate([A.reshape(A.shape[0], A.shape[1], 1), (phi.reshape(phi.shape[0], phi.shape[1], 1) / (2*np.pi)) + 0.5], axis=-1)\n",
    "                F_noisy = np.concatenate([A_noisy.reshape(A_noisy.shape[0], A_noisy.shape[1], 1), (phi_noisy.reshape(phi_noisy.shape[0], phi_noisy.shape[1], 1) / (2*np.pi)) + 0.5], axis=-1)\n",
    "                \n",
    "                # Adiciona o exemplo ao lote de treinamento\n",
    "                x_train.append(F_noisy)\n",
    "                y_train.append(F)\n",
    "                x_snr_train.append(SNR)\n",
    "                \n",
    "\n",
    "            x_train = np.array(x_train)\n",
    "            y_train = np.array(y_train)\n",
    "            x_snr_train = np.array(x_snr_train)\n",
    "\n",
    "            yield (x_train, x_snr_train), y_train"
   ]
  },
  {
   "cell_type": "code",
   "execution_count": 8,
   "id": "f23e3d06-5341-44cc-9116-c7ef2d125f5c",
   "metadata": {},
   "outputs": [],
   "source": [
    "data_generator_train = DataGenerator(sound_base.train_X, sound_base.noise_sounds)\n",
    "data_generator_val = DataGenerator(sound_base.val_X, sound_base.noise_sounds)"
   ]
  },
  {
   "cell_type": "code",
   "execution_count": 9,
   "id": "e99a141d-9dba-493b-8881-bb4dea558d80",
   "metadata": {},
   "outputs": [],
   "source": [
    "def unet(inputs, snrs):\n",
    "    # Codificador\n",
    "    conv1 = Conv2D(64, 3, activation='relu', padding='same')(inputs)\n",
    "    # Passar níveis de SNR por camadas Fully Connected\n",
    "    flatten_snr = Flatten()(snrs)\n",
    "    fc1_snr = Dense(64, activation='relu')(flatten_snr)\n",
    "    fc1_snr = Dense(64, activation='sigmoid')(fc1_snr)\n",
    "    reshaped_fc_output = Reshape((64, 1))(fc1_snr)\n",
    "    pool1 = MaxPooling2D(pool_size=(2, 2))(conv1)\n",
    "    \n",
    "\n",
    "    conv2 = Conv2D(128, 3, activation='relu', padding='same')(pool1)\n",
    "    fc2_snr = Dense(64, activation='relu')(flatten_snr)\n",
    "    fc2_snr = Dense(128, activation='sigmoid')(fc2_snr)\n",
    "    reshaped_fc_output2 = Reshape((1, 1, 128))(fc2_snr)\n",
    "    pool2 = MaxPooling2D(pool_size=(2, 2))(conv2)\n",
    "    # pool2 = BatchNormalization()(pool2)\n",
    "    \n",
    "    # Camada central\n",
    "    conv3 = Conv2D(256, 3, activation='relu', padding='same')(pool2)\n",
    "    \n",
    "    # Decodificador\n",
    "    up4 = UpSampling2D(size=(2, 2))(conv3)\n",
    "    up4 = Conv2D(128, 2, activation='relu', padding='same')(up4)\n",
    "    mlt1 = Multiply()([conv2, reshaped_fc_output2])\n",
    "    merge4 = concatenate([mlt1, up4], axis=3)\n",
    "    # merge4 = concatenate([conv2, up4], axis=3)\n",
    "    conv4 = Conv2D(128, 3, activation='relu', padding='same')(merge4)\n",
    "    \n",
    "    up5 = UpSampling2D(size=(2, 2))(conv4)\n",
    "    up5 = Conv2D(64, 2, activation='relu', padding='same')(up5)\n",
    "    mlt1 = Multiply()([conv1, reshaped_fc_output])\n",
    "    merge5 = concatenate([mlt1, up5], axis=3)\n",
    "    # merge5 = concatenate([conv1, up5], axis=3)\n",
    "    conv5 = Conv2D(64, 3, activation='relu', padding='same')(merge5)\n",
    "    \n",
    "    # Camada de saída\n",
    "    output = Conv2D(2, 3, activation='linear', padding='same')(conv5)\n",
    "\n",
    "    return output"
   ]
  },
  {
   "cell_type": "code",
   "execution_count": 10,
   "id": "45db6386-a597-4e33-8270-28189be8a171",
   "metadata": {},
   "outputs": [],
   "source": [
    "inputs = Input((128, 64, 2))\n",
    "snrs = Input((1, 64, 1))\n",
    "outputs = unet(inputs, snrs)\n",
    "model = Model(inputs=[inputs, snrs], outputs=outputs)"
   ]
  },
  {
   "cell_type": "code",
   "execution_count": 11,
   "id": "1a2d4d16-c29a-433d-bf22-def2b5dcbb89",
   "metadata": {},
   "outputs": [
    {
     "name": "stdout",
     "output_type": "stream",
     "text": [
      "Model: \"model\"\n",
      "__________________________________________________________________________________________________\n",
      " Layer (type)                   Output Shape         Param #     Connected to                     \n",
      "==================================================================================================\n",
      " input_1 (InputLayer)           [(None, 128, 64, 2)  0           []                               \n",
      "                                ]                                                                 \n",
      "                                                                                                  \n",
      " conv2d (Conv2D)                (None, 128, 64, 64)  1216        ['input_1[0][0]']                \n",
      "                                                                                                  \n",
      " input_2 (InputLayer)           [(None, 1, 64, 1)]   0           []                               \n",
      "                                                                                                  \n",
      " max_pooling2d (MaxPooling2D)   (None, 64, 32, 64)   0           ['conv2d[0][0]']                 \n",
      "                                                                                                  \n",
      " flatten (Flatten)              (None, 64)           0           ['input_2[0][0]']                \n",
      "                                                                                                  \n",
      " conv2d_1 (Conv2D)              (None, 64, 32, 128)  73856       ['max_pooling2d[0][0]']          \n",
      "                                                                                                  \n",
      " dense_2 (Dense)                (None, 64)           4160        ['flatten[0][0]']                \n",
      "                                                                                                  \n",
      " max_pooling2d_1 (MaxPooling2D)  (None, 32, 16, 128)  0          ['conv2d_1[0][0]']               \n",
      "                                                                                                  \n",
      " dense_3 (Dense)                (None, 128)          8320        ['dense_2[0][0]']                \n",
      "                                                                                                  \n",
      " conv2d_2 (Conv2D)              (None, 32, 16, 256)  295168      ['max_pooling2d_1[0][0]']        \n",
      "                                                                                                  \n",
      " reshape_1 (Reshape)            (None, 1, 1, 128)    0           ['dense_3[0][0]']                \n",
      "                                                                                                  \n",
      " up_sampling2d (UpSampling2D)   (None, 64, 32, 256)  0           ['conv2d_2[0][0]']               \n",
      "                                                                                                  \n",
      " multiply (Multiply)            (None, 64, 32, 128)  0           ['conv2d_1[0][0]',               \n",
      "                                                                  'reshape_1[0][0]']              \n",
      "                                                                                                  \n",
      " conv2d_3 (Conv2D)              (None, 64, 32, 128)  131200      ['up_sampling2d[0][0]']          \n",
      "                                                                                                  \n",
      " dense (Dense)                  (None, 64)           4160        ['flatten[0][0]']                \n",
      "                                                                                                  \n",
      " concatenate (Concatenate)      (None, 64, 32, 256)  0           ['multiply[0][0]',               \n",
      "                                                                  'conv2d_3[0][0]']               \n",
      "                                                                                                  \n",
      " dense_1 (Dense)                (None, 64)           4160        ['dense[0][0]']                  \n",
      "                                                                                                  \n",
      " conv2d_4 (Conv2D)              (None, 64, 32, 128)  295040      ['concatenate[0][0]']            \n",
      "                                                                                                  \n",
      " reshape (Reshape)              (None, 64, 1)        0           ['dense_1[0][0]']                \n",
      "                                                                                                  \n",
      " up_sampling2d_1 (UpSampling2D)  (None, 128, 64, 128  0          ['conv2d_4[0][0]']               \n",
      "                                )                                                                 \n",
      "                                                                                                  \n",
      " multiply_1 (Multiply)          (None, 128, 64, 64)  0           ['conv2d[0][0]',                 \n",
      "                                                                  'reshape[0][0]']                \n",
      "                                                                                                  \n",
      " conv2d_5 (Conv2D)              (None, 128, 64, 64)  32832       ['up_sampling2d_1[0][0]']        \n",
      "                                                                                                  \n",
      " concatenate_1 (Concatenate)    (None, 128, 64, 128  0           ['multiply_1[0][0]',             \n",
      "                                )                                 'conv2d_5[0][0]']               \n",
      "                                                                                                  \n",
      " conv2d_6 (Conv2D)              (None, 128, 64, 64)  73792       ['concatenate_1[0][0]']          \n",
      "                                                                                                  \n",
      " conv2d_7 (Conv2D)              (None, 128, 64, 2)   1154        ['conv2d_6[0][0]']               \n",
      "                                                                                                  \n",
      "==================================================================================================\n",
      "Total params: 925,058\n",
      "Trainable params: 925,058\n",
      "Non-trainable params: 0\n",
      "__________________________________________________________________________________________________\n"
     ]
    }
   ],
   "source": [
    "model.summary()"
   ]
  },
  {
   "cell_type": "code",
   "execution_count": 12,
   "id": "679b7b1f-c220-4ee1-ae0d-4871de0661ec",
   "metadata": {},
   "outputs": [],
   "source": [
    "model.compile(optimizer='adam', loss='msle')"
   ]
  },
  {
   "cell_type": "code",
   "execution_count": 14,
   "id": "5a66d88e-2037-4c4b-8abe-657f962a7d5e",
   "metadata": {},
   "outputs": [
    {
     "name": "stdout",
     "output_type": "stream",
     "text": [
      "Starting training\n",
      "Epoch 1\n",
      "47/47 [==============================] - 18s 372ms/step - loss: 0.0203 - val_loss: 0.0205\n",
      "Epoch 2\n",
      "47/47 [==============================] - 18s 372ms/step - loss: 0.0201 - val_loss: 0.0201\n",
      "Epoch 3\n",
      "47/47 [==============================] - 18s 373ms/step - loss: 0.0201 - val_loss: 0.0201\n",
      "Epoch 4\n",
      "47/47 [==============================] - 18s 375ms/step - loss: 0.0199 - val_loss: 0.0201\n",
      "Epoch 5\n",
      "47/47 [==============================] - 18s 373ms/step - loss: 0.0198 - val_loss: 0.0204\n",
      "Epoch 6\n",
      "47/47 [==============================] - 18s 373ms/step - loss: 0.0197 - val_loss: 0.0197\n",
      "Epoch 7\n",
      "47/47 [==============================] - 18s 373ms/step - loss: 0.0197 - val_loss: 0.0202\n",
      "Epoch 8\n",
      "47/47 [==============================] - 18s 373ms/step - loss: 0.0196 - val_loss: 0.0196\n",
      "Epoch 9\n",
      "47/47 [==============================] - 18s 373ms/step - loss: 0.0195 - val_loss: 0.0203\n",
      "Epoch 10\n",
      "47/47 [==============================] - 18s 374ms/step - loss: 0.0194 - val_loss: 0.0194\n"
     ]
    }
   ],
   "source": [
    "batch_size = 128\n",
    "steps_per_epoch = len(sound_base.train_X) // batch_size\n",
    "\n",
    "print('Starting training')\n",
    "\n",
    "for epoch in range(10):\n",
    "    print(f\"Epoch {epoch + 1}\")\n",
    "    \n",
    "    # Gera um novo lote de validação para cada época\n",
    "    validation_batch = next(data_generator_val.generate_sample_completo(batch_size=batch_size))\n",
    "    x_val, y_val = validation_batch\n",
    "    \n",
    "    model.fit(data_generator_train.generate_sample_completo(batch_size=batch_size),\n",
    "                     steps_per_epoch=steps_per_epoch,\n",
    "                     epochs=1,\n",
    "                     validation_data=(x_val, y_val),\n",
    "                    )"
   ]
  },
  {
   "cell_type": "code",
   "execution_count": 15,
   "id": "753f6b1a-3aba-4136-8bda-4522dab36abc",
   "metadata": {},
   "outputs": [],
   "source": [
    "# Get the current datetime\n",
    "current_datetime = datetime.now()\n",
    "\n",
    "# Format the datetime as a string to use in the file name\n",
    "datetime_str = current_datetime.strftime(\"%Y-%m-%d_%H-%M-%S\")\n",
    "\n",
    "model.save('unet-snr-STFT-30-epochs-'+datetime_str+'.h5')"
   ]
  },
  {
   "cell_type": "markdown",
   "id": "2d04c826-e4c7-4ad1-ac78-9a1920cab4bd",
   "metadata": {},
   "source": [
    "## Teste do modelo treinado"
   ]
  },
  {
   "cell_type": "code",
   "execution_count": 1,
   "id": "5b1bede0-33da-40dd-97e5-7c5de8f6dcc5",
   "metadata": {},
   "outputs": [
    {
     "ename": "NameError",
     "evalue": "name 'data_generator_val' is not defined",
     "output_type": "error",
     "traceback": [
      "\u001b[0;31m---------------------------------------------------------------------------\u001b[0m",
      "\u001b[0;31mNameError\u001b[0m                                 Traceback (most recent call last)",
      "Cell \u001b[0;32mIn[1], line 1\u001b[0m\n\u001b[0;32m----> 1\u001b[0m (x_test, snr_test), y_test \u001b[38;5;241m=\u001b[39m \u001b[38;5;28mnext\u001b[39m(\u001b[43mdata_generator_val\u001b[49m\u001b[38;5;241m.\u001b[39mgenerate_sample_completo(batch_size\u001b[38;5;241m=\u001b[39m\u001b[38;5;241m1\u001b[39m))\n",
      "\u001b[0;31mNameError\u001b[0m: name 'data_generator_val' is not defined"
     ]
    }
   ],
   "source": [
    "(x_test, snr_test), y_test = next(data_generator_val.generate_sample_completo(batch_size=1))"
   ]
  },
  {
   "cell_type": "code",
   "execution_count": null,
   "id": "d50ad51e-e219-49c7-b9de-26aa99efb6c8",
   "metadata": {},
   "outputs": [],
   "source": [
    "print(np.max(x_test[:, :, : , 0]))\n",
    "print(np.min(x_test[:, :, : , 0]))\n",
    "print(np.max(y_test[:, :, : , 0]))\n",
    "print(np.min(y_test[:, :, : , 0]))"
   ]
  },
  {
   "cell_type": "code",
   "execution_count": null,
   "id": "ec3b3ca9-eca6-4633-873a-7ef978b789ef",
   "metadata": {},
   "outputs": [],
   "source": [
    "F_f = model.predict([x_test, snr_test])"
   ]
  },
  {
   "cell_type": "code",
   "execution_count": null,
   "id": "9867717c-0f02-4f50-99ca-aea2e8347813",
   "metadata": {},
   "outputs": [],
   "source": [
    "print(np.max(F_f))\n",
    "print(np.min(F_f))\n",
    "print(F_f.shape)"
   ]
  },
  {
   "cell_type": "code",
   "execution_count": null,
   "id": "31e3e270-8538-4c1b-83fc-981d3307b153",
   "metadata": {},
   "outputs": [],
   "source": [
    "A = y_test.reshape(y_test.shape[1], y_test.shape[2], y_test.shape[3])[:, :, 0]\n",
    "phi = (y_test.reshape(y_test.shape[1], y_test.shape[2], y_test.shape[3])[:, :, 1] - 0.5) * 2 * np.pi\n",
    "\n",
    "A_f = F_f.reshape(F_f.shape[1], F_f.shape[2], F_f.shape[3])[:, :, 0]\n",
    "phi_f = (F_f.reshape(F_f.shape[1], F_f.shape[2], F_f.shape[3])[:, :, 1] - 0.5) * 2 * np.pi\n",
    "\n",
    "A_n = x_test.reshape(x_test.shape[1], x_test.shape[2], x_test.shape[3])[:, :, 0]\n",
    "phi_n = (x_test.reshape(x_test.shape[1], x_test.shape[2], x_test.shape[3])[:, :, 1] - 0.5) * 2 * np.pi"
   ]
  },
  {
   "cell_type": "code",
   "execution_count": null,
   "id": "895aa37a-cf39-49f0-81cd-069eecaef3fa",
   "metadata": {},
   "outputs": [],
   "source": [
    "print(np.max(A_f))\n",
    "print(np.max(phi_f))\n",
    "print(np.min(A_f))\n",
    "print(np.min(phi_f))"
   ]
  },
  {
   "cell_type": "code",
   "execution_count": null,
   "id": "04a79fbd-8e19-453c-9e4a-b5d65be0ab90",
   "metadata": {},
   "outputs": [],
   "source": [
    "fig, axs = plt.subplots(3, 1, figsize=(10, 18))\n",
    "\n",
    "# Primeiro gráfico\n",
    "im = axs[0].imshow(10*np.log10(A), aspect='auto', cmap='inferno')\n",
    "axs[0].set_title('Log Power Spectrum - Som original')\n",
    "axs[0].set_xlabel('Tempo (s)')\n",
    "axs[0].set_ylabel('Frequência (Hz)')\n",
    "fig.colorbar(im, ax=axs[0], format='%+2.0f dB')\n",
    "\n",
    "# Segundo gráfico\n",
    "im = axs[1].imshow(10*np.log10(A_n), aspect='auto', cmap='inferno')\n",
    "axs[1].set_title('Log Power Spectrum - Som ruidoso')\n",
    "axs[1].set_xlabel('Tempo (s)')\n",
    "axs[1].set_ylabel('Frequência (Hz)')\n",
    "fig.colorbar(im, ax=axs[1], format='%+2.0f dB')\n",
    "\n",
    "# Terceiro gráfico\n",
    "im = axs[2].imshow(10*np.log10(A_f), aspect='auto', cmap='inferno')\n",
    "axs[2].set_title('Log Power Spectrum - Sinal filtrado')\n",
    "axs[2].set_xlabel('Tempo (s)')\n",
    "axs[2].set_ylabel('Frequência (Hz)')\n",
    "fig.colorbar(im, ax=axs[2], format='%+2.0f dB')\n",
    "\n",
    "plt.tight_layout()  # Para evitar sobreposição de rótulos e gráficos\n",
    "plt.show()"
   ]
  },
  {
   "cell_type": "code",
   "execution_count": 2,
   "id": "f32f16c0-6d02-4d45-a83c-1006104f926f",
   "metadata": {},
   "outputs": [
    {
     "ename": "NameError",
     "evalue": "name 'reconstruct_signal_from_stft' is not defined",
     "output_type": "error",
     "traceback": [
      "\u001b[0;31m---------------------------------------------------------------------------\u001b[0m",
      "\u001b[0;31mNameError\u001b[0m                                 Traceback (most recent call last)",
      "Cell \u001b[0;32mIn[2], line 1\u001b[0m\n\u001b[0;32m----> 1\u001b[0m s \u001b[38;5;241m=\u001b[39m \u001b[43mreconstruct_signal_from_stft\u001b[49m(A, phi)\n\u001b[1;32m      2\u001b[0m s_n \u001b[38;5;241m=\u001b[39m reconstruct_signal_from_stft(A_n, phi_n)\n\u001b[1;32m      3\u001b[0m s_f \u001b[38;5;241m=\u001b[39m reconstruct_signal_from_stft(A_f, phi_f)\n",
      "\u001b[0;31mNameError\u001b[0m: name 'reconstruct_signal_from_stft' is not defined"
     ]
    }
   ],
   "source": [
    "s = reconstruct_signal_from_stft(A, phi)\n",
    "s_n = reconstruct_signal_from_stft(A_n, phi_n)\n",
    "s_f = reconstruct_signal_from_stft(A_f, phi_f)"
   ]
  },
  {
   "cell_type": "code",
   "execution_count": 3,
   "id": "6b7a5018-8f1f-4567-ad1d-c1106f8c2dd7",
   "metadata": {},
   "outputs": [
    {
     "ename": "NameError",
     "evalue": "name 'plt' is not defined",
     "output_type": "error",
     "traceback": [
      "\u001b[0;31m---------------------------------------------------------------------------\u001b[0m",
      "\u001b[0;31mNameError\u001b[0m                                 Traceback (most recent call last)",
      "Cell \u001b[0;32mIn[3], line 2\u001b[0m\n\u001b[1;32m      1\u001b[0m \u001b[38;5;66;03m# Criando figuras e eixos separados para cada array\u001b[39;00m\n\u001b[0;32m----> 2\u001b[0m fig, (ax1, ax2, ax3) \u001b[38;5;241m=\u001b[39m \u001b[43mplt\u001b[49m\u001b[38;5;241m.\u001b[39msubplots(\u001b[38;5;241m3\u001b[39m, \u001b[38;5;241m1\u001b[39m)\n\u001b[1;32m      4\u001b[0m \u001b[38;5;66;03m# Plotando o primeiro array\u001b[39;00m\n\u001b[1;32m      5\u001b[0m ax1\u001b[38;5;241m.\u001b[39mplot(s)\n",
      "\u001b[0;31mNameError\u001b[0m: name 'plt' is not defined"
     ]
    }
   ],
   "source": [
    "# Criando figuras e eixos separados para cada array\n",
    "fig, (ax1, ax2, ax3) = plt.subplots(3, 1)\n",
    "\n",
    "# Plotando o primeiro array\n",
    "ax1.plot(s)\n",
    "ax1.set_ylabel('Sinal de voz ruidoso')\n",
    "\n",
    "# Plotando o primeiro array\n",
    "ax2.plot(s_n)\n",
    "ax2.set_ylabel('Sinal de voz ruidoso')\n",
    "\n",
    "ax3.plot(s_f)\n",
    "ax3.set_ylabel('Sinal de voz filtrado')\n",
    "\n",
    "# Exibindo os gráficos\n",
    "plt.show()"
   ]
  },
  {
   "cell_type": "code",
   "execution_count": 27,
   "id": "68a389d0-497c-4ae8-9aff-56776fa842f2",
   "metadata": {},
   "outputs": [
    {
     "data": {
      "text/html": [
       "\n",
       "                <audio  controls=\"controls\" >\n",
       "                    <source src=\"data:audio/wav;base64,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\" type=\"audio/wav\" />\n",
       "                    Your browser does not support the audio element.\n",
       "                </audio>\n",
       "              "
      ],
      "text/plain": [
       "<IPython.lib.display.Audio object>"
      ]
     },
     "execution_count": 27,
     "metadata": {},
     "output_type": "execute_result"
    }
   ],
   "source": [
    "Audio(data=s, rate=8000)"
   ]
  },
  {
   "cell_type": "code",
   "execution_count": 28,
   "id": "4cb57a8c-701e-4752-b5e9-3b454dc1c09d",
   "metadata": {},
   "outputs": [
    {
     "data": {
      "text/html": [
       "\n",
       "                <audio  controls=\"controls\" >\n",
       "                    <source src=\"data:audio/wav;base64,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\" type=\"audio/wav\" />\n",
       "                    Your browser does not support the audio element.\n",
       "                </audio>\n",
       "              "
      ],
      "text/plain": [
       "<IPython.lib.display.Audio object>"
      ]
     },
     "execution_count": 28,
     "metadata": {},
     "output_type": "execute_result"
    }
   ],
   "source": [
    "Audio(data=s_n, rate=8000)"
   ]
  },
  {
   "cell_type": "code",
   "execution_count": 29,
   "id": "f672d7fd-a5e8-480d-a439-c124537bed8b",
   "metadata": {},
   "outputs": [
    {
     "data": {
      "text/html": [
       "\n",
       "                <audio  controls=\"controls\" >\n",
       "                    <source src=\"data:audio/wav;base64,UklGRiQ/AABXQVZFZm10IBAAAAABAAEAQB8AAIA+AAACABAAZGF0YQA/AABzA6QDygR2BGwFLAXmBOsFzwX9BTwGTgYGB84G4AXrBdsG4QfvBgYHEQfZBnsGdgcOB1YHIwcWCCAIdAgJCS0JiAkSCSUJwAjdBzsIqQg0CPwHgwi1CP0IQQl8CFkImgigCHgHRAfyBh0HrAaEBmkG/AW6BVoF1QSvBNoE6wMhBFkE4gPLA2ADdAMKA8YCzAL0Av4C3AIjAhsCagLwAecBMQLRAUEBbwF6AdgBWQE+ARgBMwHyAE4AsABNADwAnACbADwAGAD+/8P/HABCANn/3/94/+//UQBlADcAeABrAPT/WwBmAWwBIwGMAZoByQGIAd4B2gGyAfcBIAIZAgkCTQJxAtkC9gKVAt0CuwIaA58DWwMWA8oD0AOOBEQFaQTVBKAE2ATOBV8GsgXxBf4FjgYIBhwGiQZfB7AGXwdEB7MHQAhgCB0I1wiNCDwIcgibCNIIuQh/CWkJAQrDCb4JxwluCegJEwrkCVsKTwq5CXsJ/AnWCR4KwQmYCUwJawntCK4IxAjDB8EHCwhCCB8HOwfHBj4GZAbYBfEEhAUqBR0EEQSlBP8DQgRNA60D5wKTAvIBOwJ9AQ0CUwI1AvUBiQGjAdEBVwGrAOkAMwHuACMBaAH7ANMAmAArAc4AmgEdAZoANwC9AS4BhgAEAToBOgEsATgBcwEcAp8BdgEeAu0B9QFSAj4CHQJ7AvICGAPfApsClgMgBBcEpwLCA0kEFAT9A4MEfQTNBHwEdAT4BBcFkwUyBhIGAwZ9BnQG3wbcBoAG4AZiB5sHpAeBCHEILwl3CNUIBQkfCf0IHwnxCKoJIAkiCS4Jhgm5CQAKiAntCW0JqwlACUoJaQkhClIJZQmxCKAIywh+CJUIDQcaBx8HIAdEB8QGXQf2BY4FLwUZBcQE5AM1BKIDbwMeBMQD+ALOArMCSgL2AYMBCQKmAasBKQGwAeEA/QCfAPoA/QAAAdIAPwEkAQMBIgEEAIoAsgFwANQAPgDWAGAAGQEUAZIBGwEnAi0B1gGaAYkBRwIVAkkBrgF3ApQBSgJRAgoDlwJDA+QClwNNA/oCdgO1A3sDnwO7BAQEvwRpBGUEMwVkBVkFfAWRBSUGXQZQBocGqwatBlYHbAedB24IgQgsCHkI9ggbCXUJpwkrCc4JwQm7Cb0JyAlfCoQKggmUCv4JGQpYCncKsQl9CTkK3Am7CQMJNwlsCQgJVAiOCH0IrQfPBvYG/AYrBu0FJwaSBWYFEgX1BCQFuAT3A0oD/gJYA74DdwJkAhoDKQO/AX4CiQJMAYYBdgLgAVgBagFKAW8ANQBKAEgB3wAzAMv/qQARAEMA0P8YAC0AiQClABEAGwCm/zYAT//vAI4A3f8QAKkAOAD0/3QADAG/ANn/JAHHAG4B6QAEATgBTABqAfMA7gGBAQ0C4gFQAt4COwJjAVAC8gI5A9ECFQNMAx8DgwI1BOIEQQRYAzYFpwQ4BGIGjwYABkwGage8Bx8IBQi8CLUI+gifCf0J8AkUCwgLSwtpC1EMYAxWDP8MWQy8DHcNVQ37DKcMdw3xDWYN9QynDRANDA2aDVQNoAz9DCANGwz9C2EMnQsBCy8LyAsOCq0KlAr4Ca8J2glkCcEIzQgwCcQG7gi2B7wHKgZPB+EGeAYFBkoFUwULBYQF1QSLBXAEWwSHBC4ExANjA0IEXAMhA2oD6QLNAjIDkQLZAlMCZgIJA7ACLgJMAwUDdQKvAvABLgJXArgBfAI6AmEBIwKEAlsCVQHgAa4C+gCtAVMBlQFfAfEBaQEaAX4BpQDLAZYBAALPAJMCxwHvAAsC6wFLAfkBQQIUAQgDLgNJAjAC+AMeBLoC7ANVBPkEigTkBAQFDAWkBSMFaAU4BigFhAZ9Bv4FtAbZBtEH4QaVBzkIJwhhB4oJbAhLCPIHgQkGCAoIcwnYCJUHRgk9CQMJ/AedCBQJSQf8B8EI+wcnCMMH4Ag/CQoHnQe9CY4ItQZiCH8IkgY5CN8Hiwf+BjgHHwfHBToH0QWjBfwG1wTrBZgFfAXIBOIEgAVzA7YEIQVaBFwDbAU/BMMCBQWiAxQDSAMQBPMC1wLhA+EC+gLqAlgDGwJwAgYDqgEGAzYC5QFVAgcC1ADAACECLAB+AL0ChwFS/3wBZQLaAAQBAQLyAfcBQAEuAZ0C5gGQAUkDcQM2AuwCygSBAi4CWgSDBNUB5QS+BNwDXgOJBnoF5gR5BUQGpgYQB3AG5AYqCMwG4gZDCWsITQcICcwJNwgPCt8J0wlzCA0KbApQCVkJjwmfCZcJIAq/CMwKEwuaCPkJKgppCTYJkQquCocJEQloCt8JWgnuCU0IWwqWCNsIEQn7B1wHAgi+B+oGCgY4CDkGIATPBY0FBwdMBTcF+QSRBtsEegQdBekFBgboBMwG7wbvBgYGagepBsIGmAWUBrcFMgeJB58DHAaWBcoEfwSGBF8EtgO/A9oD+wGJBM4CEwOPAwQDIwRzA6EDQwLNAzgD7AJ/AnkFvQJJAtsERgMJBMIC2QPSA8wDiAMyA40FhQNEBPcECwXNAy4GGgaLBV4FAQYaBycFWQa+BqMG6AUwBwYHIAjvBtgGDAmCCK0HPgc0Ck0HGQh5CHYL/gebCmoJ3AlyCcEK9gn5CUgLSwt7CqsMagzCC38LzAztC3gM1wsqDNYMjAx9DLgMegxqC5gMrwuSClIKfgzxCYkKZQnbCKkIKgkGB/YHswiXBgYHaAf/B7AGvAZQBz4HzAagBwMIRgepBx0I5QcmB/0GpwdvBqEGBgZhBl4EoAUxA28EfQTZA/ACdAMlA20CpQLcAuIC7wLIA2ICRQOHAnoEOAMGBCkDyATpAzgEWAWcBC4ERQXIBNEFsgTmBl0FnAfHBmkIZAcCCckIzQe4CCkIeAkKCJ4JHAm8CSkKGwnpCfsJfAqZCosKdAqICkoK8wlbChILLQr7CsYJzgqaCRwKCwkxCtYI3QhGCZ8JiAh6CYoHvQlvCGUK/wi6Cf8Iwwl9CBEKjAiDCRQJ1Ah9CNUHNQiMCDcIuwenCBsI6gfXBv4H2gd6B9QG7Af1BwEHWQhZBrQHIweKB9AG+QZMBx0HcQd7BmYHUgZoB+cFngZgBjcF4gaRBnwGyAWLBu4FSQWuBWcF4QUMBX8FNQUVBesECgW7A8YEOwM/BTgEfgQyBAQEMQOdBDgEKQXOBMAFMAV1BI0FnAT/BHIFzQSCBN8DSgZqBeIFLwS8BcMEJwW0A9oE0wODBDsEWgRVBFUExQTsBCQFUwU4BQ0G+QYGB/AGjgahCGAHGAnxCMIKGAqrCkYJKQvJClkLpgvEC+ILcQtpDNMKWgwLC8kL+QoSC9oKXwuKCrUKFwqLCr8JvgqyCRsKxAmGCQUKBQqGCtwJogmECYQK3gi3ChcJ1AnMCJEJqwgmCB4IOwk/CE4HFwhjB1EIogVBB84GOwdOBaEGOgUUBmsEGAZfBTsFiQUPBdwERwT+BHoEWAVfBF4FawMiBagDpAR7A4oEVQPBBPEDdAR+AxEFDAQOBOMDTgRXBGUD9APCAi8EWgPRBCsE1AQhBZ4FiQWNBs4F+gbsBjEIRAd9CCgIFgngB/YIpwgmCokJOwlXCZkJoQmfCbcJ0QlLCqMJmQoICkALjwmeCk4KagtRCRALUwo1C6cJKQsBCh0Lkgp6Cr8KSwkrC+UIDQthCLkK8gacCnkG4wqmBWQK1QXUCfYFWQmyBdMImAZoCGgGjgeXB8YHOghbB3sIjQduCJAGWQgEB1MIKgd5B74GYQdOBloGKQYZBu4GBQbUBecFowb0BTUFkwadBWQHZgU9B+EEzQevBNkHKQTXBzkE3Af9A9gHywMxB2QEmgZTBMAFiAN8BIoE2gTeA2MDowM5A8kDsgO9A3YDMQTAAwsEmAQyBTUECwUlBaAFVAXIBcEFQAWWBtcFsAbFBfQH5gWhBwcH/QfNB0UIUQlNCQcKYQlBC/oI6QrcCdYLWgjIC1YItwtjByIKqAfPCVoI/QkqCB4ImwmzCBoKuAj/CvwI7gqgCAsLOgnPCj8K3woYCkALmAraCmYLKAuGCxAL8wzKCqsM/wlbDVIJZw1UCf4M+AgKDEcIDgunB10I4AdkBm4HxAQ1CKkCrAYQAu8FwQAeBYwAUARwAGQDCwHUAgABqwG1AdUBVQJ1AgoDBgNeA/QDxwP7AzsEewTZBCYF8gXRBZcFOQa8Bv8GvAf8BysH5QfCBhcIbQbBB1sFhgYeBYYFDAWYBXQEsgSzBL8EkgOsBMADFwSqBFEFKQX4BSkG7wdaCH0JfwvzC4cMCgwgDhYMNw1QDE4M3AnkC1UI7ghZB1QIsgWYCJsGsAcMCE0I9AiyCTQL3QnFDH0LFwxvCiAM+gleCrsIhAdcB90FmQTnBNMEGgS8BBIGtQRRBjsJxgfaC34KjQy+Cj4OUwvQDXILyQ0nC9cNpAoQDGgKkAqtCXcJFQnaB6UIZQfgCNwG/giRBnYJfgYoCXoGEwlLBwMJmAjECFwGhgdBBTMFqwMaBc0BnAK0Ae8AJwJ1AXYExwP3Bs8FKgrvCqwMGw6PDxcQDBDrERkQbRBmDykPdA2XDGkLsggwCFYFnQRnAh4BtP+e/Cn93fj7+p73hvsI+jj82/tP/hT9LP/f/jH+H/7m+0z6ivml9nb3Ove893n5UP5wAMMEpgzcEK8UQxsLH98fVipbJukqmytsLfQm1C9bKhcoBip6KP0hoyL8IGQZPxh+Em0KcwcaAmr5bvVE8krsd+hm6VbmBefV6APpvOzP8ED02fXM+2n53/qG/7r+G/7dAM4C0P5FApUDwQNlB5UJEwz9DQYSVxMQF8IaDRtmHn4gzSC1Icwj4yRvIWkmvyAcIXEgAh0OFEcS8A5G/+MB1fTX76jkTuV92cbaB9vK1gXelN+G58fqNPpY+ycGSAvYEEMT0hMvFzoQfBIVClUJcwR0A738uv+dAVX81QZFBSQKygzOEt8TtBegGiobIB8cIG0hyiINJpYmnCQ6L+0m0yuyJ/grIB8EGUofDgrHBc39rPoX5s7qBOZ83lnj4+Ku5r7rdvMH8xQB8QB6BF4FrAhpBK4Bkf9/+DH/lO/b9xD3LPls804DoQQeA20Ocw+lGjASQx9JH78foh1IIpEi9SAeIwghbSpbJKMkZCUtK3odDBOUJWAI1AMYBZz7++lf7gzqFeAW6C/dMe5x6Z3t8fV+APL4jQJrCGP9LQIEAab5B/T8+m3pb/Wu68vxZPP++PH7uwJ5COwJqRc6EQUcgR0bGsce6SCtHC8g0iL6IQ0hUigOJKcmWiVBLGkXfiF4IiIBhhXGAIT4NfEB8jHkiegT5mDhr/Rq41n4bPoT/ET5kgq8ASr8CwqS/LD8rfv1/Kn2Qvx69pQFL/reArcLqwWvC4MRiQ5SEXUTUxKpGe4WHBkTJDsfOCbpLcsv9TEeMi41Jjq8Gtwuvyh8+dIbBf0a8D7rDPP63BPoeOOm6fbwjeTh/xv5fvt3+HQQ/fE5/wAECPVs85X3dvI+8B7x5vRk9yXtTwNo+Qr9WARTCUAE7g4DDoUTIRd0FUcmaiBLJSMuEC77LsEw0yyJMLYhZhcIKi/68gk8A1nqSewr6zXlf9xC6wjf9fKo5Tz0uf6x9HT+JgfDBP/9+g0YA8MB0P+tAAD+qfCQ+jr4cumk9uD3Ae6v+xb+FACpBEUP+xJRFK4h8SEWJ4Qqhy8+L1gxYzODM5ss9jkbJIsmYTNjAw4nEQrm/QwGZ/Zf8nvrQe845v/tYuB7/BrqyfALBLL6y/sgCO4K1P4bB2YIPQL/9yAFBP4N9Rb8YAHc9ET8ZwZU/kcBQwpNCakIyxBlDysXShHnHFgfKxpsJlcnkiEBLxUfmyNeLgoCLSrTBiX/PwYb9a7y6+cO8dXkluv44cn6meXC72P/j/ME+8P8dgJ8+Q76mQK1/BTwJQWJ+oj1lQNvARMAAgXEC48KuAkuEQoQQQ4nFCwRmxQCE0QWsRtTGeQedCGeH/0nQSHxHNUv5wmzH1kbzfvwEJb9GPwF8XnzovJh60bocvnc763qXAJh9Tn5Df2OBIT6if7xBXQBp/wSBd4Ivf+qCqkM2AqPDXMWvhBFFGUZ4BRGFrsZMRUzFh0ZJxnmGKQc1xxZIbceTSb8G94gYyRDAmIpMgDiAN8JCvEf+e7ko/Yf5vfiHu3h8xDiEfUl+67wiva+/GX/KfJ9AMn86Pns+acFwPwHAHsLQQI5CqkN8wv/CyoR+A4gDQIRjhAWEfkPXxffFAcZLh6ZHcsgFSbOJdkX+zMFCj4Z6R548TkQcPFl9/noM+Rp7tvaCuBk6mjl0t14+G7p0fLz+E/8JwCY/o4O5QUhDUISwBPVEvAV8hu3D0gZOBgOD2kVLxKWE/QNlhOUFykTXxpGGx0iPSARIlwseiH9LLwcAiIYKbP81yLJDETyQAq99EzvY+k177/mr+I+5ojxBuNu7Nj4aOlz/ff22f+K/IIF9wUcAUEQUAXcC7IK7A4KCn0LIRS3BTgRdRGzDhoRaxSyFsYUvByqFzwfuB71Gn8iex3vH3Yc2g7bJYn+rgUiGJPjzADf80brC+YI5mHsA90c5dfs8OiD5mL5O+37+EX7cvlXAQz7ggb1+hMGBgXOAT0J6AigDP0KvxM3EBYSehgSFYoUMhoIGdMTVhyqF40WyRrOGpoamxvcGhMfkBKsHbQYfwEVIE0CvP7zCRH2Bf3c8Kb8k/QW7on9lvpY8RkB7QIp9CYGGv8z/9r/fQRTANX9jQhi/iUCTQexBN8D5Aw6BZIIEA6gCMwKRw5/DG0MGxboEvcVlBo9IYEdNSX/JXUlOCWiGp4vAgtyGBEff/bVElT8BPky977xxvb35HLyg/Md6YTvff1I6uj11wCw8Wn7Af2p/aj2mAEsAJr6DwMcBeH9rQhNBVEEKAvrBrAM9wisEHsOYRExFQEUgxhEHKka+BwdIL0ariLSEv0baReXASwYb/2I+9ID3fBq+BjwhPWs84/wivgJ+on1aPxCAtz33AJCADb+aQHV/qwAav4t/SIFhADaAEMMmgWyCHYRNgyoDxQTBhLsEjwTgBmUFkIYJR8KH/MboCaSIs4hwyeSH58i0hbuIOQMMwjFEvn1YwA192n1+vEZ8CT63+uK9o791PI/+DMDePbd/K0C0/jL/039UgBL/hT9XQexACED+AtfBvEIgQy9CaMMTQtKDZcMHgpJEesNtA5xEgUWORRBGeIZTBycGFUdWBoRDZMclwTjCp0ICPd1BKbxe/pP8g7xTvqn7aDzU/kq8SL29Pu48BH7RPeG9Sr6sPXZ/cT8Q/uNBWwC3QJwCwYIKguxDr4MZA3DEYgNpBHUDtEPIhX9DfoXZRajFdweJxinHtQdhRz3IasXcxilGskLVA3uCPf7F/9Y9WbzRvHU7qbzBe8E9Er8F/gb/jgGvATUCOwNqQuTC44LuQlcB9ADqAaiAQj/nQW3AtABoAfvCTkGoQrDENQKZw7qEFsOIg8UD7YV+w+vEkAalBTZGSUb9BuxGpQY/BzODWIP0g/s+3cBefez8tbwVulI8Rvq8+wJ+Iv0T/nJAp8CnQMNCzAIoQZUB1gDWwLF/ff9yPuD+Hr7vv1p+2oByQXfAskHsAqGCEcL+wl/Ca0L3wbJC88JGgq/EoIOtRSwG/AYuSAfIu4d2yZwGgcZdRxOCcsM3AJI+nv5LPCz84Dv7+3P9TT1+/US/oEA6v59BEwETwLbA+r/WgI+/Ef6fwF4+Zj9OgJBAFwFEgekCp0Maw2eD0oO4wx1DlIK+gnQC9UICw3/DCMP1RNBFJ4YhBtJGrsffxpCG8UcmhACGGUPigcGDGsANAPO/6H7RwDw+T7+EP+o/ZIAigFCAToCVAVyAUsDYQKy/04Cb/y8/tH8pvZc/QX5l/gB/nL7Lv/YAG0CuwWWBhEJQgr/CHAM9QjCCWUKegbACLMHkwdWClwJ0A2uDkIOuRQgDooPKBOVBvIKLQXG/7QA6vib/fb4Zvnn/+X8lgF2BcIIYAnkCuALuwkZCqoF+ARIAY/+IP+K+3/8Hv3Y/mwCQwR5BvIIXwrYCkQMSwt2CnQKMwo0CLQKtwyCDnwTiRWqG1UgOSHQJ6YnNCe1KK4gcCNNF1EQFA8c/5j99fdm8FPvA+ya7N7tgO4l8cb1Ofc5/Fb+EgBKBLADwATZBoEFcgcvBiAHIwhKB24JtwicCPEJ5widCUkJTgcbCXkGMAZtBFAEnwM/AowD3ASOBgEK9wzeEVIWoRrYHM8hWSLjInQhuRs9HioQLAz9CfP4tfhZ8MLqk+jO4hbmt+Sv5PvppOou7nnxS/T09/b4PP11/csAnwGxA70GRAfjCwENRxClEicU1xinFjAXZRh3FOsT4w1nC3cKGAPzAwwDKQBgBBoEVglbDBIT0hb8HNYhLSQ8KUsqeif9KGUiyR8fGZgOpQzjAG75XPWi8Inrbeuh7ZXtaPLz8Rf4Hvup/Lv/hAFIAbkAUP8jAq38Mf3W/07+YAKoAAgH8QsfDPgQtxAlFJ4QEhGlDxALHQvxBgwFrASiAwIE6QIUBvEHiQh5D70PUhVzGH4d8R7eH5El/yArIU0a7hWHE8IFfgIt/U73mfT78KbyFvRk8vz5U/g1/Bf9fv1bAH38nvul+cT3Q/IM9EbwZO/M8DTwSPYg+DD8rAQlCS0OPhXUFnQaRB0hGQsXZBVLD40MPwiYBKoDrwH4AdEBZgaMCrYNIBQYG4wfwic3KgotliqFKd8j3hVeC38GFfiD7i/qZOfs6bXpeu0Z94b8Zv30AcoGCwQxAWwCwf1s/W381/kP/cj9xvxMAdsEaAedB7MMng/zD5EUmhaEF2Id/xl2HM4Z6RYeExsRmQ7gB5IImQVcA0cDqQR1BVEGgwtWEPISuxkTH+IimiX2IlYj9iA5F/sKawNo/T3qdeft47Xfjd7d30zm9u3M77D1RP4CBIEAYwFvBScAWvol+gv4GvWl8k/y+fYp+i/7IAFbC+oPBg6pFhQa+xaeFXQSOhXmD9wKVwnRDIoLYwiTDMcRnQ6uDQYSPBRnDxURgxT2Fm4VERm+IGQkuSMcJI0leyArE80IvQQG9j/mQ+Wv47PdyN0q6QLz5/ge/xIIEBLqEBIMHA7TDX8BufoY/Tr7rfZw90r77wMYBSgGnwpqERMQARCsESIWmhUYE0UT/BZMFO0OJQ6qET4NEgnMCgQM1QqFCK0JyQ+jD6IRoRSUGOMbESCFI+IipiYuJu4fKhdcCoMBovOV3hXWiM9CyFTDIMur1cXg1+sG/L8JmRXZF48ZFxtyF5MLNQeiArAAwPtk+GwA+QUkBfIHpRDjEJgNGAu9CN0DBvw/9N3zN/FV7RzuAffN+Vn8BQbcCUwP6hLKFgMcwRzmH8InUyxqLvEz5j1+QDU/2Du0OhAuTBhBB7H5q+J/z8bFO8O4wrHH7NWG5UL2MQOuDjUX6hpZGcEVlQ2sBj7/Rfqc9VTzavey/bACBQ6SFpAezyGZIrUh5RviE4kNuQWj/bv6Yvqs+aL6Vv4dBOUIEA7PEDAVLRXEFXQWExnPHIUbAyHoKkgz8Tf2OsI6yDWSJwAR1PxN6HPSXsShuqC53LxfyP3W8+ju+sUJ7xOiGp4e1hidEEEHcfvH72roxOQ75KLpfPHt/IEGSxDqF4kZEhl/FicRvwr4A5P8+/U384TyDPRG9y39YQWRDoUUBBk/HQMfAB2lGuoe3iCvICsnKjLdOEw96z4SP+g6QCx+FnYD2evq1ObC3rgGtf24scMO1hvrIQGYFEMlly/BNOQwMSdwGdYJXfm57CHi89213mHn9/QZBRkTIx7hJu0paym+IVcXdQyNAlH7u/VH9B/zxfUS/L4DrQumDyYTVhdiGBYZDRvkHR0heSfOL1E5wELWRfNDIj1jLzkZ7v/36S/VucFSs7mworVIwKXPpd/S8V4DixPEHmwkXCBCFmUMSgJh9jjrKOLL4OLkI+4z+iMDiAvuERoYoBpNGCoS7gomBpUB4/6t+jL4l/VW97X7B/95A5EFgAh1DccRohcKHWUm6DAsPTtHLE5XUtBSs00iQkMuChSj9/3d98uBvtayzK6Fsj+/q8/d43H2GAjUGE0nly89L7EoyB+2FhIKofsd6wLfDtnq2hPkWu60+joJzxkCKREx6zBYKEodCBQFClr/NvSQ6k/k/uWy7RD3tf4HBDIKuhLBHu0nfjC9OCRAa0h+UudYQVsiUwJFWS1qFNT8X+Snz7i8Ea77p5GrJLdoxinZmuwI/6IQSRvgI3AkRyGrGqMS0gZS+a7sy+KR31njyOrw89j8VAb/EYAaeR4HGV0PNgSp+oXy5e4y6V/mnedE7qr5mQb1D4sWVhwVJHssZTSbOoZB6kZvTdpTy1exUgpFHDCiGBj/AeVbzUy4F6bxmxubk6TqsZDFUdx09DUKSh53Lbk4lTrNNz4xwiq1IEsWFgky++Tt3OS44nriBOOs5P3pgfBW+8MH0RKDF5gaqhkOF9oTPA9iDGsIUQPUAOL9kf3wABcJ6BNAIIctRD1NUANiXnD2c8xpNlRXOpQd6f483yzBfqd0lLOOLJYmp6O+5NSv7sUJBSGENABBLUWOP1M3hysBHLgIk/IT3wzRyMmlyh/R89d234joXfY1B8MTlxr9GSYUJw7fCOQEvABP+9v2sPRf9oX6QwRrDrwZHCUTMwxDLFThYyZv9W9qZPJPaTWZFd/0ftQHtXOZ1oYBgJyHo5c8rwTJk+U5BAMjKT3OUidfXGL1XbxRRj+pJ2QMKPD51+DGsL1Su8G8W8T90tbmSvv0DZ0cqyZsKxstDy0rKIYfhRQKCvUAl/xK/doAwwiAFJwjcDbgSPZb5Wo2bpdjmVIzPCYfQAHa4s/I8rLdodSb5Z4lqQu5j8x95IL9BBQdKl09dEw+UhJPREbyNgYjvwxm9zXkIdXayYvCxb6wwW3JE9Nq3xrv+/xRCSkRVxm7H9QjqyNuIu4flx6tGyMaWRw1HxwkhSsWNQ0+n0GgQsg/gDjBKcMXBADG59rQU74WtOexzbULwKfKSNg065b/eRJYH40oNS6tLq8sEykUIt4ThQMa9YLq2eIR3IXX59Sa1u3bY+VK7lv40ADfCBUQxRZDHCccKRlcFr0VQhfpGAgdpSMiLFE1z0EET+hbE2AOWhlNmj2ILdYZSQJL6MjSh8Ljuau1X7b7uV7Bvs2D4A71fAm7GEsmwjFjOp46LjRgKkQehBC0Abj07+gy3yvaVdnc4HvmeelT67jwivnx/58GDArOCsQKMAyHEN4V7RwtJEsp2C98OmNJw1KJVUdSQko2PqUu6x2nCxb3huBbzM/Ac7mntbmxuLPhuQTGCNR95Pj2UQhmGHYn8TMDO3062DVZL5UmdxhlBTT0LOcN33fYNtKqzd/NkNBJ163gaOzB9/sCUg78GT4mZTA6OaVB4Ue2SwdOt1CmU21TL0t3PyUwMSLXEXz9Hura1ybHYLrSsHaxAbU5udrCPdIL5s/4swu4H4YwNDwYQjtGqUZ4PoIzwyPeErACBPUD6CfZ68wYyZjL4M8z1RvdG+c38ygCEBLjHwwogDDCOhBDDkeBSbRKSUfNQPw7lDoPOC8xNCQjEkAHhgHU+tfw8d821bvP08/B0m7UmtQZ2M3iKO759Wv+lgghEfEWdhtlHCsZSRQZEaMLpAEE+FrzLvDC6XLlhOaX6nfsdfBb96kA1AchEBQXRhqUHz8l9Ch7KG4nfieYJpEjSiLuIXkhmBwfGhkbcBuYF1IToBArETcOKQhpAHP68/YN8vDr0+c/5DfiIN043/zgBeRY5sHrf/D98wD2LvxiAl8GOwYRA/gHnAkQCl4KbApvDGEOTQ5UEB4UuhioGPoY3RgjG8Ycaxv3GbEYRRfRGDsaRxchEmcT7BaYGDMVURGdE38VlRUvEDYNmwxDDcQJUgSQAPX9cv+O+wP14PPc9cP0PvG18IX05vMM9Pr12fW59vL65PrX/Fv+AgMjBIsEswVjCw4OPgzUCo4OTRT6EuwNkw0vED0QxQ59DLALbAvCC8kJXAr7BroG6QhqCKgE6ASMBdgExwDB/sEC7QWtAnn9vAKuB2AJ0weDBlsJDQv4BpsHjwnIBwEEZAJ9AycC/f7B/t8BZQFj/mkAzAOPBEcD6wSjBbsFaQfcCXMKKQoGBmQM8A8rC14JZAcLFX8T1gqVCsENSxgbEJMIFQyXFUUR0AhnChcMHRF+CpoJjAm6CJ4K5A4VCEwDpg5TCJcJ+gOoCPkJ6gfo/jIEcAq0BsgDAPuDBt8M2QPn/SIFqQsuCpkCegCFDAUPrgPzACYMsQz5CNoBNQMjEJIHxwVRA94JOwhWByQCRA32CboA4wXNCegHxQRqBZ4D5Aa6AhoJVwZb/zAF7gUtCR0BzAKCAuwI0wm5/kEC3ALOCzME0PqPBVYHYgLRAAYDywjfAmMACwgjC28CrgJtCUcMMge7A/wFmw95CxQBAQgQDXQOYwVZAHkM9hDbC3j9hQYSFHEPtf+gA7kT4BQ8/XgKVhOYED4D3gs9FmYIEgakDOYXsQRS/zYSrQ7yCS0ARwUdEG0IaAQFAxAMrwlBBegGQwg6D1kDGwJeEA4RNgAiAboQnBMHAfD9exCTFP8EZ/QcDAEbXwSc9PQEPRqIArr6zwNfD3gHY/jABHMJTAmZ/Ov/3gvMA/L+egb0CxsB3v5yBbsOSQbr+xIDTA3ECEX/LQQfBLEIxgSX/AEJBgbv/cf9tQfTClP7k/xLBssRgfyb+RULtQ8t/rz+vQoEDhwBiQT+ByILOweLApgLgQg7CG0IKAl7Cq0GsAzjCAYG3QjeDWwDvQilCB4OKQMPB+4N7QwvBkAETxOFCnQGvwrcEecL3waPDH0PRBCqBugKlg2UFKkFdwa9CW0UtAYUBIgFbwzED4/+0/5PC2AS//tTAKwINhV7++cCmwaVGPb7JQByDpoTzP41/6kSVQy0ADkCSg/8BxwE8QDUC6cEBgT2AhIDxQZeBhf7awRTBMAJ4fUpB8YHygRA+04CWQ/rA+P7BwNAEfgGQPzsAyYRpgNWAu8A0g3iBQX/NQaDB2sCH/5tBFoEV/4F/p4EFQMi/ej90gM6/MUBXf7D/s8AAf+rASz79wWT/ZQBePzPBq0CvfxaAmYGnAR4AOUE3gTzA3gDzgN5A1UGCwEvA5MEKwNqAioC1ABPA6ICMP1MAQsBtgG9+hUCXf55/oT7Nfx1/QD7u/wn+RT70v7J+Uf5Zf3X/Sn9hvwP/UcBB/4+ACz8iwN+Aun9uwDNAtwEcv4qBGcByQazAP8D8ARoAhcEmwXyAsr/+gYLBS79kgMCBF4BsgC4AlUANgGPBpX+EQLUAT0HaQK7AIIDcwhIBbYBXgahBhsIbwTLBacIawkXB0wHcAsWDJ8JoAlYDYUJaA1bCucJtQuaCMwLbwLHCwkFFwc/BFcHugHVAtoGpwIjArQD6QUfA5sFYQapCJUHfAnXCYYLqA0vDQgOSQ4aEPgPbwxAD1gNhg6JCesKTAlfBkoFQAPNAsr/qgC5/sL7Qv5f+xX+AfsT/VH8F/2D/sT+jP/GAC8BfQHFAT0DJgLiA98BpwJuAxkBxANC/8MD8f8MAccB2v8gAsMA9gD0Asn/bQMcAaECFQK1ArcDAQLcBD4BMAQLAwcDHgOoAusCHgGqA58AHAHuAMT/FQFE/nYAUv2aAFH+YP5vACv+2wA/AM3/KAN+/qgElADMA64COQM/BVYDzwWLBGYFeAUlBvMFFwYwCFkGWAhrCEEIXguNB2cMmglmC7MLeQowDecJQg0XC8sLHgwRCqkLIAqSCZ4JMAjqCPAG6Qb9Bu8G4wXTBp0FtwZlBtkGuQbKBsgGcQYUBmEG4wUIBW4EfwTpAxYDRwOMAicCugKMAYEBMAF9AZkBkQACAc0AQQBuATsA+QB6AI4AjgBYAI8AS/8TAFz/i/8B/5H+Qv7s/db9tv1F/Xv90fyf/TD9WP1f/Tv9/f3N/Wr+UP4v/6b/j//8/zgANgHbAGkBEAJJAnwDuwJ0A4gDwQMtBCcEigTsA5wEMgQrBEkEBwQSBCYEqQMcBMID8ANqA0wEqwMzBEwEagSYBLEE5ARxBU8FQwa4BRcGtAXqBSIGNQZHBgkGmAZzBuwGjAZbB9MGIQdyBxEHLQeqBkEHhwbuBiwGdQZ6BaQF3AXcBPoEQwSVBEUESQTFA54DNwMDA+0CRQJMAvgB2wHoAbsBSgFYAXsBWgGiAVEBwgEsAZsBeAHaAZsBRAFgASYBEwEEAZUAKADn/wEAQv/M/xH/zf4M/3b+eP5A/lb+6P0v/iX+NP4G/n/+2/4n/9z+QP+w/woAeQAFAU0BmgFsAfIBrwKQAuwCJwNHA5UDpAN9A5ED+AMIBIAD9AOZA5EDTwMpAy0D1QL4AqACmwKKAlgCwgKnAhwDawPtA6cDCQS3BAMF2wV3BYsGIwZGB5kG4weMB9wH+gcuCKgH0AdMCN4H+QecB94Hfwc5B/4G2ganBg0HsQZ7BiEGzQYTBuIFRAZ+BQIGIQZiBfwFfAU/BU4FxwTFBLcE7gO7AwwDcAMoA0wDVQKqAtUBaQJ7AXwBIgEQAcgAPABbAEoACgDB/2T/hP86/yT/4P4e/0P/fP7p/sL+ov62/oP+Yf6P/nP+Lv4P/qr+iP5w/p3+gf7W/jL/Y/9Q/23/GAAjAKoArQDRAPcAcQGsAfoB1gGbAnAC7ALrAk4DKAMZA3cD3gO6A/sDrwM+BDQE/QNEBFYEdgRlBPsE2wQPBRgFTAW0BVQFDAbjBU8GagZZBtMG4wbqBv4GbQfoBogHWwewB/gHagi6COAIdwhECYYIygjUCOoI+QjtCHEIEQmECJUIXQgmCCIIgQfhB3UHVAcYB9EGrAZRBjUGswWABT0FBQWpBI8EfgQABKYDUANnA8MCuwJkAhkCnAHhAToBKgHjAI4A3gCVABAANQAXAEgAtP/w/+n/w////wkAAgAKANj/JAAxAFgA6//j/0kADADl/6b/qv/L/97/5f96/7f/bf/L/6T/uv/H//7/5f/4//T//v8lAF0AXQB4AGQAngDPAAMB5wAKAU0BfQFdAekB/gEsAlsClgIdAxIDRgOLA78DAgQsBEkE1wS9BMcExATiBO0EUQUcBUAFMAUyBasFqQXLBRMG1wVmBlAGQAZHBmsGrgYxBlsGegZwBpEGuwaRBrAGVAbvBi0GdwYJBuIFEgaxBh8GuAULBo8FWAVtBWwFDgVNBcQEEAURBZoEEgQTBBoEuwPJA5kCogJEAjgCCAGtAWcArADO//z/lP/t/hD///5c/qn+0P63/jv/3P+L/xIADwA8AMAACAL1AAwBWgFGAV8BrQB6ALoAUgCE/5H/Yf8E/6H+Zf5F/m/+Rv4l/iP/cf6J/pH/2v/Z/wkAzQC/ANIBqgEWArEC5wIhAz8EpgMJBEkELQQdBPMD1QOyAxoDyQKOAmACrQEHAf8AEwGNAP4A0wCvAS8C1wJbA7AENwVQBsMGoAgZCaIJ3gm/Cc4JFgnqCL8Huwd0BUMEegPBAjQAAwB3/p//BgAW/zb/YAGIAlkDuQVJBhwIfwq6CasL8wzEC4ALXAt0CrkIEAj0AykDpwA/APH8//vh+c/4ifg7+QH5q/o7+oH71PzO/cT/YAF/AeYBoQRqArcEQwToA+8CFAMRAZ8AuAGW/hn+Hv2d/Kv75/rh+Yb6c/v++sv9qf1e/vH9RgCIAHYCIwGdAs8EdgQdBT8EuQRlA1IFtgQfBUYFpwTmBD4FUgYxBuMGtQU/BlEFuAX2BHkEmwJoA+AAOwLvAEACCwGKAoMC5wScBe8G0AbTCDwIgAdICOYG4gV+BSoEeQKMA1oBFQQ0BEkF3gSaBl4HHAq7C8QKagpyB7UJlwibCcEHqAyGBjAOlw0WEqEV6RaDFSQbphoxHGYbMRn1F+0U+xIYEEoPGwtMCVoJFwiaCnYKuQnHC8oMnA4FDnwLKwscBhECvP+Y/En74PZg9Xf1W/Oe85z4YPrr/WICigIvBzAMyQoUDu8NFQjlCOEHKAN4BGcC9P1AAgYDYwRYDKYPXROKHsoksSz2Nzw5Az5/Pz0+YTuMNpIoPRx2D9b9cO5Z4O3QoMW1uXO1ZLHysxq57MG9zfraluYs9gsDLw9wGPEeISRNJ4Mn6SRqIU8buBVqElYKDAofA3r+Nf1JAdH+PgeDBU8L9gzfDhUNrBDODCMKFAWaAC/9TviI95H87f5dBLsP2hlaJF0znjwXRl1QCFDESuVC7TY1IeQLj/kF42LKAbxsrmGpy6icsRi+GtGm4y38LxXiKfo5t0h7TZVR804oRpk8gSnvFpIFdvYl6p7hANVw0xDRytPT2jHo+vDd+mMC/gjTDWQNhRDADIgGQgWBAqX/HwU7CRURbx+5Kyw62UcaUnJcPF5/YPNZjUqaNOohrwLX64rVl7/LrWGfppPFlWmYlaFesRa/WNKD5Gn3gAkzGq8kQy3yMC8zVy6yKrseJxXgCE76j/I96srclNhd19/WONrb4yDsKfQH//IHXA69F2YcXB3TIFsgYSJVIEUeEyB8IjckICyyMTo5Z0VSTqNUG10wYsJa708dQuMp+hKk+Wnd5MRusDuacY8fjXiMzJbipky4fcyw6Zb+9hHvJ944tT/3Sw1Nx0n5Q0g5sCn8HMMOHwCC8zbrSOQT33vlE+e+64/6Jf2RAqcKtwyXEbMTsRR7Fd8RuA7BDkkNZw5YEoUX3h6TKAswjT13RzlPzFZJUkZOZERSLEwg4QnD6yvZJr8bqD6YSY3bikWNpZjupZC51tD652f+exrTKNIzsj/LP4c44zdXLyohPRf/Cob7FfLs6rrgjN2I2STcleCO59jwnfpxBUYOZBUnHnEiMiDaIdodahXcFTUSFBQsG/YhhyvzN3NC7kt0VJdZuVbrTvdAZC4aF6H+jObfzRe8qqcfnbOZRZvBny+3QsLz2Fr0bgl3Hok0jT8aRghHpkOpNYEr0B9JDkgEQf4O8ZTrwOsl6Bvuz/Q98Cn9WgT+AQUO/xc9EpgbhRvdFPUUEhAcBy8G+AVN/vYCvQe8C/0TmB9DKfIy/0HBRZlHNU4NRf42ois8Flf7Mu+o0q+/97YypgKbMaEWn7aoEbuIza7i3fd5CvYddysFN7w7izp2NFIqhxwaE+kDA/qO9RDrWOVm6jzhBuUC6SHtVO6f+2QCiwerFPEbCh/+JWcqVCSuKKYgrRbuEpkKzwHxAoL/iQSBCkkTkhtsK6g4ckd+TxBVHVQZTHg7RClUD0f3PN7hxdazr6QAnZCbqJ+9q6fAftJo61wB7BHxJK4y0jdHP0Y/iTmNMs0nuhcxDmgCb/e08dzr9eRZ6iLpX+xo9FT7e/3VCksN2RWbGQUbfBwBHXgbbByvG3gZLRYjEpUOhAwSCwINABE6GNsffiopMog7S0S2Qj48ZTHqHSoHnfdz3HHNSbvJqf+jhKKin8ausrv1xu/cKu8r/0IT6x+RKFoyjDIHMzcziyoWImEcSA4HBE3/n/RC81vwp+tl6u/r2esh8gn3qPs8BTYJrw/FF7kb5B11IZkgGyBBHL8Wzg+CCeUCpP15/bz+IAO5DLgYKCFeMS89JkSaS7xMJ0T+OfUqChQdAA/qYtP/wc+2Xq0hrt6zn7+fzVbds+1w/N4I+xZ1HlYjVSpPKDYjViQSHlsX1xQ9DGkFlgKo9qD25PZO90r66gP6Bs4ORRdHGoIfqSB2Hp4aIxVtDKIGUf8x+p72qfK98g707Pe0/TMIuA8aHXUpYjZ2RC9Ql1Q6WIVStUPeNtQdCQaf7IjVfLxYrgWjKZ/3pPWq3bhQy3fYLeiu+ZgDyxDrGagc5iAxH/4aIBjWEncLHgjd/6n5ivnY9XDzFPn3/I7+PAj9DIMQqhcrGz4ciiCVH6gbsRh/FFoJigHC+nXw6epj5gHj0OOI6KTwJ/3UDn8hMjIHRUtWJWB0aY5sBmZkWaJJqjCXF93/OufL0q/CILYDri2x77cgwj/VKuh/+GQMqhmwI4ss1C3CLeooxh+9FSoNqQJm+fnzC+8/7Trt9uyi8O/1bvtAAmUIEQwfEngUxxW0GGoWxBMbDUMG/f5s9pjv3ur56AHo0efJ7MHyAfx+CT0YAiiBObhH11QGYPdlbWb+XhVSuj9fKMgP//Qm3qzJX7qrr6WsfK8dtl/DGNSO4Gfx8f7xB1ARmhfsGacbHhkMFAsNjAb//pD3KPP+7z7tHO/c8bH1cP6SBUkLIRI6FbcVqRVNEfkKSgavAUr9k/sF+/T6v/67A74IPg6WFcMbZiKtKdMvrjWCPNBA+0TjR15GXUEaPIQvth5JDor6P+cG12PHwrkvsjyuHa8ltjnC6s0A37PwjAKHFiEonDa2QYVHqEarQi46Dy2LH/EPyP2B72LjBdos1mLXWNka4c/qjfT6//UKLhKQGMgbGxt5GGkUlQ2OBi8Awfkd9hj2F/Yu+Zn/BgZGDzAbHyYrMRM8CkToSe5OGFD8THdGODrLKcwW8gBF61jXCsLfr/miZJl0lnKbv6Ris4XHq92A9VcQ3SiCPGJLGVSmUiNLgD2kKnsUy/yY5ZfR/sJut0e0brfFvVfI1dbt5on2PQa5E2wc+CKAJmwm+SOVH4MZ9hFlCroCavuV9i3zsvBd8V70lfgDAL0I8RFZHGIlAi7wNMU4Mzo6OE4ytClzHq8R2AN99QXoAduc0fLIssWWxPnFpMom0aXar+Wt8ej8OAc1EdUXmx3+HzofPxxwF1ERzgmhA6v+ZvmT9bH0P/PC83P1OPfb93z5KfoP+gD5Kvjh9r31PvVk9YP2k/ht+5D+WgJnBhkLyw78ERcW9BhAHJQd4x6IHgMeyBwRGhEXJRLGDmEJewQOAGb8q/nL9ZHz4fE78L7u+O3K7ajtye2f7dDtUO+K8OTyHPX3+Hv8rgAMBQgKFQ95EucVEBlDHBkeNB/nH8kfjx9cHckbRhl8FR8Sbg8+C+QHvAREAez+yP1k/DT7G/u7+hP7dvvL+1z8JP1x/aj+6/+VAM0BxAGbA/0DcARkBCwEfgMrAlYBJQDx/pH9pvxa/KD7bfuL+9r65Pud/D79Mf7l/rv/QQCFAMYAoABdAAUAmv81/4z+Xv74/Sf+ev7H/oYAxQE2A/wEzQa4B34JgAnDCdsJvQgFCGUHOQXFA+4BIgAy/r/8CvvM+Xj5Nvl/+ib7gfzJ/t8AZQJqBCcHUAjOCWALcgsBDPsMgQ3kDXUO8w0JDnkNVg0tDcALLQsjC0AKkwkMCV4IFwfsBe0EzgMSA8ECUgJJArICSQMnBGEEPQVABSIGLAb8BQMGNwYeBTQFtQRZBOwDzAMUA2YDAAP9ApUCwAJjAgsC2QGdASIB5QBXAG8A5/+b/7T/zf8R/1T/Cv9q/xr/dP+O/2P/Mf8Z/4//4v8eABsAWwCeAH0BcAERAiYCjALiAlQCMgIJAoQBFgHVAEEAAwANAPr/8v8sAN7/8ADqALMB7AFnAs8COgOTA7sDCwRfBAwFnwRrBQUFRAWBBb4FTwZzBrkG4AaUBw8IiQhdCGoIPwgfCMUHZAc+B7QGFgZrBd8EWQQTBBQE0QOKA7ADwwN2A0gEkASfBCEFcAWoBQIGPQazBiwHuwc9CLUIggl/CQEK/QnkCXQJSQk5CAMH1QXqA74CJAEj/w7+jPzw++f6+vqj+qD7xPwe/s3/wwFuA/UEPQdfCLIJUQowC6sLxQt+C/YKYwoZCc8HJQexBVUEKQPPAb4ABAAi/wP+Cv6+/Vj9Rv1X/W79iv1l/Zb9mP2n/bn9dP0X/gT+Bv72/UP+iP7r/nj/zP/XACMCLQP8BKkFcAdcCD4K/wrfC7wMbA18DYMNcg0WDCoLAgoTCFsGugPGAe3/gv37+zf6/fhh+KL3UPii+Ib59fq9/Bn+lQCeAogFCAgnCrYL3g0UD4YQ3xHiEUQSXxLAERQR0A/rDSUMIgoDCC4GHwSTAscBrgFIAl0CegNfAzAE5ARvBT8FfAVQBF0DdQIjAQgBnAARAaUCzASdB20KAw9uE4EYtxyrIKAiMCPIIs8ggRyjFW0O0gNI+9Hwyug+4EvaDtZr1CrUANda24/g7ued8Gf4RgCUB6gMZBFPE4wUihS9EgEQawz4CCMGVQJfAAv/vv0T/Tj8dvwN/LL7tfpU+Qz43Pfh9dT08vS39KH2GPjv+o3+UgMCB6oMbQ+vEw0WmBjEGMoZiBifGDAWzhRtFLkTlRT/Ff0XOhm2G+Ucsh5OHu4cFBrtFZoQKgpoA3/8N/YO8Yrtbuvq68Duk/PR+dEAFwnWD2YX8hvXH9Qf4B8QHL8YDRPVDWwI9gPW/7/+//4tAeADZQdqC+cOVRI6E9AV1RRuEmAPdgwbCeAFSAOLAY8B0AJPBLEHCgs1D8gSBBYXGHYZzRkcGkUZbhkNGGkZIhrKG6ke+x+0I7YlgiWoJgIkICL2HuEXexBbB6T+2fa377LoJ+XJ45zisOWN6kDxxvej/Y4DgAiJC+sNDA57DDIJLgUsAAz+4/s4+TH5KPr6+1gAwgNxCdUNChG6FYMVMxY7FGERDg3PCFoEQQDj++j4evVf9L3yt/Jc8ljybPLk8770BPc7+J/6ZP1EAtwFgAxGEgYZEyHfJgAtbDGYNLo0SjQXMW0tnCYzID0Y+Q+NB2X/s/YE8AzpOeUD49Pgt+De4gvllekI7r7ycPp/AJwH2wyuEUgVdBc3GHkY/xZiFkgUahLhEAEQ7A8yEWYTSRWIFp0X6RhYGvYZtRlaF7gTdg9fDJ8HOAMK/uf7NPf29fr0uvcR+qL7WgAuBGQGdQnKCj0Lsg3tDWoOGRCaEg0T3hQuGf0b3xyEIdIinSOGI+MgMByZGKQPRQgN/W/1Tu2y5mjh0N+R30rfZ+Iv5mDrr+9a9Hz4LftV/Mn9nP6o/S79mPvG+6r6H/yz/eYAZwOHB4sLKQ/YEEUTPBTbE/cS5g+ODWQKPgcZBJ0D7AJGA0EEgAX6BvkI6gp3DbMO0A61Dy0QJBGuEJIQoRGFE1AU6BUOGfEZ4BsLHcodpx5YHbUbihmaFjITmxD5CqQHGQIY/0H8bfnH+Ar1MvT+8iz08/Sl+O73t/qW/Vj/VgA+Av4F1wd4CncNcw6+EdsTQBSuFfQVVxXWFAQTYBJAEBgPig09C1sK7QeMBmwFeAS0AusAGQAK/5390/tK+hf5v/dT92L2kPa+9834lPt+/xcB3wReCBAL7Q5uEhwTBhafF1obxhrmHF4dDh94HS4dlRqeGE8XKxTyEBQMRQeNAlT+avtU+WD2Z/R/8vTy//Ls80z0u/e3+Lr6kf0o/5sAowKvBLwGqgbACGAJNAxJDBgNUgy9DKUMDA3eDIcNHw7dDtgNAA99DSEPMA4vDQQMigpYCmEJ6wc0B2wEJwO4AJgA6gARAbMAdwAXAa8BXQPdAw4FogQ8BckGMAahB2IIXAnaCfsLYA3HDlMQaxA8Eh8TthFREtoQpQ4YDLILmgpxCG0FjARVAqwB/AA=\" type=\"audio/wav\" />\n",
       "                    Your browser does not support the audio element.\n",
       "                </audio>\n",
       "              "
      ],
      "text/plain": [
       "<IPython.lib.display.Audio object>"
      ]
     },
     "execution_count": 29,
     "metadata": {},
     "output_type": "execute_result"
    }
   ],
   "source": [
    "Audio(data=s_f, rate=8000)"
   ]
  },
  {
   "cell_type": "code",
   "execution_count": null,
   "id": "9d362a5e-46e0-48ae-b769-206d7a587071",
   "metadata": {},
   "outputs": [],
   "source": []
  }
 ],
 "metadata": {
  "kernelspec": {
   "display_name": "Python 3 (ipykernel)",
   "language": "python",
   "name": "python3"
  },
  "language_info": {
   "codemirror_mode": {
    "name": "ipython",
    "version": 3
   },
   "file_extension": ".py",
   "mimetype": "text/x-python",
   "name": "python",
   "nbconvert_exporter": "python",
   "pygments_lexer": "ipython3",
   "version": "3.8.10"
  }
 },
 "nbformat": 4,
 "nbformat_minor": 5
}
