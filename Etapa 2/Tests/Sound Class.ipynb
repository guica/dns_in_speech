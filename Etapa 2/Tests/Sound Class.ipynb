{
 "cells": [
  {
   "cell_type": "code",
   "execution_count": 1,
   "id": "9f703f32-4311-42fc-90ac-3ab5780096eb",
   "metadata": {},
   "outputs": [],
   "source": [
    "import sys\n",
    "sys.path.insert(0, '/tf/utils/')"
   ]
  },
  {
   "cell_type": "code",
   "execution_count": 2,
   "id": "7f911257-2c5c-4478-b321-61e98492b8ca",
   "metadata": {},
   "outputs": [],
   "source": [
    "from sound import Sound"
   ]
  },
  {
   "cell_type": "code",
   "execution_count": 3,
   "id": "bc544345-b29a-498a-94d2-9df084066881",
   "metadata": {},
   "outputs": [],
   "source": [
    "base_shape_size = 8192"
   ]
  },
  {
   "cell_type": "code",
   "execution_count": 4,
   "id": "82ed97ed-65af-41c4-b1d5-02eb53afae78",
   "metadata": {},
   "outputs": [
    {
     "name": "stderr",
     "output_type": "stream",
     "text": [
      "Loading Speech Files: 100%|██████████| 8179/8179 [00:02<00:00, 3359.74it/s]\n",
      "Loading Noise Files: 100%|██████████| 8137/8137 [00:02<00:00, 3303.53it/s]\n"
     ]
    }
   ],
   "source": [
    "sound_base = Sound('../../Dados/Vozes/', '../../Dados/Ruido/', base_shape_size)"
   ]
  },
  {
   "cell_type": "code",
   "execution_count": 5,
   "id": "d1ab876f-4020-4c4e-9533-212fc2a0d9d1",
   "metadata": {},
   "outputs": [
    {
     "data": {
      "text/plain": [
       "array([-0.01263466, -0.00766015, -0.00723289, ...,  0.00543229,\n",
       "       -0.00466933, -0.0159917 ], dtype=float32)"
      ]
     },
     "execution_count": 5,
     "metadata": {},
     "output_type": "execute_result"
    }
   ],
   "source": [
    "sound_base.noise_sounds[0]"
   ]
  },
  {
   "cell_type": "code",
   "execution_count": null,
   "id": "15c3a553-69fc-4a78-bceb-4f7fd18678d4",
   "metadata": {},
   "outputs": [],
   "source": []
  }
 ],
 "metadata": {
  "kernelspec": {
   "display_name": "Python 3 (ipykernel)",
   "language": "python",
   "name": "python3"
  },
  "language_info": {
   "codemirror_mode": {
    "name": "ipython",
    "version": 3
   },
   "file_extension": ".py",
   "mimetype": "text/x-python",
   "name": "python",
   "nbconvert_exporter": "python",
   "pygments_lexer": "ipython3",
   "version": "3.8.10"
  }
 },
 "nbformat": 4,
 "nbformat_minor": 5
}
