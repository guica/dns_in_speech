{
 "cells": [
  {
   "cell_type": "code",
   "execution_count": 1,
   "id": "2e66fd53-b982-43a0-b9e8-6b13131149b8",
   "metadata": {},
   "outputs": [],
   "source": [
    "import sys\n",
    "sys.path.insert(0, '/tf/utils/')"
   ]
  },
  {
   "cell_type": "code",
   "execution_count": 2,
   "id": "f258f8d5-eabc-4c0d-9104-4227f2fa6111",
   "metadata": {},
   "outputs": [],
   "source": [
    "import pandas as pd\n",
    "import matplotlib.pyplot as plt\n",
    "import numpy as np\n",
    "from pesq import pesq\n",
    "import pystoi\n",
    "from scipy.signal import lfilter, wiener\n",
    "import scipy.linalg \n",
    "from tqdm import tqdm\n",
    "\n",
    "from utils import load_wav, calculate_snr, itakura_distortion, performance, preemphasis, vad\n",
    "from sound import Sound\n",
    "from batch import DataGenerator\n",
    "\n",
    "from multiprocessing import Pool, cpu_count"
   ]
  },
  {
   "cell_type": "code",
   "execution_count": 3,
   "id": "1180c563-94cd-4496-a141-3265f9e9da6d",
   "metadata": {},
   "outputs": [],
   "source": [
    "base_shape_size = 8000"
   ]
  },
  {
   "cell_type": "code",
   "execution_count": 4,
   "id": "0d955a0a-2caf-4e6c-b0b4-7cb7ba82ed12",
   "metadata": {},
   "outputs": [
    {
     "name": "stderr",
     "output_type": "stream",
     "text": [
      "Loading clean files: 100%|██████████| 5476/5476 [00:01<00:00, 2833.03it/s]\n",
      "Loading noise files: 100%|██████████| 2000/2000 [00:09<00:00, 221.98it/s]\n"
     ]
    }
   ],
   "source": [
    "# carrega sons de ruido e sons de voz\n",
    "sound_base = Sound('../Dados/Base/', '../Dados/ESC-50-master/audio/', base_shape_size)"
   ]
  },
  {
   "cell_type": "code",
   "execution_count": 5,
   "id": "5148f30d-1027-430a-9f0e-a5f5b4190bc6",
   "metadata": {},
   "outputs": [],
   "source": [
    "# Parâmetros do sistema\n",
    "order = 16  # Ordem da análise LPC\n",
    "window_size = 250  # Tamanho da janela\n",
    "sample_rate = 8000  # Taxa de amostragem (exemplo)"
   ]
  },
  {
   "cell_type": "code",
   "execution_count": 6,
   "id": "294a4ba6-138a-4faa-9588-8b9454046299",
   "metadata": {},
   "outputs": [],
   "source": [
    "data_generator = DataGenerator(sound_base.train_X, sound_base.noise_sounds)"
   ]
  },
  {
   "cell_type": "code",
   "execution_count": 7,
   "id": "3a8debd7-10cd-4681-a166-d5cb27932da8",
   "metadata": {},
   "outputs": [],
   "source": [
    "# Adicionar filtro de pré-ênfase no sinal para obter valores mais adequados de coeficientes LPC\n",
    "\n",
    "def lpc_analysis(signal, order):\n",
    "    # Aplicar janelamento de Hamming\n",
    "    windowed_signal = signal * np.hamming(len(signal))\n",
    "\n",
    "    # Calcular os coeficientes LPC usando autocoeficientes\n",
    "    autocorr = np.correlate(windowed_signal, windowed_signal, mode='full')\n",
    "    r = autocorr[len(autocorr) // 2:len(autocorr) // 2 + order + 1]\n",
    "    \n",
    "    # Usar a função toeplitz para realizar a decomposição de Levinson-Durbin\n",
    "    A = scipy.linalg.solve_toeplitz((r[:-1], r[1:]), -r[1:])\n",
    "    \n",
    "    # Calcular o erro de predição linear (residual)\n",
    "    residual = signal - scipy.signal.lfilter(np.hstack([1, -A]), 1, signal)\n",
    "    \n",
    "    # Calcular a variância do erro de predição linear (residual)\n",
    "    var_residual = np.var(residual)\n",
    "\n",
    "    return A, np.sqrt(var_residual), r"
   ]
  },
  {
   "cell_type": "code",
   "execution_count": 8,
   "id": "35fe5bc1-0612-40fa-98e2-d5b376ad1b68",
   "metadata": {},
   "outputs": [],
   "source": [
    "def build_matrices(A, window_size):\n",
    "    Ak = np.zeros((order, order))\n",
    "    Ak[:, 0] = -A\n",
    "    Ak[:-1, 1:] = np.eye(order - 1)\n",
    "\n",
    "    H = np.zeros((1, order))\n",
    "    H[0, 0] = 1.0\n",
    "\n",
    "    return Ak, H"
   ]
  },
  {
   "cell_type": "code",
   "execution_count": 9,
   "id": "0e9eeaaa-1beb-4d5f-bcf3-5ff8c3c1f442",
   "metadata": {},
   "outputs": [],
   "source": [
    "def kalman_filter(signal, Ak, H, Q, R):\n",
    "    x_hat = np.zeros(order)  # Estado estimado\n",
    "    P = np.eye(order)  # Covariância estimada\n",
    "\n",
    "    filtered_signal = []\n",
    "\n",
    "    for sample in signal:\n",
    "        # Atualização temporal (Predição)\n",
    "        x_hat = np.dot(Ak, x_hat)\n",
    "        P = np.dot(np.dot(Ak, P), Ak.T) + Q\n",
    "\n",
    "        # Atualização de mensuração (Correção)\n",
    "        K = np.dot(np.dot(P, H.T), np.linalg.inv(np.dot(np.dot(H, P), H.T) + R))\n",
    "        x_hat = x_hat + np.dot(K, (sample - np.dot(H, x_hat)))\n",
    "        P = P - np.dot(np.dot(K, H), P)\n",
    "\n",
    "        filtered_signal.append(x_hat[0])  # Apenas a primeira componente é o sinal estimado\n",
    "\n",
    "    return np.array(filtered_signal)"
   ]
  },
  {
   "cell_type": "code",
   "execution_count": 10,
   "id": "afd71070-19c1-4263-a170-8272ae32acbf",
   "metadata": {},
   "outputs": [],
   "source": [
    "def process_signal(signal, window_size, order, sample_rate, SNR_dB=10.):\n",
    "    filtered_signal = []\n",
    "\n",
    "    for i in range(0, len(signal), window_size):\n",
    "        window_samples = signal[i:i+window_size]\n",
    "\n",
    "        # Aplica o filtro de pré-ênfase\n",
    "        emphasized_signal = preemphasis(window_samples, alpha=0.97)\n",
    "\n",
    "        # Aplica a detecção de fala no sinal\n",
    "        is_voice = vad(emphasized_signal, sample_rate)\n",
    "        # is_voice = True\n",
    "\n",
    "        if is_voice:\n",
    "            # Realizar análise LPC e construir as matrizes Ak e H\n",
    "            A, sigma, _ = lpc_analysis(emphasized_signal, order)\n",
    "            Ak, H = build_matrices(A, len(emphasized_signal))\n",
    "    \n",
    "            # Calcular a variância do erro de aquisição R com base no SNR linear\n",
    "            SNR_linear = 10.**(SNR_dB / 10.)\n",
    "            Rx = 1. / SNR_linear\n",
    "            \n",
    "            # Calcular Q e R (assumindo que não mudam dentro da janela)\n",
    "            Q = np.eye(order) * sigma  # Variância do erro de predição\n",
    "            R = np.eye(1) * Rx  # Variância do erro de aquisição\n",
    "    \n",
    "            # Aplicar o filtro de Kalman na janela\n",
    "            filtered_window = kalman_filter(window_samples, Ak, H, Q, R)\n",
    "            filtered_signal.extend(filtered_window)\n",
    "\n",
    "        else:\n",
    "            window_size = 5\n",
    "            window = np.ones(window_size) / window_size\n",
    "            \n",
    "            # Aplica o filtro de média móvel\n",
    "            smoothed_signal = np.convolve(emphasized_signal, window, mode='same')\n",
    "            \n",
    "            # Certifique-se de que o sinal suavizado tenha o mesmo tamanho do sinal de entrada\n",
    "            if len(smoothed_signal) < len(emphasized_signal):\n",
    "                # Se o sinal suavizado for menor, adicione zeros à direita para igualar o tamanho\n",
    "                shortfall = len(emphasized_signal) - len(smoothed_signal)\n",
    "                smoothed_signal = np.append(smoothed_signal, np.zeros(shortfall))\n",
    "            elif len(smoothed_signal) > len(emphasized_signal):\n",
    "                # Se o sinal suavizado for maior, corte o excesso à direita\n",
    "                smoothed_signal = smoothed_signal[:len(emphasized_signal)]\n",
    "            \n",
    "            # Adicione o sinal suavizado filtrado ao resultado final\n",
    "            filtered_signal.extend(smoothed_signal)\n",
    "\n",
    "    # print(len(filtered_signal))\n",
    "\n",
    "    return np.array(filtered_signal)"
   ]
  },
  {
   "cell_type": "code",
   "execution_count": 11,
   "id": "dee33fac-4d2a-4db5-807e-5d1b70fa5842",
   "metadata": {},
   "outputs": [],
   "source": [
    "def process_batch(args):\n",
    "    x_batch, y_batch, SNR_dB_batch, window_size, order, sample_rate = args\n",
    "    filtered_batch = [process_signal(noisy_signal, window_size, order, sample_rate, SNR_dB=SNR_dB) for noisy_signal, SNR_dB in zip(x_batch, SNR_dB_batch)]\n",
    "    \n",
    "    pesq_scores = [pesq(8000, clean, filtered.reshape(-1), 'nb') for clean, filtered in zip(y_batch, filtered_batch)]\n",
    "    stoi_scores = [pystoi.stoi(clean, filtered, 8000) for clean, filtered in zip(y_batch, filtered_batch)]\n",
    "    snr_scores = [calculate_snr(clean, filtered) for clean, filtered in zip(y_batch, filtered_batch)]\n",
    "    ID_scores = [itakura_distortion(clean, filtered, window_size, order) for clean, filtered in zip(y_batch, filtered_batch)]\n",
    "    \n",
    "    return pesq_scores, stoi_scores, snr_scores, ID_scores"
   ]
  },
  {
   "cell_type": "code",
   "execution_count": 16,
   "id": "f81f0a6f-bb3d-443b-af83-8c024fbe3037",
   "metadata": {},
   "outputs": [],
   "source": [
    "batch_num = 50\n",
    "df_resultado = pd.DataFrame()"
   ]
  },
  {
   "cell_type": "code",
   "execution_count": 17,
   "id": "ff7224d6-026a-4b81-91a2-38243f7dd349",
   "metadata": {},
   "outputs": [
    {
     "name": "stderr",
     "output_type": "stream",
     "text": [
      "100%|██████████| 50/50 [08:51<00:00, 10.62s/it]\n"
     ]
    },
    {
     "ename": "Exception",
     "evalue": "x and y should have the same length,found (8000,) and (6530,)",
     "output_type": "error",
     "traceback": [
      "\u001b[0;31m---------------------------------------------------------------------------\u001b[0m",
      "\u001b[0;31mRemoteTraceback\u001b[0m                           Traceback (most recent call last)",
      "\u001b[0;31mRemoteTraceback\u001b[0m: \n\"\"\"\nTraceback (most recent call last):\n  File \"/usr/lib/python3.8/multiprocessing/pool.py\", line 125, in worker\n    result = (True, func(*args, **kwds))\n  File \"/tmp/ipykernel_20416/2873436523.py\", line 6, in process_batch\n    stoi_scores = [pystoi.stoi(clean, filtered, 8000) for clean, filtered in zip(y_batch, filtered_batch)]\n  File \"/tmp/ipykernel_20416/2873436523.py\", line 6, in <listcomp>\n    stoi_scores = [pystoi.stoi(clean, filtered, 8000) for clean, filtered in zip(y_batch, filtered_batch)]\n  File \"/usr/local/lib/python3.8/dist-packages/pystoi/stoi.py\", line 49, in stoi\n    raise Exception('x and y should have the same length,' +\nException: x and y should have the same length,found (8000,) and (6530,)\n\"\"\"",
      "\nThe above exception was the direct cause of the following exception:\n",
      "\u001b[0;31mException\u001b[0m                                 Traceback (most recent call last)",
      "Cell \u001b[0;32mIn[17], line 17\u001b[0m\n\u001b[1;32m     14\u001b[0m df_resultado \u001b[38;5;241m=\u001b[39m pd\u001b[38;5;241m.\u001b[39mDataFrame()\n\u001b[1;32m     16\u001b[0m \u001b[38;5;28;01mfor\u001b[39;00m result, metrics_batch_df \u001b[38;5;129;01min\u001b[39;00m results:\n\u001b[0;32m---> 17\u001b[0m     pesq_scores, stoi_scores, snr_scores, ID_scores \u001b[38;5;241m=\u001b[39m \u001b[43mresult\u001b[49m\u001b[38;5;241;43m.\u001b[39;49m\u001b[43mget\u001b[49m\u001b[43m(\u001b[49m\u001b[43m)\u001b[49m\n\u001b[1;32m     18\u001b[0m     metrics_batch_df[\u001b[38;5;124m'\u001b[39m\u001b[38;5;124mPESQ (Filtered)\u001b[39m\u001b[38;5;124m'\u001b[39m] \u001b[38;5;241m=\u001b[39m pesq_scores\n\u001b[1;32m     19\u001b[0m     metrics_batch_df[\u001b[38;5;124m'\u001b[39m\u001b[38;5;124mSTOI (Filtered)\u001b[39m\u001b[38;5;124m'\u001b[39m] \u001b[38;5;241m=\u001b[39m stoi_scores\n",
      "File \u001b[0;32m/usr/lib/python3.8/multiprocessing/pool.py:771\u001b[0m, in \u001b[0;36mApplyResult.get\u001b[0;34m(self, timeout)\u001b[0m\n\u001b[1;32m    769\u001b[0m     \u001b[38;5;28;01mreturn\u001b[39;00m \u001b[38;5;28mself\u001b[39m\u001b[38;5;241m.\u001b[39m_value\n\u001b[1;32m    770\u001b[0m \u001b[38;5;28;01melse\u001b[39;00m:\n\u001b[0;32m--> 771\u001b[0m     \u001b[38;5;28;01mraise\u001b[39;00m \u001b[38;5;28mself\u001b[39m\u001b[38;5;241m.\u001b[39m_value\n",
      "\u001b[0;31mException\u001b[0m: x and y should have the same length,found (8000,) and (6530,)"
     ]
    }
   ],
   "source": [
    "num_processes = cpu_count()  # Usar o número de núcleos da CPU\n",
    "    \n",
    "with Pool(processes=num_processes) as pool:\n",
    "    results = []\n",
    "    \n",
    "    for _ in tqdm(range(batch_num)):\n",
    "        x_batch, y_batch, metrics_batch_df = next(data_generator.generate_sample_metrics(window_size, order, batch_size=128))\n",
    "        SNR_dB_batch = metrics_batch_df['SNR']\n",
    "        \n",
    "        args = (x_batch, y_batch, SNR_dB_batch, window_size, order, sample_rate)\n",
    "        result = pool.apply_async(process_batch, (args,))\n",
    "        results.append((result, metrics_batch_df))\n",
    "    \n",
    "    df_resultado = pd.DataFrame()\n",
    "    \n",
    "    for result, metrics_batch_df in results:\n",
    "        pesq_scores, stoi_scores, snr_scores, ID_scores = result.get()\n",
    "        metrics_batch_df['PESQ (Filtered)'] = pesq_scores\n",
    "        metrics_batch_df['STOI (Filtered)'] = stoi_scores\n",
    "        metrics_batch_df['SNR (Filtered)'] = snr_scores\n",
    "        metrics_batch_df['ID (Filtered)'] = ID_scores\n",
    "        \n",
    "        df_resultado = pd.concat([df_resultado, metrics_batch_df], ignore_index=True)"
   ]
  },
  {
   "cell_type": "code",
   "execution_count": null,
   "id": "77bfc5f7-ba11-4999-9b9b-cde00b961f87",
   "metadata": {},
   "outputs": [],
   "source": [
    "df_resultado.describe()"
   ]
  },
  {
   "cell_type": "code",
   "execution_count": null,
   "id": "f8701941-4f2c-4a30-8ea4-a2fb3cd6f92f",
   "metadata": {},
   "outputs": [],
   "source": [
    "performance(df_resultado, 'Kalman')"
   ]
  },
  {
   "cell_type": "code",
   "execution_count": null,
   "id": "7aaea5ec-bc89-4fa0-aa9f-e5aaa8a8b5c2",
   "metadata": {},
   "outputs": [],
   "source": []
  }
 ],
 "metadata": {
  "kernelspec": {
   "display_name": "Python 3 (ipykernel)",
   "language": "python",
   "name": "python3"
  },
  "language_info": {
   "codemirror_mode": {
    "name": "ipython",
    "version": 3
   },
   "file_extension": ".py",
   "mimetype": "text/x-python",
   "name": "python",
   "nbconvert_exporter": "python",
   "pygments_lexer": "ipython3",
   "version": "3.8.10"
  }
 },
 "nbformat": 4,
 "nbformat_minor": 5
}
