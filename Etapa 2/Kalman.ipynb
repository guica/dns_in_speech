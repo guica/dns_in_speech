{
 "cells": [
  {
   "cell_type": "code",
   "execution_count": 1,
   "id": "2e66fd53-b982-43a0-b9e8-6b13131149b8",
   "metadata": {},
   "outputs": [],
   "source": [
    "import sys\n",
    "sys.path.insert(0, '/tf/utils/')"
   ]
  },
  {
   "cell_type": "code",
   "execution_count": 2,
   "id": "f258f8d5-eabc-4c0d-9104-4227f2fa6111",
   "metadata": {},
   "outputs": [],
   "source": [
    "import pandas as pd\n",
    "import matplotlib.pyplot as plt\n",
    "import numpy as np\n",
    "from pesq import pesq\n",
    "import pystoi\n",
    "from scipy.signal import lfilter, wiener\n",
    "import scipy.linalg \n",
    "from tqdm import tqdm\n",
    "\n",
    "from utils import load_wav, calculate_snr, itakura_distortion, performance, preemphasis\n",
    "from sound import Sound\n",
    "from batch import DataGenerator\n",
    "\n",
    "from multiprocessing import Pool, cpu_count\n",
    "import librosa"
   ]
  },
  {
   "cell_type": "code",
   "execution_count": 3,
   "id": "1180c563-94cd-4496-a141-3265f9e9da6d",
   "metadata": {},
   "outputs": [],
   "source": [
    "base_shape_size = 8000"
   ]
  },
  {
   "cell_type": "code",
   "execution_count": 4,
   "id": "0d955a0a-2caf-4e6c-b0b4-7cb7ba82ed12",
   "metadata": {},
   "outputs": [
    {
     "name": "stderr",
     "output_type": "stream",
     "text": [
      "Loading clean files: 100%|██████████| 5476/5476 [00:01<00:00, 2765.96it/s]\n",
      "Loading noise files: 100%|██████████| 2000/2000 [00:09<00:00, 219.85it/s]\n"
     ]
    }
   ],
   "source": [
    "# carrega sons de ruido e sons de voz\n",
    "sound_base = Sound('../Dados/Base/', '../Dados/ESC-50-master/audio/', base_shape_size)"
   ]
  },
  {
   "cell_type": "code",
   "execution_count": 5,
   "id": "5148f30d-1027-430a-9f0e-a5f5b4190bc6",
   "metadata": {},
   "outputs": [],
   "source": [
    "# Parâmetros do sistema\n",
    "order = 16  # Ordem da análise LPC\n",
    "window_size = 250  # Tamanho da janela\n",
    "sample_rate = 8000  # Taxa de amostragem (exemplo)"
   ]
  },
  {
   "cell_type": "code",
   "execution_count": 6,
   "id": "294a4ba6-138a-4faa-9588-8b9454046299",
   "metadata": {},
   "outputs": [],
   "source": [
    "data_generator = DataGenerator(sound_base.train_X, sound_base.noise_sounds)"
   ]
  },
  {
   "cell_type": "code",
   "execution_count": 7,
   "id": "1df60b88-db00-491c-b545-0ea938c60c53",
   "metadata": {},
   "outputs": [],
   "source": [
    "def preemphasis_filter(signal, preemphasis_coeff):\n",
    "    # Aplicar filtro de pré-ênfase de alta passagem\n",
    "    preemphasized_signal = np.append(signal[0], signal[1:] - preemphasis_coeff * signal[:-1])\n",
    "    return preemphasized_signal"
   ]
  },
  {
   "cell_type": "code",
   "execution_count": 26,
   "id": "1a8eb0fc-838d-4784-a41d-bf55b1e568fd",
   "metadata": {},
   "outputs": [],
   "source": [
    "def lpc_analysis(signal, order):\n",
    "    # windowed_signal = preemphasis_filter(signal, 0.83)\n",
    "    windowed_signal = signal * np.hanning(len(signal))\n",
    "\n",
    "    a = librosa.lpc(windowed_signal, order=order)\n",
    "\n",
    "    b = np.hstack([[0], -1 * a[1:]])\n",
    "    y_hat = scipy.signal.lfilter(b, [1], signal)\n",
    "\n",
    "    var_residual = np.var(signal - y_hat)\n",
    "\n",
    "    return a, np.sqrt(var_residual), 0"
   ]
  },
  {
   "cell_type": "code",
   "execution_count": 27,
   "id": "35fe5bc1-0612-40fa-98e2-d5b376ad1b68",
   "metadata": {},
   "outputs": [],
   "source": [
    "def build_matrices(A, window_size):\n",
    "    Ak = np.zeros((order, order))\n",
    "    Ak[:, 0] = -A[1:]\n",
    "    Ak[:-1, 1:] = np.eye(order - 1)\n",
    "\n",
    "    H = np.zeros((1, order))\n",
    "    H[0, 0] = 1.0\n",
    "\n",
    "    return Ak, H"
   ]
  },
  {
   "cell_type": "code",
   "execution_count": 28,
   "id": "0e9eeaaa-1beb-4d5f-bcf3-5ff8c3c1f442",
   "metadata": {},
   "outputs": [],
   "source": [
    "def kalman_filter(signal, Ak, H, Q, R):\n",
    "    x_hat = np.zeros(order)  # Estado estimado\n",
    "    P = np.eye(order)  # Covariância estimada\n",
    "\n",
    "    filtered_signal = []\n",
    "\n",
    "    for sample in signal:\n",
    "        # Atualização temporal (Predição)\n",
    "        x_hat = np.dot(Ak, x_hat)\n",
    "        P = np.dot(np.dot(Ak, P), Ak.T) + Q\n",
    "\n",
    "        # Atualização de mensuração (Correção)\n",
    "        K = np.dot(np.dot(P, H.T), np.linalg.inv(np.dot(np.dot(H, P), H.T) + R))\n",
    "        x_hat = x_hat + np.dot(K, (sample - np.dot(H, x_hat)))\n",
    "        P = P - np.dot(np.dot(K, H), P)\n",
    "\n",
    "        filtered_signal.append(x_hat[0])  # Apenas a primeira componente é o sinal estimado\n",
    "\n",
    "    return np.array(filtered_signal)"
   ]
  },
  {
   "cell_type": "code",
   "execution_count": 29,
   "id": "afd71070-19c1-4263-a170-8272ae32acbf",
   "metadata": {},
   "outputs": [],
   "source": [
    "def process_signal(signal, window_size, order, sample_rate, SNR_dB=10.):\n",
    "    filtered_signal = []\n",
    "\n",
    "    for i in range(0, len(signal), window_size):\n",
    "        window_samples = signal[i:i+window_size]\n",
    "        \n",
    "        # Realizar análise LPC e construir as matrizes Ak e H\n",
    "        A, sigma, _ = lpc_analysis(window_samples, order)\n",
    "        Ak, H = build_matrices(A, len(window_samples))\n",
    "\n",
    "        # Calcular a variância do erro de aquisição R com base no SNR linear\n",
    "        SNR_linear = 10.**(SNR_dB / 10.)\n",
    "        Rx = 1. / SNR_linear\n",
    "        \n",
    "        # Calcular Q e R (assumindo que não mudam dentro da janela)\n",
    "        Q = np.eye(order) * sigma  # Variância do erro de predição\n",
    "        R = np.eye(1) * Rx  # Variância do erro de aquisição\n",
    "\n",
    "        # Aplicar o filtro de Kalman na janela\n",
    "        filtered_window = kalman_filter(window_samples, Ak, H, Q, R)\n",
    "        filtered_signal.extend(filtered_window)\n",
    "\n",
    "    return np.array(filtered_signal)"
   ]
  },
  {
   "cell_type": "code",
   "execution_count": 30,
   "id": "dee33fac-4d2a-4db5-807e-5d1b70fa5842",
   "metadata": {},
   "outputs": [],
   "source": [
    "def process_batch(args):\n",
    "    x_batch, y_batch, SNR_dB_batch, window_size, order, sample_rate = args\n",
    "    filtered_batch = [process_signal(noisy_signal, window_size, order, sample_rate, SNR_dB=SNR_dB) for noisy_signal, SNR_dB in zip(x_batch, SNR_dB_batch)]\n",
    "    \n",
    "    pesq_scores = [pesq(8000, clean, filtered.reshape(-1), 'nb') for clean, filtered in zip(y_batch, filtered_batch)]\n",
    "    stoi_scores = [pystoi.stoi(clean, filtered, 8000) for clean, filtered in zip(y_batch, filtered_batch)]\n",
    "    snr_scores = [calculate_snr(clean, filtered) for clean, filtered in zip(y_batch, filtered_batch)]\n",
    "    ID_scores = [itakura_distortion(clean, filtered, window_size, order) for clean, filtered in zip(y_batch, filtered_batch)]\n",
    "    \n",
    "    return pesq_scores, stoi_scores, snr_scores, ID_scores"
   ]
  },
  {
   "cell_type": "code",
   "execution_count": 31,
   "id": "f81f0a6f-bb3d-443b-af83-8c024fbe3037",
   "metadata": {},
   "outputs": [],
   "source": [
    "batch_num = 50\n",
    "df_resultado = pd.DataFrame()"
   ]
  },
  {
   "cell_type": "code",
   "execution_count": null,
   "id": "ff7224d6-026a-4b81-91a2-38243f7dd349",
   "metadata": {},
   "outputs": [
    {
     "name": "stderr",
     "output_type": "stream",
     "text": [
      "  2%|▏         | 1/50 [00:07<06:27,  7.90s/it]Process ForkPoolWorker-18:\n",
      "Process ForkPoolWorker-19:\n",
      "Process ForkPoolWorker-17:\n",
      "Process ForkPoolWorker-16:\n",
      "Traceback (most recent call last):\n",
      "Process ForkPoolWorker-15:\n",
      "Process ForkPoolWorker-20:\n",
      "Traceback (most recent call last):\n",
      "  File \"/tmp/ipykernel_122661/2873436523.py\", line 3, in process_batch\n",
      "    filtered_batch = [process_signal(noisy_signal, window_size, order, sample_rate, SNR_dB=SNR_dB) for noisy_signal, SNR_dB in zip(x_batch, SNR_dB_batch)]\n",
      "Traceback (most recent call last):\n",
      "Traceback (most recent call last):\n",
      "  File \"/usr/lib/python3.8/multiprocessing/process.py\", line 315, in _bootstrap\n",
      "    self.run()\n",
      "  File \"/usr/lib/python3.8/multiprocessing/process.py\", line 315, in _bootstrap\n",
      "    self.run()\n",
      "  File \"/usr/lib/python3.8/multiprocessing/process.py\", line 108, in run\n",
      "    self._target(*self._args, **self._kwargs)\n",
      "  File \"/usr/lib/python3.8/multiprocessing/process.py\", line 315, in _bootstrap\n",
      "    self.run()\n",
      "  File \"/usr/lib/python3.8/multiprocessing/synchronize.py\", line 95, in __enter__\n",
      "    return self._semlock.__enter__()\n",
      "  File \"/usr/lib/python3.8/multiprocessing/process.py\", line 108, in run\n",
      "    self._target(*self._args, **self._kwargs)\n",
      "  File \"/usr/lib/python3.8/multiprocessing/pool.py\", line 114, in worker\n",
      "    task = get()\n",
      "  File \"/usr/lib/python3.8/multiprocessing/pool.py\", line 114, in worker\n",
      "    task = get()\n",
      "  File \"/usr/lib/python3.8/multiprocessing/queues.py\", line 355, in get\n",
      "    with self._rlock:\n",
      "  File \"/usr/lib/python3.8/multiprocessing/process.py\", line 315, in _bootstrap\n",
      "    self.run()\n",
      "Traceback (most recent call last):\n",
      "Traceback (most recent call last):\n",
      "  File \"/usr/lib/python3.8/multiprocessing/queues.py\", line 355, in get\n",
      "    with self._rlock:\n",
      "  File \"/usr/lib/python3.8/multiprocessing/process.py\", line 315, in _bootstrap\n",
      "    self.run()\n",
      "  File \"/usr/lib/python3.8/multiprocessing/process.py\", line 108, in run\n",
      "    self._target(*self._args, **self._kwargs)\n",
      "  File \"/usr/lib/python3.8/multiprocessing/process.py\", line 315, in _bootstrap\n",
      "    self.run()\n",
      "  File \"/usr/lib/python3.8/multiprocessing/pool.py\", line 114, in worker\n",
      "    task = get()\n",
      "  File \"/usr/lib/python3.8/multiprocessing/process.py\", line 108, in run\n",
      "    self._target(*self._args, **self._kwargs)\n",
      "  File \"/usr/lib/python3.8/multiprocessing/synchronize.py\", line 95, in __enter__\n",
      "    return self._semlock.__enter__()\n",
      "  File \"/usr/lib/python3.8/multiprocessing/process.py\", line 108, in run\n",
      "    self._target(*self._args, **self._kwargs)\n",
      "KeyboardInterrupt\n",
      "  File \"/usr/lib/python3.8/multiprocessing/pool.py\", line 125, in worker\n",
      "    result = (True, func(*args, **kwds))\n",
      "  File \"/usr/lib/python3.8/multiprocessing/queues.py\", line 356, in get\n",
      "    res = self._reader.recv_bytes()\n",
      "  File \"/usr/lib/python3.8/multiprocessing/synchronize.py\", line 95, in __enter__\n",
      "    return self._semlock.__enter__()\n",
      "  File \"/usr/lib/python3.8/multiprocessing/process.py\", line 108, in run\n",
      "    self._target(*self._args, **self._kwargs)\n",
      "  File \"/usr/lib/python3.8/multiprocessing/pool.py\", line 114, in worker\n",
      "    task = get()\n",
      "  File \"/tmp/ipykernel_122661/2873436523.py\", line 3, in <listcomp>\n",
      "    filtered_batch = [process_signal(noisy_signal, window_size, order, sample_rate, SNR_dB=SNR_dB) for noisy_signal, SNR_dB in zip(x_batch, SNR_dB_batch)]\n"
     ]
    }
   ],
   "source": [
    "num_processes = cpu_count()  # Usar o número de núcleos da CPU\n",
    "    \n",
    "with Pool(processes=num_processes) as pool:\n",
    "    results = []\n",
    "    \n",
    "    for _ in tqdm(range(batch_num)):\n",
    "        x_batch, y_batch, metrics_batch_df = next(data_generator.generate_sample_metrics(window_size, order, batch_size=128))\n",
    "        SNR_dB_batch = metrics_batch_df['SNR']\n",
    "        \n",
    "        args = (x_batch, y_batch, SNR_dB_batch, window_size, order, sample_rate)\n",
    "        result = pool.apply_async(process_batch, (args,))\n",
    "        results.append((result, metrics_batch_df))\n",
    "    \n",
    "    df_resultado = pd.DataFrame()\n",
    "    \n",
    "    for result, metrics_batch_df in results:\n",
    "        pesq_scores, stoi_scores, snr_scores, ID_scores = result.get()\n",
    "        metrics_batch_df['PESQ (Filtered)'] = pesq_scores\n",
    "        metrics_batch_df['STOI (Filtered)'] = stoi_scores\n",
    "        metrics_batch_df['SNR (Filtered)'] = snr_scores\n",
    "        metrics_batch_df['ID (Filtered)'] = ID_scores\n",
    "        \n",
    "        df_resultado = pd.concat([df_resultado, metrics_batch_df], ignore_index=True)"
   ]
  },
  {
   "cell_type": "code",
   "execution_count": null,
   "id": "d724f116-a5ae-49de-b7dc-04e61f05d7f4",
   "metadata": {},
   "outputs": [],
   "source": [
    "# for _ in tqdm(range(batch_num)):\n",
    "#     x_batch, y_batch, metrics_batch_df = next(data_generator.generate_sample_metrics(window_size, order, batch_size=128))\n",
    "                \n",
    "#     # Aplica o filtro de Kalman aos sinais ruidosos\n",
    "#     filtered_batch = [process_signal(noisy_signal, window_size, order, sample_rate, SNR_dB=SNR_dB) for noisy_signal, SNR_dB in zip(x_batch, metrics_batch_df['SNR'])]\n",
    "    \n",
    "#     # Calcula as métricas para os sinais filtrados\n",
    "#     pesq_scores = [pesq(8000, clean, filtered.reshape(-1), 'nb') for clean, filtered in zip(y_batch, filtered_batch)]\n",
    "#     stoi_scores = [pystoi.stoi(clean, filtered, 8000) for clean, filtered in zip(y_batch, filtered_batch)]\n",
    "#     snr_scores = [calculate_snr(clean, filtered) for clean, filtered in zip(y_batch, filtered_batch)]\n",
    "#     ID_scores = [itakura_distortion(clean, filtered, window_size, order) for clean, filtered in zip(y_batch, filtered_batch)]\n",
    "    \n",
    "#     # Adiciona as métricas dos sinais filtrados ao DataFrame\n",
    "#     metrics_batch_df['PESQ (Filtered)'] = pesq_scores\n",
    "#     metrics_batch_df['STOI (Filtered)'] = stoi_scores\n",
    "#     metrics_batch_df['SNR (Filtered)'] = snr_scores\n",
    "#     metrics_batch_df['ID (Filtered)'] = ID_scores\n",
    "\n",
    "#     df_resultado = pd.concat([df_resultado, metrics_batch_df], ignore_index=True)"
   ]
  },
  {
   "cell_type": "code",
   "execution_count": null,
   "id": "7816eb9c-f646-4170-b003-c5ae18fa6195",
   "metadata": {},
   "outputs": [],
   "source": [
    "df_resultado"
   ]
  },
  {
   "cell_type": "code",
   "execution_count": null,
   "id": "77bfc5f7-ba11-4999-9b9b-cde00b961f87",
   "metadata": {},
   "outputs": [],
   "source": [
    "df_resultado.describe()"
   ]
  },
  {
   "cell_type": "code",
   "execution_count": null,
   "id": "7dd0a711-bcce-41ab-973d-04186f95109a",
   "metadata": {},
   "outputs": [],
   "source": [
    "# index = 6\n",
    "# start = 2500\n",
    "# end = start + 750\n",
    "\n",
    "# # Plote o sinal original e o sinal do LPC gerado\n",
    "# plt.figure(figsize=(10, 6))\n",
    "\n",
    "# # Plote o sinal original\n",
    "# plt.subplot(3, 1, 1)\n",
    "# plt.plot(y_batch[index][start:end], label='Sinal Original', color='blue')\n",
    "# plt.title('Sinal Original')\n",
    "# plt.xlabel('Amostras')\n",
    "# plt.ylabel('Amplitude')\n",
    "# plt.legend()\n",
    "\n",
    "# # Plote o sinal do LPC gerado\n",
    "# plt.subplot(3, 1, 2)\n",
    "# plt.plot(x_batch[index][start:end], label='Sinal Ruidoso', color='red')\n",
    "# plt.title('Sinal Ruidoso')\n",
    "# plt.xlabel('Amostras')\n",
    "# plt.ylabel('Amplitude')\n",
    "# plt.legend()\n",
    "\n",
    "# # Plote o sinal do LPC gerado\n",
    "# plt.subplot(3, 1, 3)\n",
    "# plt.plot(filtered_batch[index][start:end], label='Sinal Filtrado', color='green')\n",
    "# plt.title('Sinal Filtrado')\n",
    "# plt.xlabel('Amostras')\n",
    "# plt.ylabel('Amplitude')\n",
    "# plt.legend()\n",
    "\n",
    "# plt.tight_layout()\n",
    "# plt.show()"
   ]
  },
  {
   "cell_type": "code",
   "execution_count": null,
   "id": "f8701941-4f2c-4a30-8ea4-a2fb3cd6f92f",
   "metadata": {},
   "outputs": [],
   "source": [
    "performance(df_resultado, 'Kalman')"
   ]
  },
  {
   "cell_type": "code",
   "execution_count": 23,
   "id": "a92cf5bb-0ce0-4ba7-9f8d-97733075195f",
   "metadata": {},
   "outputs": [],
   "source": [
    "from datetime import datetime"
   ]
  },
  {
   "cell_type": "code",
   "execution_count": 24,
   "id": "36260571-0e5d-4e02-a651-88eebb0213f4",
   "metadata": {},
   "outputs": [],
   "source": [
    "# Get the current datetime\n",
    "current_datetime = datetime.now()\n",
    "\n",
    "# Format the datetime as a string to use in the file name\n",
    "datetime_str = current_datetime.strftime(\"%Y-%m-%d_%H-%M-%S\")\n",
    "\n",
    "# Define the file name with the datetime\n",
    "file_name = f\"kalman_{datetime_str}.xlsx\""
   ]
  },
  {
   "cell_type": "code",
   "execution_count": 25,
   "id": "95f96336-1231-4d85-9661-ba6ef77e2509",
   "metadata": {},
   "outputs": [],
   "source": [
    "df_resultado.to_excel(file_name, index=False)"
   ]
  },
  {
   "cell_type": "code",
   "execution_count": null,
   "id": "7aaea5ec-bc89-4fa0-aa9f-e5aaa8a8b5c2",
   "metadata": {},
   "outputs": [],
   "source": []
  }
 ],
 "metadata": {
  "kernelspec": {
   "display_name": "Python 3 (ipykernel)",
   "language": "python",
   "name": "python3"
  },
  "language_info": {
   "codemirror_mode": {
    "name": "ipython",
    "version": 3
   },
   "file_extension": ".py",
   "mimetype": "text/x-python",
   "name": "python",
   "nbconvert_exporter": "python",
   "pygments_lexer": "ipython3",
   "version": "3.8.10"
  }
 },
 "nbformat": 4,
 "nbformat_minor": 5
}
