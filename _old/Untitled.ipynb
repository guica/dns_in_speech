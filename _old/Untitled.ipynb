{
 "cells": [
  {
   "cell_type": "code",
   "execution_count": 1,
   "id": "17a938e6-64e1-4a36-90eb-f71961e31d6d",
   "metadata": {},
   "outputs": [],
   "source": [
    "import numpy as np"
   ]
  },
  {
   "cell_type": "code",
   "execution_count": 16,
   "id": "99f78223-691e-4d81-8723-cc46cbe519a9",
   "metadata": {},
   "outputs": [
    {
     "name": "stdout",
     "output_type": "stream",
     "text": [
      "77\n",
      "Sinal com zero-padding:\n",
      "[   0.            0.            0.         ... 8189.99975583 8190.99987791\n",
      " 8192.        ]\n"
     ]
    },
    {
     "ename": "ValueError",
     "evalue": "cannot reshape array of size 8269 into shape (128,64)",
     "output_type": "error",
     "traceback": [
      "\u001b[0;31m---------------------------------------------------------------------------\u001b[0m",
      "\u001b[0;31mValueError\u001b[0m                                Traceback (most recent call last)",
      "Cell \u001b[0;32mIn[16], line 28\u001b[0m\n\u001b[1;32m     26\u001b[0m \u001b[38;5;28mprint\u001b[39m(\u001b[38;5;124m\"\u001b[39m\u001b[38;5;124mSinal com zero-padding:\u001b[39m\u001b[38;5;124m\"\u001b[39m)\n\u001b[1;32m     27\u001b[0m \u001b[38;5;28mprint\u001b[39m(sinal_com_padding)\n\u001b[0;32m---> 28\u001b[0m \u001b[43msinal_com_padding\u001b[49m\u001b[38;5;241;43m.\u001b[39;49m\u001b[43mreshape\u001b[49m\u001b[43m(\u001b[49m\u001b[38;5;241;43m128\u001b[39;49m\u001b[43m,\u001b[49m\u001b[43m \u001b[49m\u001b[38;5;241;43m64\u001b[39;49m\u001b[43m)\u001b[49m\n",
      "\u001b[0;31mValueError\u001b[0m: cannot reshape array of size 8269 into shape (128,64)"
     ]
    }
   ],
   "source": [
    "def zero_padding_para_janelamento(sinal, tamanho_janela, tamanho_overlap):\n",
    "\n",
    "    tamanho_sinal = len(sinal)\n",
    "\n",
    "    # Calcule o número de janelas sem zero-padding\n",
    "    numero_de_janelas = (tamanho_sinal - tamanho_janela) // (tamanho_janela - tamanho_overlap) + 1\n",
    "\n",
    "    # Calcule o tamanho do sinal com zero-padding\n",
    "    tamanho_sinal_com_padding = tamanho_janela + (numero_de_janelas - 1) * (tamanho_janela - tamanho_overlap)\n",
    "\n",
    "    # Calcule a quantidade de zeros a serem adicionados\n",
    "    zeros_a_adicionar = abs(tamanho_sinal_com_padding - tamanho_sinal)\n",
    "    print(zeros_a_adicionar)\n",
    "\n",
    "    # Realize o zero-padding\n",
    "    sinal_com_padding = [0] * zeros_a_adicionar + list(sinal)\n",
    "\n",
    "    return np.array(sinal_com_padding)\n",
    "\n",
    "# Exemplo de uso:\n",
    "sinal = np.linspace(0, 8192, 8192)\n",
    "tamanho_janela = 255\n",
    "tamanho_overlap = 124\n",
    "\n",
    "sinal_com_padding = zero_padding_para_janelamento(sinal, tamanho_janela, tamanho_overlap)\n",
    "print(\"Sinal com zero-padding:\")\n",
    "print(sinal_com_padding)\n",
    "sinal_com_padding.reshape(128, 64)"
   ]
  },
  {
   "cell_type": "code",
   "execution_count": 13,
   "id": "82f4f13d-b81e-4d35-879b-14864458fc25",
   "metadata": {},
   "outputs": [
    {
     "data": {
      "text/plain": [
       "(1,)"
      ]
     },
     "execution_count": 13,
     "metadata": {},
     "output_type": "execute_result"
    }
   ],
   "source": [
    "sinal.shape"
   ]
  },
  {
   "cell_type": "code",
   "execution_count": null,
   "id": "32e0e81f-4ff4-4000-b36c-fbe810b96b45",
   "metadata": {},
   "outputs": [],
   "source": []
  }
 ],
 "metadata": {
  "kernelspec": {
   "display_name": "Python 3 (ipykernel)",
   "language": "python",
   "name": "python3"
  },
  "language_info": {
   "codemirror_mode": {
    "name": "ipython",
    "version": 3
   },
   "file_extension": ".py",
   "mimetype": "text/x-python",
   "name": "python",
   "nbconvert_exporter": "python",
   "pygments_lexer": "ipython3",
   "version": "3.8.10"
  }
 },
 "nbformat": 4,
 "nbformat_minor": 5
}
