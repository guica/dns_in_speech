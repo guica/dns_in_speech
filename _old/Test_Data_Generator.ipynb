{
 "cells": [
  {
   "cell_type": "code",
   "execution_count": null,
   "metadata": {
    "colab": {
     "base_uri": "https://localhost:8080/"
    },
    "id": "6BcZlFjFK-D8",
    "outputId": "09bb465d-366e-4ca3-9cc8-e7dcf683f977"
   },
   "outputs": [
    {
     "name": "stdout",
     "output_type": "stream",
     "text": [
      "Drive already mounted at /content/drive; to attempt to forcibly remount, call drive.mount(\"/content/drive\", force_remount=True).\n"
     ]
    }
   ],
   "source": [
    "from google.colab import drive\n",
    "drive.mount('/content/drive')"
   ]
  },
  {
   "cell_type": "code",
   "execution_count": null,
   "metadata": {
    "colab": {
     "base_uri": "https://localhost:8080/"
    },
    "id": "OwWAC5qPLDS2",
    "outputId": "c1873421-e749-4481-a97c-7a1e5e32d588"
   },
   "outputs": [
    {
     "name": "stdout",
     "output_type": "stream",
     "text": [
      "/content/drive/My Drive/Faculdade/Mackenzie/TCC\n"
     ]
    }
   ],
   "source": [
    "import os\n",
    "os.chdir(\"/content/drive/My Drive/Faculdade/Mackenzie/TCC/\")\n",
    "!pwd"
   ]
  },
  {
   "cell_type": "code",
   "execution_count": null,
   "metadata": {
    "colab": {
     "base_uri": "https://localhost:8080/"
    },
    "id": "lm4qBYpbLE0p",
    "outputId": "be5ad45c-dea5-4f2f-8a9e-069979a60ca5"
   },
   "outputs": [
    {
     "name": "stdout",
     "output_type": "stream",
     "text": [
      "Looking in indexes: https://pypi.org/simple, https://us-python.pkg.dev/colab-wheels/public/simple/\n",
      "Requirement already satisfied: scikit-learn in /usr/local/lib/python3.10/dist-packages (1.2.2)\n",
      "Requirement already satisfied: glob2 in /usr/local/lib/python3.10/dist-packages (0.7)\n",
      "Requirement already satisfied: tqdm in /usr/local/lib/python3.10/dist-packages (4.65.0)\n",
      "Requirement already satisfied: pesq in /usr/local/lib/python3.10/dist-packages (0.0.4)\n",
      "Requirement already satisfied: numpy>=1.17.3 in /usr/local/lib/python3.10/dist-packages (from scikit-learn) (1.22.4)\n",
      "Requirement already satisfied: scipy>=1.3.2 in /usr/local/lib/python3.10/dist-packages (from scikit-learn) (1.10.1)\n",
      "Requirement already satisfied: joblib>=1.1.1 in /usr/local/lib/python3.10/dist-packages (from scikit-learn) (1.2.0)\n",
      "Requirement already satisfied: threadpoolctl>=2.0.0 in /usr/local/lib/python3.10/dist-packages (from scikit-learn) (3.1.0)\n"
     ]
    }
   ],
   "source": [
    "!pip install scikit-learn glob2 tqdm pesq"
   ]
  },
  {
   "cell_type": "code",
   "execution_count": null,
   "metadata": {
    "id": "iE9OeDJVLGna"
   },
   "outputs": [],
   "source": [
    "import numpy as np\n",
    "from tqdm import tqdm\n",
    "from pesq import pesq\n",
    "import matplotlib.pyplot as plt\n",
    "\n",
    "# Definir o nível de log do TensorFlow para ERROR\n",
    "os.environ['TF_CPP_MIN_LOG_LEVEL'] = '2'\n",
    "\n",
    "from utils import load_wav, generate_white_gaussian_noise, add_white_gaussian_noise, undersample_signal_with_antialiasing, somar_sinais, calculate_snr"
   ]
  },
  {
   "cell_type": "code",
   "execution_count": null,
   "metadata": {
    "id": "HHr6m5KNLMMm"
   },
   "outputs": [],
   "source": [
    "def get_sounds_from_folder(path, pattern):\n",
    "    max_depth = 3  # replace with the maximum depth of subfolders to search\n",
    "\n",
    "    sound_list = []\n",
    "\n",
    "    for root, dirs, files in os.walk(path):\n",
    "        depth = root[len(path) + len(os.path.sep):].count(os.path.sep)\n",
    "        if depth < max_depth:\n",
    "            for file in files:\n",
    "                if file.endswith(pattern):#or file.endswith('.bin'):\n",
    "                    wav_path = os.path.join(root, file)\n",
    "                    sound_list.append(wav_path)\n",
    "    \n",
    "    return sound_list"
   ]
  },
  {
   "cell_type": "code",
   "execution_count": null,
   "metadata": {
    "colab": {
     "base_uri": "https://localhost:8080/"
    },
    "id": "_ORIIkesTzZM",
    "outputId": "442817db-0158-441a-efe0-01d5639bc3de"
   },
   "outputs": [
    {
     "name": "stdout",
     "output_type": "stream",
     "text": [
      "from scipy.signal import butter, filtfilt, resample\n",
      "import scipy.io.wavfile as wavfile\n",
      "import numpy as np\n",
      "import os\n",
      "\n",
      "def get_sounds_from_folder(path, pattern):\n",
      "    max_depth = 3  # replace with the maximum depth of subfolders to search\n",
      "\n",
      "    sound_list = []\n",
      "\n",
      "    for root, dirs, files in os.walk(path):\n",
      "        depth = root[len(path) + len(os.path.sep):].count(os.path.sep)\n",
      "        if depth < max_depth:\n",
      "            for file in files:\n",
      "                if file.endswith(pattern):#or file.endswith('.bin'):\n",
      "                    wav_path = os.path.join(root, file)\n",
      "                    sound_list.append(wav_path)\n",
      "    \n",
      "    return sound_list\n",
      "\n",
      "def my():\n",
      "    pass\n",
      "\n",
      "def load_wav(filename, debug=False):\n",
      "    # Load the WAV file\n",
      "    sample_rate, data = wavfile.read(filename)\n",
      "    \n",
      "    if debug==True:\n",
      "        print(np.max(data))\n",
      "        print(np.min(data))\n",
      "\n",
      "    # Normalize the data to float32 values between -1 and 1\n",
      "    normalized_sound = np.float32(data)/ 32767.0\n",
      "    \n",
      "    if debug==True:\n",
      "        print(np.max(normalized_sound))\n",
      "        print(np.min(normalized_sound))\n",
      "\n",
      "    return normalized_sound\n",
      "\n",
      "    # Convert the data to float32 values between -1 and 1\n",
      "    data = np.float32(data / 32767.0)\n",
      "    return data\n",
      "\n",
      "def save_sound_to_wav(array, bin_path):\n",
      "    # Set the sampling rate and audio data\n",
      "    sampling_rate = 8000\n",
      "\n",
      "    s = (32768.0*array.copy()).astype(np.int16)\n",
      "\n",
      "    # Save the audio data as a WAV file\n",
      "    wavfile.write(bin_path, sampling_rate, s)\n",
      "\n",
      "def add_white_gaussian_noise(signal, snr):\n",
      "    # Calculate the signal power and convert to dB\n",
      "    signal_power = np.mean(signal**2)\n",
      "    signal_power_db = 10 * np.log10(signal_power)\n",
      "\n",
      "    # Calculate the noise power required for the specified SNR and convert to linear scale\n",
      "    noise_power_db = signal_power_db - snr\n",
      "    noise_power = 10**(noise_power_db / 10)\n",
      "\n",
      "    # Generate random noise with the required power and add it to the signal\n",
      "    noise = np.random.normal(0, np.sqrt(noise_power), len(signal))\n",
      "    noisy_signal = signal + noise\n",
      "\n",
      "    return noisy_signal\n",
      "\n",
      "def generate_white_gaussian_noise(signal):\n",
      "    # Generate random noise\n",
      "    noise = np.random.normal(0, 1, len(signal))\n",
      "\n",
      "    return noise\n",
      "\n",
      "\n",
      "def somar_sinais(sinal1, sinal2, relacao_potencia_dB):\n",
      "    # Verificar se os sinais têm o mesmo tamanho\n",
      "    if len(sinal1) != len(sinal2):\n",
      "        raise ValueError(\"Os sinais devem ter o mesmo tamanho\")\n",
      "\n",
      "    # Calcular a potência do primeiro sinal\n",
      "    potencia_sinal1 = np.mean(np.abs(sinal1) ** 2)\n",
      "\n",
      "    # Calcular a potência do segundo sinal\n",
      "    potencia_sinal2 = np.mean(np.abs(sinal2) ** 2)\n",
      "\n",
      "    # Converter a relação de potência para escala linear\n",
      "    relacao_potencia_linear = 10 ** (relacao_potencia_dB / 10)\n",
      "\n",
      "    # Calcular a potência desejada para o segundo sinal\n",
      "    potencia_desejada_sinal2 = relacao_potencia_linear * potencia_sinal1\n",
      "\n",
      "    # Ajustar a amplitude do segundo sinal\n",
      "    fator_amplitude = np.sqrt(potencia_desejada_sinal2 / potencia_sinal2)\n",
      "    sinal2_ajustado = sinal2 * fator_amplitude\n",
      "\n",
      "    # Somar os sinais\n",
      "    sinal_somado = sinal1 + sinal2_ajustado\n",
      "\n",
      "    return sinal_somado\n",
      "\n",
      "def calcular_componentes_fourier(sinal):\n",
      "    componentes = np.fft.fft(sinal)\n",
      "    # Obter a magnitude máxima dos componentes\n",
      "    max_magnitude = np.max(np.abs(componentes), axis=1).reshape(-1, 1)\n",
      "    # Normalizar os componentes para o intervalo [-1, 1]\n",
      "    componentes_normalizados = componentes / max_magnitude\n",
      "    \n",
      "    res = np.stack((np.real(componentes_normalizados), np.imag(componentes_normalizados)), axis=2)\n",
      "\n",
      "    return np.array(res), max_magnitude\n",
      "\n",
      "def reconstruir_sinal(componentes, max_magnitude):\n",
      "    comp = componentes[:, :, 0] + 1j * componentes[:, :, 1]\n",
      "    print(comp.shape)\n",
      "    sinal_reconstruido = np.fft.ifft(comp) * max_magnitude\n",
      "    return np.real(sinal_reconstruido)\n",
      "\n",
      "def undersample_signal_with_antialiasing(sound, orig_sr, desired_sr):\n",
      "    \n",
      "    new_sound = sound.copy()\n",
      "    \n",
      "    nyq = 0.5 * orig_sr\n",
      "    cutoff_freq = desired_sr /2\n",
      "    order = 6\n",
      "    normal_cutoff = cutoff_freq / nyq\n",
      "\n",
      "    # Compute the filter coefficients\n",
      "    b, a = butter(order, normal_cutoff, btype='low', analog=False)\n",
      "    sound = filtfilt(b, a, new_sound)\n",
      "\n",
      "    target_size = int(len(new_sound)*desired_sr/orig_sr)\n",
      "    downsampled_signal = resample(new_sound, target_size)\n",
      "\n",
      "    return downsampled_signal\n",
      "\n",
      "def load_sound_from_bin(bin_path):\n",
      "    # Carrega arquivo inteiro formato DOS\n",
      "    # de nome contido na string str na variável x\n",
      "\n",
      "    # with open(bin_path, 'rb') as f:\n",
      "    #     x = np.fromfile(f, dtype=np.uint16)\n",
      "\n",
      "    # supu = 2 ** 16  # 'supremo' unsigned\n",
      "    # supc = 2 ** 15  # 'supremo' complemento de dois\n",
      "\n",
      "    # nx = len(x)\n",
      "    # x = 256 * x[1:nx:2] + x[0:nx:2]\n",
      "    # i = np.where(x >= supc)[0]  # amostras que devem ser complementadas\n",
      "    # x[i] = x[i] - supu\n",
      "\n",
      "    # # return x, i\n",
      "    # return uint16_to_int16(x)\n",
      "\n",
      "    with open(bin_path, 'rb') as f:\n",
      "        # Read the binary data as a string\n",
      "        data = f.read()\n",
      "\n",
      "    # Convert the string to a numpy int16 array\n",
      "    array = np.frombuffer(data, dtype=np.int16)\n",
      "    return array.astype(np.float32) / 32768.0\n",
      "\n",
      "def calculate_snr(clean_signal, noisy_signal):\n",
      "    \"\"\"\n",
      "    Calculate the signal-to-noise ratio (SNR) in dB between a clean signal and a noisy signal.\n",
      "    \n",
      "    Args:\n",
      "    clean_signal (numpy array): clean signal of shape (N, 1)\n",
      "    noisy_signal (numpy array): noisy signal of shape (N, 1)\n",
      "    \n",
      "    Returns:\n",
      "    snr_db (float): signal-to-noise ratio (SNR) in dB\n",
      "    \"\"\"\n",
      "    clean_signal = clean_signal.reshape(-1, 1)\n",
      "    noisy_signal = noisy_signal.reshape(-1, 1)\n",
      "    \n",
      "    # Calculate the power of the clean signal\n",
      "    clean_power = np.mean(clean_signal ** 2)\n",
      "    \n",
      "    # Calculate the power of the noise signal\n",
      "    noise_signal = noisy_signal - clean_signal\n",
      "    noise_power = np.mean(noise_signal ** 2)\n",
      "    \n",
      "    # Calculate the SNR in dB\n",
      "    snr_db = 10 * np.log10(clean_power / noise_power)\n",
      "    \n",
      "    return snr_db\n",
      "\n",
      "def calculate_snrseg(clean_signal, noisy_signal, segment_size):\n",
      "    \"\"\"\n",
      "    Calculate the signal-to-noise ratio (SNR) using the SNRseg metric between a clean signal and a noisy signal.\n",
      "    \n",
      "    Args:\n",
      "    clean_signal (numpy array): clean signal of shape (N, 1)\n",
      "    noisy_signal (numpy array): noisy signal of shape (N, 1)\n",
      "    segment_size (int): size of each segment\n",
      "    \n",
      "    Returns:\n",
      "    snr_db (float): signal-to-noise ratio (SNR) using the SNRseg metric\n",
      "    \"\"\"\n",
      "    clean_signal = clean_signal.reshape(-1,1)\n",
      "    noisy_signal = noisy_signal.reshape(-1,1)\n",
      "    \n",
      "    # Calculate the number of segments\n",
      "    num_segments = int(np.floor(len(clean_signal) / segment_size))\n",
      "    \n",
      "    # Calculate the power of the clean signal\n",
      "    clean_power = np.mean(clean_signal ** 2)\n",
      "    \n",
      "    # Initialize the noise power and segment count\n",
      "    noise_power = 0\n",
      "    segment_count = 0\n",
      "    \n",
      "    # Calculate the power of the noise signal for each segment\n",
      "    for i in range(num_segments):\n",
      "        segment_start = i * segment_size\n",
      "        segment_end = (i+1) * segment_size\n",
      "        noise_signal = noisy_signal[segment_start:segment_end] - clean_signal[segment_start:segment_end]\n",
      "        noise_power += np.mean(noise_signal ** 2)\n",
      "        segment_count += 1\n",
      "        \n",
      "    # Calculate the average noise power over all segments\n",
      "    noise_power = noise_power / segment_count\n",
      "    \n",
      "    # Calculate the SNR using the SNRseg metric\n",
      "    snr_db = 10 * np.log10(clean_power / noise_power)\n",
      "    \n",
      "    return snr_db"
     ]
    }
   ],
   "source": [
    "!cat utils.py"
   ]
  },
  {
   "cell_type": "code",
   "execution_count": null,
   "metadata": {
    "id": "OEvoAa4_LPDd"
   },
   "outputs": [],
   "source": [
    "base_shape_size = 6144\n",
    "noise_files_dir = './ESC-50-master/ESC-50-master/audio/'\n",
    "clean_files = get_sounds_from_folder('./Base/Base/', 'clean.wav')\n",
    "noise_files = os.listdir(noise_files_dir)"
   ]
  },
  {
   "cell_type": "code",
   "execution_count": null,
   "metadata": {
    "colab": {
     "base_uri": "https://localhost:8080/"
    },
    "id": "z2xOd5mFLTDf",
    "outputId": "0bd5477b-ac0d-4046-d5d0-0285e911e974"
   },
   "outputs": [
    {
     "name": "stderr",
     "output_type": "stream",
     "text": [
      "100%|██████████| 10/10 [00:00<00:00, 388.29it/s]\n"
     ]
    }
   ],
   "source": [
    "# Load clean sounds\n",
    "\n",
    "clean_sounds = np.empty((1, base_shape_size), np.float32)\n",
    "\n",
    "for clean_file in tqdm(clean_files[:10]):\n",
    "    clean_sound = load_wav(clean_file)\n",
    "    clean_sound = clean_sound[:len(clean_sound) // base_shape_size * base_shape_size].reshape(-1, base_shape_size)\n",
    "    clean_sounds = np.append(clean_sounds, clean_sound, axis=0)\n",
    "\n",
    "# Verificar quais amostras da primeira dimensão têm valores fora do intervalo [-1, 1]\n",
    "condicao = np.logical_or(clean_sounds > 1., clean_sounds < -1.)\n",
    "# Verificar se há algum valor NaN\n",
    "condicao_nan = np.isnan(clean_sounds)\n",
    "# Verificar se há alguma condição verdadeira em qualquer uma das duas condições\n",
    "condicao_final = np.logical_or(condicao, condicao_nan)\n",
    "# Verificar se alguma condição é verdadeira em cada linha\n",
    "linhas_invalidas = np.any(condicao_final, axis=1)\n",
    "\n",
    "# Remover as amostras que atendem à condição\n",
    "clean_sounds = clean_sounds[~linhas_invalidas]"
   ]
  },
  {
   "cell_type": "code",
   "execution_count": null,
   "metadata": {
    "colab": {
     "base_uri": "https://localhost:8080/"
    },
    "id": "TRSNK6aDLXwK",
    "outputId": "a44017f5-794a-4c99-a590-9232710d3538"
   },
   "outputs": [
    {
     "name": "stderr",
     "output_type": "stream",
     "text": [
      "100%|██████████| 10/10 [00:00<00:00, 17.15it/s]\n"
     ]
    }
   ],
   "source": [
    "# Load noisy sounds\n",
    "\n",
    "noise_sounds = []\n",
    "\n",
    "for noise_file in tqdm(noise_files[:10]):\n",
    "    noise_sound = load_wav(os.path.join(noise_files_dir, noise_file))\n",
    "    noise_sound_under = undersample_signal_with_antialiasing(noise_sound, 44100, 8000)\n",
    "    noise_sound_under = noise_sound_under[base_shape_size:base_shape_size*3]\n",
    "    noise_sound_under = noise_sound_under.reshape(-1, base_shape_size)\n",
    "\n",
    "    # Verificar quais amostras da primeira dimensão têm valores maiores que 1\n",
    "    condicao = np.logical_or(noise_sound_under > 1, noise_sound_under < -1, np.isnan(noise_sound_under)).any(axis=1)\n",
    "    # Remover as amostras que atendem à condição\n",
    "    array_filtrado = clean_sound[np.logical_not(condicao)]\n",
    "\n",
    "    noise_sounds.append(array_filtrado)\n",
    "\n",
    "noise_sounds = np.array(noise_sounds).reshape(-1, base_shape_size)\n",
    "\n",
    "# Verificar quais amostras da primeira dimensão têm valores fora do intervalo [-1, 1]\n",
    "condicao = np.logical_or(noise_sounds > 1., noise_sounds < -1.)\n",
    "# Verificar se há algum valor NaN\n",
    "condicao_nan = np.isnan(noise_sounds)\n",
    "# Verificar se há alguma condição verdadeira em qualquer uma das duas condições\n",
    "condicao_final = np.logical_or(condicao, condicao_nan)\n",
    "# Verificar se alguma condição é verdadeira em cada linha\n",
    "linhas_invalidas = np.any(condicao_final, axis=1)\n",
    "\n",
    "# Remover as amostras que atendem à condição\n",
    "noise_sounds = noise_sounds[~linhas_invalidas]"
   ]
  },
  {
   "cell_type": "code",
   "execution_count": null,
   "metadata": {
    "id": "M-32uH_eMIYf"
   },
   "outputs": [],
   "source": [
    "class DataGenerator:\n",
    "    def __init__(self, sound_files, noise_files):\n",
    "        self.sound_files = sound_files\n",
    "        self.noise_files = noise_files\n",
    "        \n",
    "    def normalize_array(self, array):\n",
    "        min_val = np.min(array)\n",
    "        max_val = np.max(array)\n",
    "        normalized_array = (array - min_val) / (max_val - min_val)\n",
    "        normalized_array = normalized_array * 2 - 1\n",
    "        return normalized_array\n",
    "\n",
    "    def generate_sample_pesq(self, batch_size=32):\n",
    "        while True:\n",
    "            # Carrega um lote de sons\n",
    "            sound_batch_choices = np.random.choice(self.sound_files.shape[0], size=batch_size, replace=False)\n",
    "            sound_batch = self.sound_files[sound_batch_choices]\n",
    "            \n",
    "            # Carrega um lote de ruídos\n",
    "            noise_batch_choices = np.random.choice(self.noise_files.shape[0], size=batch_size, replace=False)\n",
    "            noise_batch = self.noise_files[noise_batch_choices]\n",
    "            \n",
    "            x_train = []\n",
    "            y_train = []\n",
    "            \n",
    "            # Adiciona ruído a cada som e calcula a nota PESQ\n",
    "            for sound, noise in zip(sound_batch, noise_batch):\n",
    "                sr = np.random.randint(0, 60, size=(1,)[0])\n",
    "                noisy_sound = somar_sinais(sound, noise, sr)\n",
    "                noisy_sound = self.normalize_array(noisy_sound)\n",
    "                sound = self.normalize_array(sound)\n",
    "                \n",
    "                noisy_sound = add_white_gaussian_noise(noisy_sound, np.random.randint(5, 30, size=(1,)[0]))\n",
    "                noisy_sound = self.normalize_array(noisy_sound)\n",
    "    \n",
    "                # Calcula a nota PESQ\n",
    "                try:\n",
    "                    pesq_score = pesq(8000, sound, noisy_sound, 'nb')\n",
    "                except:\n",
    "                    continue\n",
    "\n",
    "                valor_min = -0.6\n",
    "                valor_max = 4.6\n",
    "                pesq_score = (pesq_score - valor_min) / (valor_max - valor_min)\n",
    "                \n",
    "                # Formata dados para treinamento\n",
    "                original_sound = sound.reshape((base_shape_size, 1))\n",
    "                d_sound = noisy_sound.reshape((base_shape_size, 1))\n",
    "                \n",
    "                merged_array = np.concatenate((original_sound, d_sound), axis=1)\n",
    "                \n",
    "                # Adiciona o exemplo ao lote de treinamento\n",
    "                x_train.append(merged_array)\n",
    "                y_train.append(pesq_score)\n",
    "            \n",
    "            yield np.array(x_train), np.array(y_train)\n",
    "            \n",
    "    def generate_sample_completo(self, batch_size=32):\n",
    "        while True:\n",
    "            # Carrega um lote de sons\n",
    "            sound_batch_choices = np.random.choice(self.sound_files.shape[0], size=batch_size, replace=False)\n",
    "            sound_batch = self.sound_files[sound_batch_choices]\n",
    "            \n",
    "            # Carrega um lote de ruídos\n",
    "            noise_batch_choices = np.random.choice(self.noise_files.shape[0], size=batch_size, replace=False)\n",
    "            noise_batch = self.noise_files[noise_batch_choices]\n",
    "            \n",
    "            x1_train = []\n",
    "            x2_train = []\n",
    "            y_train = []\n",
    "            \n",
    "            # Adiciona ruído a cada som e calcula a nota PESQ\n",
    "            for sound, noise in zip(sound_batch, noise_batch):\n",
    "                sr = np.random.randint(-5, 60, size=(1,)[0])\n",
    "                noisy_sound = somar_sinais(sound, noise, sr)\n",
    "                noisy_sound = self.normalize_array(noisy_sound)\n",
    "                sound = self.normalize_array(sound)\n",
    "\n",
    "                noisy_sound = add_white_gaussian_noise(noisy_sound, np.random.randint(5, 30, size=(1,)[0]))\n",
    "                noisy_sound = self.normalize_array(noisy_sound)\n",
    "    \n",
    "                # Calcula a nota PESQ\n",
    "                pesq_score = 1.0\n",
    "                \n",
    "                # Formata dados para treinamento\n",
    "                original_sound = sound.reshape((base_shape_size, 1))\n",
    "                d_sound = noisy_sound.reshape((256, 24, 1))\n",
    "                \n",
    "#                 merged_array = np.concatenate((original_sound, d_sound), axis=1)\n",
    "                \n",
    "                # Adiciona o exemplo ao lote de treinamento\n",
    "                x1_train.append(d_sound)\n",
    "                x2_train.append(original_sound)\n",
    "                y_train.append(pesq_score)\n",
    "            \n",
    "            yield [np.array(x1_train), np.array(x2_train)], np.array(y_train)\n",
    "\n",
    "    def generate_sample_pre(self, batch_size=32):\n",
    "        while True:\n",
    "            # Carrega um lote de sons\n",
    "            sound_batch_choices = np.random.choice(self.sound_files.shape[0], size=batch_size, replace=False)\n",
    "            sound_batch = self.sound_files[sound_batch_choices]\n",
    "            \n",
    "            # Carrega um lote de ruídos\n",
    "            noise_batch_choices = np.random.choice(self.noise_files.shape[0], size=batch_size, replace=False)\n",
    "            noise_batch = self.noise_files[noise_batch_choices]\n",
    "            \n",
    "            x1_train = []\n",
    "            y_train = []\n",
    "            \n",
    "            # Adiciona ruído a cada som e calcula a nota PESQ\n",
    "            for sound, noise in zip(sound_batch, noise_batch):\n",
    "                sr = np.random.randint(-5, 60, size=(1,)[0])\n",
    "                noisy_sound = somar_sinais(sound, noise, sr)\n",
    "                noisy_sound = self.normalize_array(noisy_sound)\n",
    "                sound = self.normalize_array(sound)\n",
    "                \n",
    "                noisy_sound = add_white_gaussian_noise(noisy_sound, np.random.randint(5, 30, size=(1,)[0]))\n",
    "                noisy_sound = self.normalize_array(noisy_sound)\n",
    "                \n",
    "                # Formata dados para treinamento\n",
    "                original_sound = sound.reshape((base_shape_size, 1))\n",
    "                d_sound = noisy_sound.reshape((256, 24, 1))\n",
    "                \n",
    "                # Adiciona o exemplo ao lote de treinamento\n",
    "                x1_train.append(d_sound)\n",
    "                y_train.append(original_sound)\n",
    "            \n",
    "            yield np.array(x1_train), np.array(y_train)"
   ]
  },
  {
   "cell_type": "code",
   "execution_count": null,
   "metadata": {
    "id": "4FxolYieMO4F"
   },
   "outputs": [],
   "source": [
    "data_generator_train = DataGenerator(clean_sounds, noise_sounds)"
   ]
  },
  {
   "cell_type": "code",
   "execution_count": null,
   "metadata": {
    "id": "lWi0vOgLMayG"
   },
   "outputs": [],
   "source": [
    "X, Y = next(data_generator_train.generate_sample_pre(batch_size=2))"
   ]
  },
  {
   "cell_type": "code",
   "execution_count": null,
   "metadata": {
    "colab": {
     "base_uri": "https://localhost:8080/"
    },
    "id": "gY-74Re9Mm_5",
    "outputId": "684fabba-abca-48af-96fa-2f5cf45b7571"
   },
   "outputs": [
    {
     "data": {
      "text/plain": [
       "(2, 6144, 1)"
      ]
     },
     "execution_count": 13,
     "metadata": {},
     "output_type": "execute_result"
    }
   ],
   "source": [
    "X.reshape(-1, 6144, 1).shape"
   ]
  },
  {
   "cell_type": "code",
   "execution_count": null,
   "metadata": {
    "colab": {
     "base_uri": "https://localhost:8080/"
    },
    "id": "cOqV3MlKODCv",
    "outputId": "eaf9c0ab-093a-4d46-bddf-116182cd4e53"
   },
   "outputs": [
    {
     "data": {
      "text/plain": [
       "(2, 6144, 1)"
      ]
     },
     "execution_count": 14,
     "metadata": {},
     "output_type": "execute_result"
    }
   ],
   "source": [
    "Y.shape"
   ]
  },
  {
   "cell_type": "code",
   "execution_count": null,
   "metadata": {
    "colab": {
     "base_uri": "https://localhost:8080/",
     "height": 447
    },
    "id": "LkSRLf8bMztc",
    "outputId": "c774fedf-af2c-4a40-a319-db5154b3cdac"
   },
   "outputs": [
    {
     "data": {
      "text/plain": [
       "[<matplotlib.lines.Line2D at 0x7fc20d088dc0>]"
      ]
     },
     "execution_count": 15,
     "metadata": {},
     "output_type": "execute_result"
    },
    {
     "data": {
      "image/png": "[encoded data removed]",
      "text/plain": [
       "<Figure size 640x480 with 1 Axes>"
      ]
     },
     "metadata": {},
     "output_type": "display_data"
    }
   ],
   "source": [
    "import matplotlib.pyplot as plt\n",
    "\n",
    "plt.plot(Y[0])"
   ]
  },
  {
   "cell_type": "code",
   "execution_count": null,
   "metadata": {
    "colab": {
     "base_uri": "https://localhost:8080/",
     "height": 447
    },
    "id": "tbINIfTbNKR5",
    "outputId": "4f3d355a-be36-4669-efbf-7e1894f807b7"
   },
   "outputs": [
    {
     "data": {
      "text/plain": [
       "[<matplotlib.lines.Line2D at 0x7fc20cfa3280>]"
      ]
     },
     "execution_count": 16,
     "metadata": {},
     "output_type": "execute_result"
    },
    {
     "data": {
      "image/png": "[encoded data removed]",
      "text/plain": [
       "<Figure size 640x480 with 1 Axes>"
      ]
     },
     "metadata": {},
     "output_type": "display_data"
    }
   ],
   "source": [
    "plt.plot(X.reshape(-1, 6144, 1)[0])"
   ]
  },
  {
   "cell_type": "code",
   "execution_count": null,
   "metadata": {
    "id": "KgWHWQ17N7Di"
   },
   "outputs": [],
   "source": []
  }
 ],
 "metadata": {
  "colab": {
   "provenance": []
  },
  "kernelspec": {
   "display_name": "Python 3",
   "name": "python3"
  },
  "language_info": {
   "name": "python"
  }
 },
 "nbformat": 4,
 "nbformat_minor": 0
}
