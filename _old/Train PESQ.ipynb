{
 "cells": [
  {
   "cell_type": "code",
   "execution_count": 1,
   "id": "f8525f45",
   "metadata": {},
   "outputs": [
    {
     "name": "stdout",
     "output_type": "stream",
     "text": [
      "Collecting scikit-learn\n",
      "  Downloading scikit_learn-1.2.2-cp38-cp38-manylinux_2_17_x86_64.manylinux2014_x86_64.whl (9.8 MB)\n",
      "\u001b[2K     \u001b[90m━━━━━━━━━━━━━━━━━━━━━━━━━━━━━━━━━━━━━━━━\u001b[0m \u001b[32m9.8/9.8 MB\u001b[0m \u001b[31m20.3 MB/s\u001b[0m eta \u001b[36m0:00:00\u001b[0m00:01\u001b[0m00:01\u001b[0m\n",
      "\u001b[?25hRequirement already satisfied: scipy>=1.3.2 in /usr/local/lib/python3.8/dist-packages (from scikit-learn) (1.10.1)\n",
      "Requirement already satisfied: numpy>=1.17.3 in /usr/local/lib/python3.8/dist-packages (from scikit-learn) (1.23.5)\n",
      "Collecting joblib>=1.1.1\n",
      "  Downloading joblib-1.2.0-py3-none-any.whl (297 kB)\n",
      "\u001b[2K     \u001b[90m━━━━━━━━━━━━━━━━━━━━━━━━━━━━━━━━━━━━━━━\u001b[0m \u001b[32m298.0/298.0 kB\u001b[0m \u001b[31m2.8 MB/s\u001b[0m eta \u001b[36m0:00:00\u001b[0m00:01\u001b[0m\n",
      "\u001b[?25hCollecting threadpoolctl>=2.0.0\n",
      "  Downloading threadpoolctl-3.1.0-py3-none-any.whl (14 kB)\n",
      "Installing collected packages: threadpoolctl, joblib, scikit-learn\n",
      "Successfully installed joblib-1.2.0 scikit-learn-1.2.2 threadpoolctl-3.1.0\n",
      "\u001b[33mWARNING: Running pip as the 'root' user can result in broken permissions and conflicting behaviour with the system package manager. It is recommended to use a virtual environment instead: https://pip.pypa.io/warnings/venv\u001b[0m\u001b[33m\n",
      "\u001b[0m\n",
      "\u001b[1m[\u001b[0m\u001b[34;49mnotice\u001b[0m\u001b[1;39;49m]\u001b[0m\u001b[39;49m A new release of pip is available: \u001b[0m\u001b[31;49m23.0.1\u001b[0m\u001b[39;49m -> \u001b[0m\u001b[32;49m23.1.2\u001b[0m\n",
      "\u001b[1m[\u001b[0m\u001b[34;49mnotice\u001b[0m\u001b[1;39;49m]\u001b[0m\u001b[39;49m To update, run: \u001b[0m\u001b[32;49mpython3 -m pip install --upgrade pip\u001b[0m\n"
     ]
    }
   ],
   "source": [
    "!pip install scikit-learn"
   ]
  },
  {
   "cell_type": "code",
   "execution_count": 2,
   "id": "7d5c7890",
   "metadata": {},
   "outputs": [
    {
     "name": "stderr",
     "output_type": "stream",
     "text": [
      "2023-05-18 17:58:09.181590: I tensorflow/core/platform/cpu_feature_guard.cc:182] This TensorFlow binary is optimized to use available CPU instructions in performance-critical operations.\n",
      "To enable the following instructions: AVX2 FMA, in other operations, rebuild TensorFlow with the appropriate compiler flags.\n"
     ]
    }
   ],
   "source": [
    "import numpy as np\n",
    "import tensorflow as tf\n",
    "from tensorflow.keras.layers import Input, Conv1D, Activation, Dropout, Conv1D, Conv1DTranspose, MaxPooling1D, concatenate, Concatenate, LSTM, Dense, SimpleRNN, BatchNormalization, Dropout, BatchNormalization, Add, Flatten\n",
    "from tensorflow.keras.models import Model\n",
    "from tensorflow.keras.layers import LayerNormalization, Dropout, MultiHeadAttention, Conv2D, Conv2DTranspose, MaxPooling2D, Permute, Reshape\n",
    "\n",
    "# import sounddevice as sd\n",
    "import os\n",
    "from scipy.signal import butter, filtfilt\n",
    "from scipy.signal import resample\n",
    "from sklearn.model_selection import train_test_split\n",
    "import matplotlib.pyplot as plt\n",
    "from scipy.io import wavfile\n",
    "from glob2 import glob\n",
    "from tqdm import tqdm"
   ]
  },
  {
   "cell_type": "code",
   "execution_count": 3,
   "id": "17f84ba2",
   "metadata": {},
   "outputs": [
    {
     "name": "stdout",
     "output_type": "stream",
     "text": [
      "TPU not found\n",
      "Computador com GPU: /device:GPU:0\n",
      "Dispositivos: ['device: 0, name: NVIDIA GeForce GTX 1070 Ti, pci bus id: 0000:01:00.0, compute capability: 6.1']\n",
      "\n"
     ]
    },
    {
     "name": "stderr",
     "output_type": "stream",
     "text": [
      "2023-05-18 17:58:23.857178: I tensorflow/compiler/xla/stream_executor/cuda/cuda_gpu_executor.cc:996] successful NUMA node read from SysFS had negative value (-1), but there must be at least one NUMA node, so returning NUMA node zero. See more at https://github.com/torvalds/linux/blob/v6.0/Documentation/ABI/testing/sysfs-bus-pci#L344-L355\n",
      "2023-05-18 17:58:24.111386: I tensorflow/compiler/xla/stream_executor/cuda/cuda_gpu_executor.cc:996] successful NUMA node read from SysFS had negative value (-1), but there must be at least one NUMA node, so returning NUMA node zero. See more at https://github.com/torvalds/linux/blob/v6.0/Documentation/ABI/testing/sysfs-bus-pci#L344-L355\n",
      "2023-05-18 17:58:24.111945: I tensorflow/compiler/xla/stream_executor/cuda/cuda_gpu_executor.cc:996] successful NUMA node read from SysFS had negative value (-1), but there must be at least one NUMA node, so returning NUMA node zero. See more at https://github.com/torvalds/linux/blob/v6.0/Documentation/ABI/testing/sysfs-bus-pci#L344-L355\n",
      "2023-05-18 17:58:29.355147: I tensorflow/compiler/xla/stream_executor/cuda/cuda_gpu_executor.cc:996] successful NUMA node read from SysFS had negative value (-1), but there must be at least one NUMA node, so returning NUMA node zero. See more at https://github.com/torvalds/linux/blob/v6.0/Documentation/ABI/testing/sysfs-bus-pci#L344-L355\n",
      "2023-05-18 17:58:29.355727: I tensorflow/compiler/xla/stream_executor/cuda/cuda_gpu_executor.cc:996] successful NUMA node read from SysFS had negative value (-1), but there must be at least one NUMA node, so returning NUMA node zero. See more at https://github.com/torvalds/linux/blob/v6.0/Documentation/ABI/testing/sysfs-bus-pci#L344-L355\n",
      "2023-05-18 17:58:29.356250: I tensorflow/compiler/xla/stream_executor/cuda/cuda_gpu_executor.cc:996] successful NUMA node read from SysFS had negative value (-1), but there must be at least one NUMA node, so returning NUMA node zero. See more at https://github.com/torvalds/linux/blob/v6.0/Documentation/ABI/testing/sysfs-bus-pci#L344-L355\n",
      "2023-05-18 17:58:29.356625: I tensorflow/core/common_runtime/gpu/gpu_device.cc:1635] Created device /device:GPU:0 with 7096 MB memory:  -> device: 0, name: NVIDIA GeForce GTX 1070 Ti, pci bus id: 0000:01:00.0, compute capability: 6.1\n",
      "2023-05-18 17:58:29.368977: I tensorflow/compiler/xla/stream_executor/cuda/cuda_gpu_executor.cc:996] successful NUMA node read from SysFS had negative value (-1), but there must be at least one NUMA node, so returning NUMA node zero. See more at https://github.com/torvalds/linux/blob/v6.0/Documentation/ABI/testing/sysfs-bus-pci#L344-L355\n",
      "2023-05-18 17:58:29.369519: I tensorflow/compiler/xla/stream_executor/cuda/cuda_gpu_executor.cc:996] successful NUMA node read from SysFS had negative value (-1), but there must be at least one NUMA node, so returning NUMA node zero. See more at https://github.com/torvalds/linux/blob/v6.0/Documentation/ABI/testing/sysfs-bus-pci#L344-L355\n",
      "2023-05-18 17:58:29.369976: I tensorflow/compiler/xla/stream_executor/cuda/cuda_gpu_executor.cc:996] successful NUMA node read from SysFS had negative value (-1), but there must be at least one NUMA node, so returning NUMA node zero. See more at https://github.com/torvalds/linux/blob/v6.0/Documentation/ABI/testing/sysfs-bus-pci#L344-L355\n",
      "2023-05-18 17:58:29.370517: I tensorflow/compiler/xla/stream_executor/cuda/cuda_gpu_executor.cc:996] successful NUMA node read from SysFS had negative value (-1), but there must be at least one NUMA node, so returning NUMA node zero. See more at https://github.com/torvalds/linux/blob/v6.0/Documentation/ABI/testing/sysfs-bus-pci#L344-L355\n",
      "2023-05-18 17:58:29.370976: I tensorflow/compiler/xla/stream_executor/cuda/cuda_gpu_executor.cc:996] successful NUMA node read from SysFS had negative value (-1), but there must be at least one NUMA node, so returning NUMA node zero. See more at https://github.com/torvalds/linux/blob/v6.0/Documentation/ABI/testing/sysfs-bus-pci#L344-L355\n",
      "2023-05-18 17:58:29.371315: I tensorflow/core/common_runtime/gpu/gpu_device.cc:1635] Created device /device:GPU:0 with 7096 MB memory:  -> device: 0, name: NVIDIA GeForce GTX 1070 Ti, pci bus id: 0000:01:00.0, compute capability: 6.1\n",
      "2023-05-18 17:58:29.371732: I tensorflow/compiler/xla/stream_executor/cuda/cuda_gpu_executor.cc:996] successful NUMA node read from SysFS had negative value (-1), but there must be at least one NUMA node, so returning NUMA node zero. See more at https://github.com/torvalds/linux/blob/v6.0/Documentation/ABI/testing/sysfs-bus-pci#L344-L355\n",
      "2023-05-18 17:58:29.372223: I tensorflow/compiler/xla/stream_executor/cuda/cuda_gpu_executor.cc:996] successful NUMA node read from SysFS had negative value (-1), but there must be at least one NUMA node, so returning NUMA node zero. See more at https://github.com/torvalds/linux/blob/v6.0/Documentation/ABI/testing/sysfs-bus-pci#L344-L355\n",
      "2023-05-18 17:58:29.372657: I tensorflow/compiler/xla/stream_executor/cuda/cuda_gpu_executor.cc:996] successful NUMA node read from SysFS had negative value (-1), but there must be at least one NUMA node, so returning NUMA node zero. See more at https://github.com/torvalds/linux/blob/v6.0/Documentation/ABI/testing/sysfs-bus-pci#L344-L355\n",
      "2023-05-18 17:58:29.373172: I tensorflow/compiler/xla/stream_executor/cuda/cuda_gpu_executor.cc:996] successful NUMA node read from SysFS had negative value (-1), but there must be at least one NUMA node, so returning NUMA node zero. See more at https://github.com/torvalds/linux/blob/v6.0/Documentation/ABI/testing/sysfs-bus-pci#L344-L355\n",
      "2023-05-18 17:58:29.373619: I tensorflow/compiler/xla/stream_executor/cuda/cuda_gpu_executor.cc:996] successful NUMA node read from SysFS had negative value (-1), but there must be at least one NUMA node, so returning NUMA node zero. See more at https://github.com/torvalds/linux/blob/v6.0/Documentation/ABI/testing/sysfs-bus-pci#L344-L355\n",
      "2023-05-18 17:58:29.373950: I tensorflow/core/common_runtime/gpu/gpu_device.cc:1635] Created device /device:GPU:0 with 7096 MB memory:  -> device: 0, name: NVIDIA GeForce GTX 1070 Ti, pci bus id: 0000:01:00.0, compute capability: 6.1\n"
     ]
    },
    {
     "name": "stdout",
     "output_type": "stream",
     "text": [
      "No LSB modules are available.\n",
      "Description:\tUbuntu 20.04.5 LTS\n",
      "\n",
      "model name\t: Intel(R) Core(TM) i5-8600K CPU @ 3.60GHz\n",
      "core id\t\t: 0\n",
      "cpu cores\t: 6\n",
      "model name\t: Intel(R) Core(TM) i5-8600K CPU @ 3.60GHz\n",
      "core id\t\t: 1\n",
      "cpu cores\t: 6\n",
      "model name\t: Intel(R) Core(TM) i5-8600K CPU @ 3.60GHz\n",
      "core id\t\t: 2\n",
      "cpu cores\t: 6\n",
      "model name\t: Intel(R) Core(TM) i5-8600K CPU @ 3.60GHz\n",
      "core id\t\t: 3\n",
      "cpu cores\t: 6\n",
      "model name\t: Intel(R) Core(TM) i5-8600K CPU @ 3.60GHz\n",
      "core id\t\t: 4\n",
      "cpu cores\t: 6\n",
      "model name\t: Intel(R) Core(TM) i5-8600K CPU @ 3.60GHz\n",
      "core id\t\t: 5\n",
      "cpu cores\t: 6\n",
      "\n",
      "MemTotal:       16334184 kB\n",
      "MemFree:         6725308 kB\n",
      "MemAvailable:   13324320 kB\n"
     ]
    }
   ],
   "source": [
    "try:\n",
    " device_name = os.environ['COLAB_TPU_ADDR']\n",
    " TPU_ADDRESS = 'grpc://' + device_name\n",
    " print('Found TPU at: {}'.format(TPU_ADDRESS))\n",
    "except KeyError:\n",
    " print('TPU not found')\n",
    "\n",
    "gpu=tf.test.gpu_device_name()\n",
    "if gpu==\"\":\n",
    "  print(\"Computador sem GPU.\")\n",
    "else:\n",
    "  print(\"Computador com GPU:\",tf.test.gpu_device_name())\n",
    "  from tensorflow.python.client import device_lib\n",
    "  devices=device_lib.list_local_devices()\n",
    "  print(\"Dispositivos:\",[x.physical_device_desc for x in devices if x.physical_device_desc!=\"\"])\n",
    "print()\n",
    "\n",
    "!lsb_release -a | grep \"Description\" #imprime qual é o sistema operacional\n",
    "!echo\n",
    "\n",
    "!cat /proc/cpuinfo | grep -E \"model name|core\" #especificações de CPU\n",
    "!echo \n",
    "\n",
    "!cat /proc/meminfo  | grep \"Mem\" #especificações de RAM"
   ]
  },
  {
   "cell_type": "code",
   "execution_count": 4,
   "id": "303c0430",
   "metadata": {},
   "outputs": [],
   "source": [
    "def load_wav(filename):\n",
    "    # Load the WAV file\n",
    "    sample_rate, data = wavfile.read(filename)\n",
    "\n",
    "    # Convert the data to float32 values between -1 and 1\n",
    "    data = np.float32(data / 32767.0)\n",
    "    return data"
   ]
  },
  {
   "cell_type": "code",
   "execution_count": 5,
   "id": "010cc46b",
   "metadata": {},
   "outputs": [],
   "source": [
    "pesq_dataset_path = './BasePESQ'"
   ]
  },
  {
   "cell_type": "code",
   "execution_count": 6,
   "id": "dc6fe85a",
   "metadata": {},
   "outputs": [],
   "source": [
    "# Listar pastas dos sons gerados\n",
    "folders = os.listdir(pesq_dataset_path)"
   ]
  },
  {
   "cell_type": "code",
   "execution_count": 7,
   "id": "10818e35",
   "metadata": {},
   "outputs": [
    {
     "name": "stderr",
     "output_type": "stream",
     "text": [
      "100%|█████████████████████████████████████████████████████████████████████████████████████████████████████████████████████████| 20/20 [01:12<00:00,  3.62s/it]\n"
     ]
    }
   ],
   "source": [
    "# Lista para armazenar os dados de treinamento\n",
    "train_data = []\n",
    "train_labels = []\n",
    "\n",
    "# Loop pelas pastas dos sons gerados\n",
    "for person_folder in tqdm(folders[:20]):\n",
    "    people_folders = os.path.join(pesq_dataset_path, person_folder)\n",
    "    # Lista de todos as pastas de som na pasta atual\n",
    "    person_audios_folders = os.listdir(people_folders)\n",
    "    \n",
    "    for sample_folder in person_audios_folders:\n",
    "        sound_files_folder = os.path.join(people_folders, sample_folder)\n",
    "        sound_files = os.listdir(sound_files_folder)\n",
    "        # Loop pelos arquivos\n",
    "        for file in sound_files: #nível de amostra\n",
    "            sff = os.path.join(sound_files_folder, file)\n",
    "            \n",
    "            original_sound = load_wav(os.path.join(sff, 'original.wav'))\n",
    "            \n",
    "            degraded_sounds = glob(os.path.join(sff, 'PESQ*.wav'))\n",
    "            \n",
    "            for d_sound_path in degraded_sounds:\n",
    "#                 file_path = os.path.join(sff, d_sound)\n",
    "\n",
    "                # Carregar o som\n",
    "                d_sound = load_wav(d_sound_path)\n",
    "                \n",
    "                # Obter o resultado da PESQ a partir do nome do arquivo\n",
    "                pesq_result = float(os.path.basename(d_sound_path).split('_')[1])\n",
    "                \n",
    "                original_sound = original_sound.reshape((6400, 1))\n",
    "                d_sound = d_sound.reshape((6400, 1))\n",
    "                \n",
    "                merged_array = np.concatenate((original_sound, d_sound), axis=1)\n",
    "                # Adicionar os dados de treinamento\n",
    "                train_data.append(merged_array)\n",
    "                train_labels.append(pesq_result)\n",
    "                \n",
    "train_data = np.array(train_data)\n",
    "train_labels = np.array(train_labels).reshape(-1, 1)"
   ]
  },
  {
   "cell_type": "code",
   "execution_count": 8,
   "id": "1ade1f61",
   "metadata": {},
   "outputs": [],
   "source": [
    "min_val = np.min(train_labels)\n",
    "max_val = np.max(train_labels)\n",
    "\n",
    "normalized_labels = (train_labels - min_val) / (max_val - min_val)"
   ]
  },
  {
   "cell_type": "code",
   "execution_count": 9,
   "id": "edae44f8",
   "metadata": {},
   "outputs": [],
   "source": [
    "# Define the proportion of data to use for training, validation, and test\n",
    "train_prop = 0.6\n",
    "val_prop = 0.2\n",
    "test_prop = 0.2"
   ]
  },
  {
   "cell_type": "code",
   "execution_count": 10,
   "id": "3088e9dd",
   "metadata": {},
   "outputs": [],
   "source": [
    "# Split the data and labels into training and test sets\n",
    "X_train, X_test, y_train, y_test = train_test_split(train_data, normalized_labels, test_size=test_prop)\n",
    "\n",
    "# Split the training data and labels into training and validation sets\n",
    "X_train, X_val, y_train, y_val = train_test_split(X_train, y_train, test_size=val_prop/train_prop)"
   ]
  },
  {
   "cell_type": "code",
   "execution_count": 11,
   "id": "aa4db93a",
   "metadata": {},
   "outputs": [
    {
     "name": "stdout",
     "output_type": "stream",
     "text": [
      "(31825, 6400, 2)\n",
      "(31825, 1)\n",
      "(15914, 6400, 2)\n",
      "(15914, 1)\n"
     ]
    }
   ],
   "source": [
    "print(X_train.shape)\n",
    "print(y_train.shape)\n",
    "print(X_val.shape)\n",
    "print(y_val.shape)"
   ]
  },
  {
   "cell_type": "code",
   "execution_count": 12,
   "id": "a9f8a20b",
   "metadata": {},
   "outputs": [
    {
     "name": "stdout",
     "output_type": "stream",
     "text": [
      "1.0\n",
      "1.0\n",
      "1.0\n",
      "1.0\n"
     ]
    }
   ],
   "source": [
    "print(np.max(X_train))\n",
    "print(np.max(y_train))\n",
    "print(np.max(X_val))\n",
    "print(np.max(y_val))"
   ]
  },
  {
   "cell_type": "code",
   "execution_count": 13,
   "id": "59ae6ded",
   "metadata": {},
   "outputs": [
    {
     "name": "stdout",
     "output_type": "stream",
     "text": [
      "-1.0000305\n",
      "0.0\n",
      "-1.0000305\n",
      "0.0\n"
     ]
    }
   ],
   "source": [
    "print(np.min(X_train))\n",
    "print(np.min(y_train))\n",
    "print(np.min(X_val))\n",
    "print(np.min(y_val))"
   ]
  },
  {
   "cell_type": "code",
   "execution_count": 14,
   "id": "8dc475c7",
   "metadata": {},
   "outputs": [],
   "source": [
    "def cnn():\n",
    "    # Define the input shape\n",
    "    input_shape = (6400, 2)\n",
    "\n",
    "    # Define the model architecture\n",
    "    input_layer = Input(shape=input_shape)\n",
    "\n",
    "    conv1 = Conv1D(16, 3, activation='relu')(input_layer)\n",
    "    pool1 = MaxPooling1D(pool_size=2)(conv1)\n",
    "\n",
    "    conv2 = Conv1D(32, 3, activation='relu')(pool1)\n",
    "    pool2 = MaxPooling1D(pool_size=2)(conv2)\n",
    "\n",
    "    flatten = Flatten()(pool2)\n",
    "    dense1 = Dense(64, activation='relu')(flatten)\n",
    "    output_layer = Dense(1, activation='sigmoid')(dense1)\n",
    "\n",
    "    model = Model(inputs=input_layer, outputs=output_layer)\n",
    "    return model"
   ]
  },
  {
   "cell_type": "code",
   "execution_count": 15,
   "id": "05d05974",
   "metadata": {},
   "outputs": [
    {
     "name": "stderr",
     "output_type": "stream",
     "text": [
      "2023-05-18 18:01:48.657357: I tensorflow/compiler/xla/stream_executor/cuda/cuda_gpu_executor.cc:996] successful NUMA node read from SysFS had negative value (-1), but there must be at least one NUMA node, so returning NUMA node zero. See more at https://github.com/torvalds/linux/blob/v6.0/Documentation/ABI/testing/sysfs-bus-pci#L344-L355\n",
      "2023-05-18 18:01:48.735141: I tensorflow/compiler/xla/stream_executor/cuda/cuda_gpu_executor.cc:996] successful NUMA node read from SysFS had negative value (-1), but there must be at least one NUMA node, so returning NUMA node zero. See more at https://github.com/torvalds/linux/blob/v6.0/Documentation/ABI/testing/sysfs-bus-pci#L344-L355\n",
      "2023-05-18 18:01:48.735642: I tensorflow/compiler/xla/stream_executor/cuda/cuda_gpu_executor.cc:996] successful NUMA node read from SysFS had negative value (-1), but there must be at least one NUMA node, so returning NUMA node zero. See more at https://github.com/torvalds/linux/blob/v6.0/Documentation/ABI/testing/sysfs-bus-pci#L344-L355\n",
      "2023-05-18 18:01:48.737256: I tensorflow/compiler/xla/stream_executor/cuda/cuda_gpu_executor.cc:996] successful NUMA node read from SysFS had negative value (-1), but there must be at least one NUMA node, so returning NUMA node zero. See more at https://github.com/torvalds/linux/blob/v6.0/Documentation/ABI/testing/sysfs-bus-pci#L344-L355\n",
      "2023-05-18 18:01:48.737793: I tensorflow/compiler/xla/stream_executor/cuda/cuda_gpu_executor.cc:996] successful NUMA node read from SysFS had negative value (-1), but there must be at least one NUMA node, so returning NUMA node zero. See more at https://github.com/torvalds/linux/blob/v6.0/Documentation/ABI/testing/sysfs-bus-pci#L344-L355\n",
      "2023-05-18 18:01:48.738249: I tensorflow/compiler/xla/stream_executor/cuda/cuda_gpu_executor.cc:996] successful NUMA node read from SysFS had negative value (-1), but there must be at least one NUMA node, so returning NUMA node zero. See more at https://github.com/torvalds/linux/blob/v6.0/Documentation/ABI/testing/sysfs-bus-pci#L344-L355\n",
      "2023-05-18 18:01:48.778758: I tensorflow/compiler/xla/stream_executor/cuda/cuda_gpu_executor.cc:996] successful NUMA node read from SysFS had negative value (-1), but there must be at least one NUMA node, so returning NUMA node zero. See more at https://github.com/torvalds/linux/blob/v6.0/Documentation/ABI/testing/sysfs-bus-pci#L344-L355\n",
      "2023-05-18 18:01:48.779301: I tensorflow/compiler/xla/stream_executor/cuda/cuda_gpu_executor.cc:996] successful NUMA node read from SysFS had negative value (-1), but there must be at least one NUMA node, so returning NUMA node zero. See more at https://github.com/torvalds/linux/blob/v6.0/Documentation/ABI/testing/sysfs-bus-pci#L344-L355\n",
      "2023-05-18 18:01:48.779687: I tensorflow/core/common_runtime/gpu/gpu_device.cc:1635] Created device /job:localhost/replica:0/task:0/device:GPU:0 with 7096 MB memory:  -> device: 0, name: NVIDIA GeForce GTX 1070 Ti, pci bus id: 0000:01:00.0, compute capability: 6.1\n"
     ]
    }
   ],
   "source": [
    "model = cnn()"
   ]
  },
  {
   "cell_type": "code",
   "execution_count": 16,
   "id": "07750732",
   "metadata": {},
   "outputs": [
    {
     "name": "stdout",
     "output_type": "stream",
     "text": [
      "Model: \"model\"\n",
      "_________________________________________________________________\n",
      " Layer (type)                Output Shape              Param #   \n",
      "=================================================================\n",
      " input_1 (InputLayer)        [(None, 6400, 2)]         0         \n",
      "                                                                 \n",
      " conv1d (Conv1D)             (None, 6398, 16)          112       \n",
      "                                                                 \n",
      " max_pooling1d (MaxPooling1D  (None, 3199, 16)         0         \n",
      " )                                                               \n",
      "                                                                 \n",
      " conv1d_1 (Conv1D)           (None, 3197, 32)          1568      \n",
      "                                                                 \n",
      " max_pooling1d_1 (MaxPooling  (None, 1598, 32)         0         \n",
      " 1D)                                                             \n",
      "                                                                 \n",
      " flatten (Flatten)           (None, 51136)             0         \n",
      "                                                                 \n",
      " dense (Dense)               (None, 64)                3272768   \n",
      "                                                                 \n",
      " dense_1 (Dense)             (None, 1)                 65        \n",
      "                                                                 \n",
      "=================================================================\n",
      "Total params: 3,274,513\n",
      "Trainable params: 3,274,513\n",
      "Non-trainable params: 0\n",
      "_________________________________________________________________\n"
     ]
    }
   ],
   "source": [
    "model.summary()"
   ]
  },
  {
   "cell_type": "code",
   "execution_count": 17,
   "id": "f7906a31",
   "metadata": {},
   "outputs": [],
   "source": [
    "class PlotLossesCallback(tf.keras.callbacks.Callback):\n",
    "    def on_train_begin(self, logs={}):\n",
    "        self.losses = []\n",
    "        self.val_losses = []\n",
    "        self.epochs = 0\n",
    "        self.fig, self.ax = plt.subplots()\n",
    "\n",
    "    def on_epoch_end(self, epoch, logs={}):\n",
    "        self.losses.append(logs.get('loss'))\n",
    "        self.val_losses.append(logs.get('val_loss'))\n",
    "        self.epochs += 1\n",
    "\n",
    "        self.ax.clear()\n",
    "        self.ax.plot(range(1, self.epochs+1), self.losses, label='training')\n",
    "        self.ax.plot(range(1, self.epochs+1), self.val_losses, label='validation')\n",
    "        self.ax.legend()\n",
    "        self.ax.set_xlabel('Epoch')\n",
    "        self.ax.set_ylabel('Loss')\n",
    "        self.ax.set_title('Training and Validation Loss')"
   ]
  },
  {
   "cell_type": "code",
   "execution_count": 18,
   "id": "992cedd8",
   "metadata": {},
   "outputs": [
    {
     "name": "stderr",
     "output_type": "stream",
     "text": [
      "2023-05-18 18:02:02.911028: W tensorflow/tsl/framework/cpu_allocator_impl.cc:83] Allocation of 1629440000 exceeds 10% of free system memory.\n",
      "2023-05-18 18:02:04.064843: W tensorflow/tsl/framework/cpu_allocator_impl.cc:83] Allocation of 1629440000 exceeds 10% of free system memory.\n"
     ]
    },
    {
     "name": "stdout",
     "output_type": "stream",
     "text": [
      "Epoch 1/10\n"
     ]
    },
    {
     "name": "stderr",
     "output_type": "stream",
     "text": [
      "2023-05-18 18:02:14.395279: I tensorflow/compiler/xla/stream_executor/cuda/cuda_dnn.cc:424] Loaded cuDNN version 8600\n",
      "2023-05-18 18:02:26.262533: I tensorflow/compiler/xla/service/service.cc:169] XLA service 0x7f1504004200 initialized for platform CUDA (this does not guarantee that XLA will be used). Devices:\n",
      "2023-05-18 18:02:26.262633: I tensorflow/compiler/xla/service/service.cc:177]   StreamExecutor device (0): NVIDIA GeForce GTX 1070 Ti, Compute Capability 6.1\n",
      "2023-05-18 18:02:27.123623: I tensorflow/compiler/mlir/tensorflow/utils/dump_mlir_util.cc:269] disabling MLIR crash reproducer, set env var `MLIR_CRASH_REPRODUCER_DIRECTORY` to enable.\n",
      "2023-05-18 18:02:30.130745: I ./tensorflow/compiler/jit/device_compiler.h:180] Compiled cluster using XLA!  This line is logged at most once for the lifetime of the process.\n"
     ]
    },
    {
     "name": "stdout",
     "output_type": "stream",
     "text": [
      "498/498 [==============================] - ETA: 0s - loss: 0.0209"
     ]
    },
    {
     "name": "stderr",
     "output_type": "stream",
     "text": [
      "2023-05-18 18:02:41.690731: W tensorflow/tsl/framework/cpu_allocator_impl.cc:83] Allocation of 814796800 exceeds 10% of free system memory.\n",
      "2023-05-18 18:02:48.132742: W tensorflow/tsl/framework/cpu_allocator_impl.cc:83] Allocation of 814796800 exceeds 10% of free system memory.\n"
     ]
    },
    {
     "name": "stdout",
     "output_type": "stream",
     "text": [
      "498/498 [==============================] - 53s 50ms/step - loss: 0.0209 - val_loss: 0.0095\n",
      "Epoch 2/10\n",
      "498/498 [==============================] - 9s 18ms/step - loss: 0.0089 - val_loss: 0.0071\n",
      "Epoch 3/10\n",
      "498/498 [==============================] - 9s 18ms/step - loss: 0.0054 - val_loss: 0.0034\n",
      "Epoch 4/10\n",
      "498/498 [==============================] - 10s 20ms/step - loss: 0.0029 - val_loss: 0.0020\n",
      "Epoch 5/10\n",
      "498/498 [==============================] - 9s 19ms/step - loss: 0.0019 - val_loss: 0.0014\n",
      "Epoch 6/10\n",
      "498/498 [==============================] - 9s 18ms/step - loss: 0.0020 - val_loss: 0.0014\n",
      "Epoch 7/10\n",
      "498/498 [==============================] - 9s 18ms/step - loss: 0.0011 - val_loss: 0.0011\n",
      "Epoch 8/10\n",
      "498/498 [==============================] - 9s 18ms/step - loss: 0.0015 - val_loss: 0.0011\n",
      "Epoch 9/10\n",
      "498/498 [==============================] - 9s 18ms/step - loss: 0.0019 - val_loss: 0.0018\n",
      "Epoch 10/10\n",
      "498/498 [==============================] - 9s 18ms/step - loss: 0.0015 - val_loss: 0.0010\n"
     ]
    },
    {
     "name": "stderr",
     "output_type": "stream",
     "text": [
      "2023-05-18 18:04:20.930193: W tensorflow/tsl/framework/cpu_allocator_impl.cc:83] Allocation of 611072000 exceeds 10% of free system memory.\n"
     ]
    },
    {
     "name": "stdout",
     "output_type": "stream",
     "text": [
      "0.0009738794178701937\n"
     ]
    },
    {
     "data": {
      "image/png": "[encoded data removed]",
      "text/plain": [
       "<Figure size 640x480 with 1 Axes>"
      ]
     },
     "metadata": {},
     "output_type": "display_data"
    }
   ],
   "source": [
    "model.compile(optimizer='adam', loss='mse',)\n",
    "model.fit(X_train, y_train, epochs=10, batch_size=64, validation_data=(X_val, y_val), callbacks=[PlotLossesCallback()])\n",
    "\n",
    "score = model.evaluate(X_test, y_test, verbose=0)\n",
    "print(score)\n",
    "model.save('pesq.h5')"
   ]
  }
 ],
 "metadata": {
  "kernelspec": {
   "display_name": "Python 3 (ipykernel)",
   "language": "python",
   "name": "python3"
  },
  "language_info": {
   "codemirror_mode": {
    "name": "ipython",
    "version": 3
   },
   "file_extension": ".py",
   "mimetype": "text/x-python",
   "name": "python",
   "nbconvert_exporter": "python",
   "pygments_lexer": "ipython3",
   "version": "3.8.10"
  }
 },
 "nbformat": 4,
 "nbformat_minor": 5
}
